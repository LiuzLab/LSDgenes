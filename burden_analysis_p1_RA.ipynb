{
 "cells": [
  {
   "cell_type": "markdown",
   "metadata": {},
   "source": [
    "# Libraries"
   ]
  },
  {
   "cell_type": "code",
   "execution_count": 9,
   "metadata": {},
   "outputs": [
    {
     "name": "stdout",
     "output_type": "stream",
     "text": [
      "3.7.9\n",
      "finsihed loading libraries\n"
     ]
    }
   ],
   "source": [
    "#Use the os package to interact with the environment\n",
    "import os\n",
    "\n",
    "#Use the sys package to interact with stderr \n",
    "import sys\n",
    "\n",
    "#Use the FireCloud API to interact with the workspace from firecloud \n",
    "import api as fapi\n",
    "\n",
    "#Use the BigQuery client library instead of pandas-gbq for greater control over query jobs from google.cloud \n",
    "import bigquery\n",
    "\n",
    "#Import the iPython HTML rendering for displaying links to Google Cloud Console from IPython.core.display \n",
    "#import display, HTML\n",
    "\n",
    "#Import urllib modules for building URLs to Google Cloud Console \n",
    "import urllib.parse\n",
    "\n",
    "#Bring in Pandas for Dataframe functionality \n",
    "import pandas as pd\n",
    "\n",
    "import time\n",
    "from platform import python_version\n",
    "\n",
    "print(python_version())\n",
    "print('finsihed loading libraries')"
   ]
  },
  {
   "cell_type": "markdown",
   "metadata": {},
   "source": [
    "# Utility functions"
   ]
  },
  {
   "cell_type": "code",
   "execution_count": 16,
   "metadata": {},
   "outputs": [
    {
     "name": "stdout",
     "output_type": "stream",
     "text": [
      "finished\n"
     ]
    }
   ],
   "source": [
    "# Utility routine for display a message and a link\n",
    "def display_html_link(description, link_text, url):\n",
    "    html = f'''\n",
    "    <p>\n",
    "    </p>\n",
    "    <p>\n",
    "    {description}\n",
    "    <a target=_blank href=\"{url}\">{link_text}</a>.\n",
    "    </p>\n",
    "    '''\n",
    "\n",
    "    display(HTML(html))\n",
    "\n",
    "# Utility routine for displaying a message and link to Cloud Console\n",
    "def link_to_cloud_console_bq(description, link_text, bq_dataset, bq_table=None):\n",
    "    project, dataset = bq_dataset.split('.', 1)\n",
    "    if bq_table:\n",
    "        page_params = {'page': 'table', 'p': project, 'd': dataset, 't': bq_table}\n",
    "    else:\n",
    "        page_params = {'page': 'dataset', 'p': project, 'd': dataset}\n",
    "    \n",
    "    url = '{}?{}'.format(\n",
    "        'https://console.cloud.google.com/bigquery',\n",
    "        urllib.parse.urlencode(page_params))\n",
    "\n",
    "    display_html_link(description, link_text, url)\n",
    "    \n",
    "# Utility routine for printing a shell command before executing it\n",
    "def shell_do(command):\n",
    "    print(f'Executing: {command}')\n",
    "    !$command\n",
    "\n",
    "# Utility routines for reading files from Google Cloud Storage\n",
    "def gcs_read_file(path):\n",
    "    \"\"\"Return the contents of a file in GCS\"\"\"\n",
    "    contents = !gsutil -u {BILLING_PROJECT_ID} cat {path}\n",
    "    return '\\n'.join(contents)\n",
    "    \n",
    "def gcs_read_csv(path, sep=None):\n",
    "    \"\"\"Return a DataFrame from the contents of a delimited file in GCS\"\"\"\n",
    "    return pd.read_csv(StringIO(gcs_read_file(path)), sep=sep, engine='python')\n",
    "\n",
    "# Utility routine for display a message and a link\n",
    "def display_html_link(description, link_text, url):\n",
    "    html = f'''\n",
    "    <p>\n",
    "    </p>\n",
    "    <p>\n",
    "    {description}\n",
    "    <a target=_blank href=\"{url}\">{link_text}</a>.\n",
    "    </p>\n",
    "    '''\n",
    "\n",
    "    display(HTML(html))\n",
    "    \n",
    "# Utility routine for displaying a message and link to Cloud Console\n",
    "def link_to_cloud_console_gcs(description, link_text, gcs_path):\n",
    "    url = '{}?{}'.format(\n",
    "        os.path.join('https://console.cloud.google.com/storage/browser',\n",
    "                     gcs_path.replace(\"gs://\",\"\")),\n",
    "        urllib.parse.urlencode({'userProject': BILLING_PROJECT_ID}))\n",
    "\n",
    "    display_html_link(description, link_text, url)\n",
    "    \n",
    "# Get the data from a query\n",
    "def bq_query(query):\n",
    "    \"\"\"Return the contents of a query against BigQuery\"\"\"\n",
    "    return pd.read_gbq(\n",
    "        query,\n",
    "        project_id=BILLING_PROJECT_ID,\n",
    "        dialect='standard')\n",
    "\n",
    "print('finished')"
   ]
  },
  {
   "cell_type": "markdown",
   "metadata": {},
   "source": [
    "# Global"
   ]
  },
  {
   "cell_type": "code",
   "execution_count": 18,
   "metadata": {
    "code_folding": []
   },
   "outputs": [
    {
     "name": "stdout",
     "output_type": "stream",
     "text": [
      "larobak11\n",
      "gs://fc-secure-faef21d4-0ae2-4dfa-a025-d9292ca13bf5\n",
      "gs://amp-pd-data/releases/2019_v1release_1015/clinical\n",
      "finsihed\n"
     ]
    }
   ],
   "source": [
    "BILLING_PROJECT_ID = os.environ['GOOGLE_PROJECT']\n",
    "WORKSPACE_NAMESPACE = os.environ['WORKSPACE_NAMESPACE']\n",
    "WORKSPACE_NAME = os.environ['WORKSPACE_NAME']\n",
    "WORKSPACE_BUCKET = os.environ['WORKSPACE_BUCKET']\n",
    "\n",
    "\n",
    "#WORKSPACE_ATTRIBUTES = fapi.get_workspace(WORKSPACE_NAMESPACE, WORKSPACE_NAME).json().get('workspace',{}).get('attributes',{})\n",
    "if 1:\n",
    "    GS_RELEASE_PATH = 'gs://amp-pd-data/releases/2019_v1release_1015'\n",
    "    GS_CLINICAL_RELEASE_PATH = f'{GS_RELEASE_PATH}/clinical'\n",
    "\n",
    "    GS_WGS_RELEASE_PATH = 'gs://amp-pd-genomics/releases/2019_v1release_1015/wgs'\n",
    "    GS_WGS_RELEASE_PLINK_PATH = os.path.join(GS_WGS_RELEASE_PATH, 'plink')\n",
    "    GS_WGS_RELEASE_GATK_PATH = os.path.join(GS_WGS_RELEASE_PATH, 'gatk')\n",
    "\n",
    "    BQ_RELEASE_DATASET = 'amp-pd-research.2019_v1release_1015'\n",
    "    \n",
    "    BQ_WGS_RELEASE_DATASET = BQ_RELEASE_DATASET\n",
    "    BQ_WGS_RELEASE_DATASET_STD = BQ_WGS_RELEASE_DATASET.replace(':', '.')\n",
    "    \n",
    "    #output\n",
    "    #BQ_TIER1_RELEASE_DATASET_STD = amp-pd-research.2019_v1release_1015\n",
    "    #BQ_TIER2_RELEASE_DATASET_STD = amp-pd-research.2019_v1release_1015_tier2\n",
    "    #BQ_WGS_RELEASE_DATASET_STD = amp-pd-research.2019_v1release_1015_genomics\n",
    "\n",
    "    print(BILLING_PROJECT_ID)\n",
    "    print(WORKSPACE_BUCKET)\n",
    "    print(GS_CLINICAL_RELEASE_PATH)\n",
    "    #print(GS_WGS_RELEASE_PLINK_PATH)\n",
    "    #print(GS_WGS_RELEASE_GATK_PATH)\n",
    "\n",
    "googleGSId='fc-secure-faef21d4-0ae2-4dfa-a025-d9292ca13bf5'    \n",
    "    \n",
    "print('finsihed')"
   ]
  },
  {
   "cell_type": "code",
   "execution_count": 19,
   "metadata": {},
   "outputs": [
    {
     "name": "stdout",
     "output_type": "stream",
     "text": [
      "Executing: pwd\n",
      "/home/jupyter-user/notebooks/LSDProject/edit\n"
     ]
    }
   ],
   "source": [
    "cmd='pwd'\n",
    "shell_do(cmd)"
   ]
  },
  {
   "cell_type": "code",
   "execution_count": 11,
   "metadata": {},
   "outputs": [
    {
     "name": "stdout",
     "output_type": "stream",
     "text": [
      "dataDir: /home/jupyter-user/notebooks/LSDProject/data/\n",
      "toolsDir: /home/jupyter-user/notebooks/LSDProject/tools/\n"
     ]
    }
   ],
   "source": [
    "#make a new directory for data using the command line\n",
    "dataDir='/home/jupyter-user/notebooks/LSDProject/data/'\n",
    "if not os.path.exists(dataDir):\n",
    "    os.makedirs(dataDir)\n",
    "#make a tools directory\n",
    "toolsDir='/home/jupyter-user/notebooks/LSDProject/tools/'\n",
    "if not os.path.exists(toolsDir):\n",
    "    os.makedirs(toolsDir)\n",
    "print('dataDir:', dataDir)\n",
    "print('toolsDir:', toolsDir)\n",
    "\n",
    "#install plink if not already\n",
    "plinkCmd=toolsDir+'plink'\n",
    "if os.path.isfile(plinkCmd) == False:\n",
    "    print('plink cmd not found')\n",
    "    cmd='wget http://s3.amazonaws.com/plink1-assets/plink_linux_x86_64_20190304.zip -P ' + toolsDir\n",
    "    print('cmd:', cmd)\n",
    "    shell_do(cmd)"
   ]
  },
  {
   "cell_type": "markdown",
   "metadata": {},
   "source": [
    "# Copy AMP-PD plink files"
   ]
  },
  {
   "cell_type": "code",
   "execution_count": 8,
   "metadata": {},
   "outputs": [
    {
     "name": "stdout",
     "output_type": "stream",
     "text": [
      "cmd: gsutil -u larobak11 cp gs://amp-pd-genomics/releases/2019_v1release_1015/wgs/plink/bfile/all_vcfs* /home/jupyter-user/notebooks/LSDProject/data/\n",
      "Executing: gsutil -u larobak11 cp gs://amp-pd-genomics/releases/2019_v1release_1015/wgs/plink/bfile/all_vcfs* /home/jupyter-user/notebooks/LSDProject/data/\n",
      "Copying gs://amp-pd-genomics/releases/2019_v1release_1015/wgs/plink/bfile/all_vcfs.bed...\n",
      "==> NOTE: You are downloading one or more large file(s), which would            \n",
      "run significantly faster if you enabled sliced object downloads. This\n",
      "feature is enabled by default but requires that compiled crcmod be\n",
      "installed (see \"gsutil help crcmod\").\n",
      "\n",
      "Copying gs://amp-pd-genomics/releases/2019_v1release_1015/wgs/plink/bfile/all_vcfs.bim...\n",
      "Copying gs://amp-pd-genomics/releases/2019_v1release_1015/wgs/plink/bfile/all_vcfs.fam...\n",
      "Copying gs://amp-pd-genomics/releases/2019_v1release_1015/wgs/plink/bfile/all_vcfs.log...\n",
      "- [4 files][ 21.4 GiB/ 21.4 GiB]    5.7 MiB/s                                   \n",
      "Operation completed over 4 objects/21.4 GiB.                                     \n"
     ]
    }
   ],
   "source": [
    "cmd=f'gsutil -u {BILLING_PROJECT_ID} cp {GS_WGS_RELEASE_PLINK_PATH}/bfile/all_vcfs* {dataDir}'\n",
    "print('cmd:', cmd)\n",
    "shell_do(cmd)"
   ]
  },
  {
   "cell_type": "code",
   "execution_count": 6,
   "metadata": {},
   "outputs": [
    {
     "name": "stdout",
     "output_type": "stream",
     "text": [
      "cmd: gsutil -u larobak11 ls gs://amp-pd-genomics/releases/2019_v1release_1015/wgs/plink/bfile/\n",
      "Executing: gsutil -u larobak11 ls gs://amp-pd-genomics/releases/2019_v1release_1015/wgs/plink/bfile/\n",
      "gs://amp-pd-genomics/releases/2019_v1release_1015/wgs/plink/bfile/README.txt\n",
      "gs://amp-pd-genomics/releases/2019_v1release_1015/wgs/plink/bfile/all_vcfs.bed\n",
      "gs://amp-pd-genomics/releases/2019_v1release_1015/wgs/plink/bfile/all_vcfs.bim\n",
      "gs://amp-pd-genomics/releases/2019_v1release_1015/wgs/plink/bfile/all_vcfs.fam\n",
      "gs://amp-pd-genomics/releases/2019_v1release_1015/wgs/plink/bfile/all_vcfs.log\n"
     ]
    }
   ],
   "source": [
    "#just checking here\n",
    "#copy vcf files\n",
    "#shell_do(f'gsutil -u {BILLING_PROJECT_ID} ls {GS_WGS_RELEASE_PATH}')\n",
    "#shell_do(f'gsutil -u {BILLING_PROJECT_ID} ls {GS_WGS_RELEASE_GATK_PATH}')\n",
    "#shell_do(f'gsutil -u {BILLING_PROJECT_ID} ls gs://amp-pd-genomics/releases/2019_v1release_1015/wgs/plink/bfile')\n",
    "#make a directory similar to github\n",
    "#shell_do(f'gsutil -mu {BILLING_PROJECT_ID} cp {GS_WGS_RELEASE_PLINK_PATH}/bfile/all_vcfs* ~/bin/data_temp')\n",
    "\n",
    "#ORIG\n",
    "#cmd=f'gsutil -u {BILLING_PROJECT_ID} cp {GS_WGS_RELEASE_PLINK_PATH}/bfile/all_vcfs* {dataDir}'\n",
    "#cmd=f'gsutil -u {BILLING_PROJECT_ID} ls gs://amp-pd-data/releases/2019_v1release_1015/'\n",
    "#print('cmd:', cmd)\n",
    "#shell_do(cmd)\n",
    "\n",
    "GS_WGS_RELEASE_PATH = 'gs://amp-pd-genomics/releases/2019_v1release_1015/wgs'\n",
    "#cmd=f'gsutil -u {BILLING_PROJECT_ID} cp {GS_WGS_RELEASE_PLINK_PATH}/bfile/all_vcfs* {dataDir}'\n",
    "#cmd=f'gsutil -u {BILLING_PROJECT_ID} ls gs://amp-pd-genomics/releases/2019_v1release_1015/wgs/'\n",
    "cmd=f'gsutil -u {BILLING_PROJECT_ID} ls gs://amp-pd-genomics/releases/2019_v1release_1015/wgs/plink/bfile/'\n",
    "print('cmd:', cmd)\n",
    "shell_do(cmd)\n",
    "\n",
    "#gs://amp-pd-genomics/releases/2019_v1release_1015/wgs/gatk/vcf/\n",
    "\n",
    "#gs://amp-pd-genomics/releases/\n",
    "#amp-pd-research.2019_v1release_1015\n",
    "#cmd=f'gsutil -u {BILLING_PROJECT_ID} cp gs://amp-pd-data/releases/2019_v1release_1015/wgs_gatk_joint_genotyping_samples.csv {dataDir}'\n",
    "#print('cmd:', cmd)\n",
    "#shell_do(cmd)\n",
    "\n",
    "#copy to bucket\n",
    "#shell_do(f'gsutil -u {BILLING_PROJECT_ID} cp gs://amp-pd-data/releases/2019_v1release_1015/wgs_sample_inventory.csv {WORKSPACE_BUCKET}')\n",
    "#print('finished copying')\n",
    "#shell_do(f'gsutil -u {BILLING_PROJECT_ID} cp {GS_WGS_RELEASE_PLINK_PATH}/bfile/all_vcfs* {dataDir}')\n",
    "#print('Done !!')\n",
    "\n",
    "\n",
    "#shell_do(f'gsutil -u {BILLING_PROJECT_ID} cp gs://amp-pd-data/releases/2019_v1release_1015/clinical/UPSIT_dictionary.csv {dataDir}')\n",
    "#print('finished')"
   ]
  },
  {
   "cell_type": "markdown",
   "metadata": {},
   "source": [
    "# Set covars"
   ]
  },
  {
   "cell_type": "code",
   "execution_count": 20,
   "metadata": {},
   "outputs": [
    {
     "name": "stderr",
     "output_type": "stream",
     "text": [
      "Downloading: 100%|██████████| 4298/4298 [00:01<00:00, 3405.86rows/s]\n"
     ]
    },
    {
     "name": "stdout",
     "output_type": "stream",
     "text": [
      "<class 'pandas.core.frame.DataFrame'>\n",
      "  participant_id   sex  age_at_baseline   race\n",
      "0       PP-41564  Male               22  White\n",
      "1  PD-PDZV843ATF  Male               24  White\n",
      "2  PD-PDCK871NBR  Male               24  White\n",
      "3       PP-51718  Male               25  White\n",
      "4       PP-56267  Male               25  White\n"
     ]
    },
    {
     "name": "stderr",
     "output_type": "stream",
     "text": [
      "Downloading: 100%|██████████| 4298/4298 [00:01<00:00, 3403.09rows/s]\n"
     ]
    },
    {
     "data": {
      "text/html": [
       "<div>\n",
       "<style scoped>\n",
       "    .dataframe tbody tr th:only-of-type {\n",
       "        vertical-align: middle;\n",
       "    }\n",
       "\n",
       "    .dataframe tbody tr th {\n",
       "        vertical-align: top;\n",
       "    }\n",
       "\n",
       "    .dataframe thead th {\n",
       "        text-align: right;\n",
       "    }\n",
       "</style>\n",
       "<table border=\"1\" class=\"dataframe\">\n",
       "  <thead>\n",
       "    <tr style=\"text-align: right;\">\n",
       "      <th></th>\n",
       "      <th>participant_id</th>\n",
       "      <th>diagnosis_at_baseline</th>\n",
       "      <th>diagnosis_latest</th>\n",
       "      <th>case_control_other_at_baseline</th>\n",
       "      <th>case_control_other_latest</th>\n",
       "    </tr>\n",
       "  </thead>\n",
       "  <tbody>\n",
       "    <tr>\n",
       "      <th>0</th>\n",
       "      <td>PD-PDAB597LKL</td>\n",
       "      <td>Parkinsonism</td>\n",
       "      <td>Parkinsonism</td>\n",
       "      <td>Other</td>\n",
       "      <td>Other</td>\n",
       "    </tr>\n",
       "    <tr>\n",
       "      <th>1</th>\n",
       "      <td>PD-PDCT406CN9</td>\n",
       "      <td>Parkinsonism</td>\n",
       "      <td>Parkinsonism</td>\n",
       "      <td>Other</td>\n",
       "      <td>Other</td>\n",
       "    </tr>\n",
       "    <tr>\n",
       "      <th>2</th>\n",
       "      <td>PP-54461</td>\n",
       "      <td>Prodromal motor PD</td>\n",
       "      <td>Idiopathic PD</td>\n",
       "      <td>Other</td>\n",
       "      <td>Case</td>\n",
       "    </tr>\n",
       "    <tr>\n",
       "      <th>3</th>\n",
       "      <td>PP-54215</td>\n",
       "      <td>Prodromal motor PD</td>\n",
       "      <td>Idiopathic PD</td>\n",
       "      <td>Other</td>\n",
       "      <td>Case</td>\n",
       "    </tr>\n",
       "    <tr>\n",
       "      <th>4</th>\n",
       "      <td>PP-18567</td>\n",
       "      <td>Prodromal motor PD</td>\n",
       "      <td>Idiopathic PD</td>\n",
       "      <td>Other</td>\n",
       "      <td>Case</td>\n",
       "    </tr>\n",
       "  </tbody>\n",
       "</table>\n",
       "</div>"
      ],
      "text/plain": [
       "  participant_id diagnosis_at_baseline diagnosis_latest  \\\n",
       "0  PD-PDAB597LKL          Parkinsonism     Parkinsonism   \n",
       "1  PD-PDCT406CN9          Parkinsonism     Parkinsonism   \n",
       "2       PP-54461    Prodromal motor PD    Idiopathic PD   \n",
       "3       PP-54215    Prodromal motor PD    Idiopathic PD   \n",
       "4       PP-18567    Prodromal motor PD    Idiopathic PD   \n",
       "\n",
       "  case_control_other_at_baseline case_control_other_latest  \n",
       "0                          Other                     Other  \n",
       "1                          Other                     Other  \n",
       "2                          Other                      Case  \n",
       "3                          Other                      Case  \n",
       "4                          Other                      Case  "
      ]
     },
     "execution_count": 20,
     "metadata": {},
     "output_type": "execute_result"
    }
   ],
   "source": [
    "covariates = f\"\"\"\n",
    "\n",
    "SELECT \n",
    "participant_id, sex, age_at_baseline, race\n",
    "\n",
    "FROM `{BQ_RELEASE_DATASET}.Demographics`\n",
    "\n",
    "\"\"\"\n",
    "\n",
    "covs = bq_query(covariates)\n",
    "#dim\n",
    "print(type(covs))\n",
    "print(covs.head())\n",
    "#covs.shape\n",
    "\n",
    "#pheno\n",
    "phenotype = f\"\"\"\n",
    "\n",
    "SELECT \n",
    "* \n",
    "\n",
    "FROM `{BQ_RELEASE_DATASET}.amp_pd_case_control`\n",
    "\n",
    "\"\"\"\n",
    "\n",
    "pheno = bq_query(phenotype)\n",
    "pheno.head()\n"
   ]
  },
  {
   "cell_type": "markdown",
   "metadata": {},
   "source": [
    "# Check clinical to get study ID"
   ]
  },
  {
   "cell_type": "code",
   "execution_count": 24,
   "metadata": {},
   "outputs": [
    {
     "name": "stderr",
     "output_type": "stream",
     "text": [
      "Downloading: 100%|██████████| 4298/4298 [00:01<00:00, 2867.45rows/s]"
     ]
    },
    {
     "name": "stdout",
     "output_type": "stream",
     "text": [
      "      participant_id            guid study study_participant_id\n",
      "0  HB-PD_INVAA223GY7  PD_INVAA223GY7   HBS       PD_INVAA223GY7\n",
      "1  HB-PD_INVAA769TBF  PD_INVAA769TBF   HBS       PD_INVAA769TBF\n",
      "2  HB-PD_INVAB465GYE  PD_INVAB465GYE   HBS       PD_INVAB465GYE\n",
      "3  HB-PD_INVAC618MF7  PD_INVAC618MF7   HBS       PD_INVAC618MF7\n",
      "4  HB-PD_INVAD033HX2  PD_INVAD033HX2   HBS       PD_INVAD033HX2\n",
      "(4298, 4)\n",
      "Done\n"
     ]
    },
    {
     "name": "stderr",
     "output_type": "stream",
     "text": [
      "\n"
     ]
    }
   ],
   "source": [
    "covariates = f\"\"\"\n",
    "\n",
    "SELECT \n",
    "*\n",
    "\n",
    "FROM `{BQ_RELEASE_DATASET}.amp_pd_participants`\n",
    "\n",
    "\"\"\"\n",
    "\n",
    "clinCov = bq_query(covariates)\n",
    "print(clinCov.head())\n",
    "print(clinCov.shape)\n",
    "\n",
    "print('Done')"
   ]
  },
  {
   "cell_type": "code",
   "execution_count": 11,
   "metadata": {
    "code_folding": [
     23,
     34
    ]
   },
   "outputs": [
    {
     "name": "stdout",
     "output_type": "stream",
     "text": [
      "covs:\n",
      "   participant_id   sex  age_at_baseline   race\n",
      "0       PP-41564  Male               22  White\n",
      "1  PD-PDZV843ATF  Male               24  White\n",
      "2  PD-PDCK871NBR  Male               24  White\n",
      "3       PP-51718  Male               25  White\n",
      "4       PP-56267  Male               25  White\n",
      "covsp:\n",
      "              FID            IID sex  AgeBaseLine   race\n",
      "0       PP-41564       PP-41564   1           22  White\n",
      "1  PD-PDZV843ATF  PD-PDZV843ATF   1           24  White\n",
      "2  PD-PDCK871NBR  PD-PDCK871NBR   1           24  White\n",
      "3       PP-51718       PP-51718   1           25  White\n",
      "4       PP-56267       PP-56267   1           25  White\n",
      "(4298, 5)\n",
      "finished\n"
     ]
    },
    {
     "name": "stderr",
     "output_type": "stream",
     "text": [
      "/usr/local/lib/python3.7/dist-packages/ipykernel_launcher.py:20: SettingWithCopyWarning: \n",
      "A value is trying to be set on a copy of a slice from a DataFrame\n",
      "\n",
      "See the caveats in the documentation: http://pandas.pydata.org/pandas-docs/stable/user_guide/indexing.html#returning-a-view-versus-a-copy\n",
      "/usr/local/lib/python3.7/dist-packages/ipykernel_launcher.py:21: SettingWithCopyWarning: \n",
      "A value is trying to be set on a copy of a slice from a DataFrame\n",
      "\n",
      "See the caveats in the documentation: http://pandas.pydata.org/pandas-docs/stable/user_guide/indexing.html#returning-a-view-versus-a-copy\n"
     ]
    }
   ],
   "source": [
    "#set up covs in plink format\n",
    "print('covs:\\n', covs.head())\n",
    "covsp=pd.DataFrame()\n",
    "covsp['FID']=covs['participant_id']\n",
    "covsp['IID']=covs['participant_id']\n",
    "covsp['sex']=covs['sex']\n",
    "covsp['AgeBaseLine']=covs['age_at_baseline']\n",
    "covsp['race']=covs['race']\n",
    "covsp.sex[(covsp.sex == \"Male\")] = 1\n",
    "covsp.sex[(covsp.sex == \"Female\")] = 2\n",
    "print('covsp:\\n', covsp.head())\n",
    "print(covsp.shape)\n",
    "    \n",
    "print('finished')"
   ]
  },
  {
   "cell_type": "code",
   "execution_count": 12,
   "metadata": {},
   "outputs": [
    {
     "name": "stdout",
     "output_type": "stream",
     "text": [
      "(4005, 3)\n"
     ]
    }
   ],
   "source": [
    "#set up pheno\n",
    "phenop = pheno\n",
    "phenop['IID'] = phenop['participant_id']\n",
    "phenop = phenop[['participant_id', 'IID', 'case_control_other_latest']]\n",
    "phenop.columns = ['FID','IID', 'PHENO']\n",
    "phenop = phenop[(phenop.PHENO != 'Other')]\n",
    "phenop.PHENO[(phenop.PHENO == \"Case\")] = 2\n",
    "phenop.PHENO[(phenop.PHENO == \"Control\")] = 1\n",
    "\n",
    "phenop.head()\n",
    "print(phenop.shape)"
   ]
  },
  {
   "cell_type": "code",
   "execution_count": 15,
   "metadata": {},
   "outputs": [
    {
     "name": "stdout",
     "output_type": "stream",
     "text": [
      "finished\n"
     ]
    }
   ],
   "source": [
    "#write\n",
    "plinkCovsFile=dataDir+ 'plink_covs.tab'\n",
    "plinkPhenoFile=dataDir+'plink_pheno.tab'\n",
    "with open(plinkCovsFile, 'w') as f:\n",
    "    f.write(covsp.to_csv(index=False, sep='\\t'))\n",
    "    \n",
    "with open(plinkPhenoFile, 'w') as f:\n",
    "    f.write(phenop.to_csv(index=False, sep='\\t'))\n",
    "    \n",
    "print('finished')"
   ]
  },
  {
   "cell_type": "code",
   "execution_count": 18,
   "metadata": {},
   "outputs": [
    {
     "name": "stdout",
     "output_type": "stream",
     "text": [
      "cmd: /home/jupyter-user/notebooks/LSDProject/tools/plink --bfile /home/jupyter-user/notebooks/LSDProject/data/all_vcfs --update-sex /home/jupyter-user/notebooks/LSDProject/data/plink_covs.tab --make-bed  --out /home/jupyter-user/notebooks/LSDProject/data/plink_updated_sex --threads 2\n",
      "Executing: /home/jupyter-user/notebooks/LSDProject/tools/plink --bfile /home/jupyter-user/notebooks/LSDProject/data/all_vcfs --update-sex /home/jupyter-user/notebooks/LSDProject/data/plink_covs.tab --make-bed  --out /home/jupyter-user/notebooks/LSDProject/data/plink_updated_sex --threads 2\n",
      "PLINK v1.90b6.9 64-bit (4 Mar 2019)            www.cog-genomics.org/plink/1.9/\n",
      "(C) 2005-2019 Shaun Purcell, Christopher Chang   GNU General Public License v3\n",
      "Logging to /home/jupyter-user/notebooks/LSDProject/data/plink_updated_sex.log.\n",
      "Options in effect:\n",
      "  --bfile /home/jupyter-user/notebooks/LSDProject/data/all_vcfs\n",
      "  --make-bed\n",
      "  --out /home/jupyter-user/notebooks/LSDProject/data/plink_updated_sex\n",
      "  --threads 2\n",
      "  --update-sex /home/jupyter-user/notebooks/LSDProject/data/plink_covs.tab\n",
      "\n",
      "15043 MB RAM detected; reserving 7521 MB for main workspace.\n",
      "28791969 variants loaded from .bim file.\n",
      "3074 people (0 males, 0 females, 3074 ambiguous) loaded from .fam.\n",
      "Ambiguous sex IDs written to\n",
      "/home/jupyter-user/notebooks/LSDProject/data/plink_updated_sex.nosex .\n",
      "--update-sex: 3074 people updated, 1225 IDs not present.\n",
      "Using 1 thread (no multithreaded calculations invoked).\n",
      "Before main variant filters, 3074 founders and 0 nonfounders present.\n",
      "Calculating allele frequencies... 10111213141516171819202122232425262728293031323334353637383940414243444546474849505152535455565758596061626364656667686970717273747576777879808182838485868788899091929394959697989 done.\n",
      "Warning: 14673747 het. haploid genotypes present (see\n",
      "/home/jupyter-user/notebooks/LSDProject/data/plink_updated_sex.hh ); many\n",
      "commands treat these as missing.\n",
      "Warning: Nonmissing nonmale Y chromosome genotype(s) present; many commands\n",
      "treat these as missing.\n",
      "Total genotyping rate is 0.993972.\n",
      "28791969 variants and 3074 people pass filters and QC.\n",
      "Note: No phenotypes present.\n",
      "--make-bed to\n",
      "/home/jupyter-user/notebooks/LSDProject/data/plink_updated_sex.bed +\n",
      "/home/jupyter-user/notebooks/LSDProject/data/plink_updated_sex.bim +\n",
      "/home/jupyter-user/notebooks/LSDProject/data/plink_updated_sex.fam ... 101112131415161718192021222324252627282930313233343536373839404142434445464748495051525354555657585960616263646566676869707172737475767778798081828384858687888990919293949596979899done.\n",
      "Done\n"
     ]
    }
   ],
   "source": [
    "#Now we'll use Plink's --update-sex command to update the fam file with \n",
    "#the information we queried from the demographics file.\n",
    "cmd=plinkCmd+' --bfile '+ dataDir + 'all_vcfs' + ' --update-sex ' + plinkCovsFile + ' --make-bed ' + ' --out ' + dataDir + 'plink_updated_sex' + ' --threads 2'\n",
    "print('cmd:', cmd)\n",
    "shell_do(cmd)\n",
    "print('Done')\n"
   ]
  },
  {
   "cell_type": "markdown",
   "metadata": {},
   "source": [
    "# Find PCA"
   ]
  },
  {
   "cell_type": "code",
   "execution_count": 23,
   "metadata": {},
   "outputs": [
    {
     "name": "stdout",
     "output_type": "stream",
     "text": [
      "Executing: /home/jupyter-user/notebooks/LSDProject/tools/plink --bfile /home/jupyter-user/notebooks/LSDProject/data//plink_updated_sex --pca --out /home/jupyter-user/notebooks/LSDProject/data//plink_updated_sex.PCA\n",
      "PLINK v1.90b6.9 64-bit (4 Mar 2019)            www.cog-genomics.org/plink/1.9/\n",
      "(C) 2005-2019 Shaun Purcell, Christopher Chang   GNU General Public License v3\n",
      "Logging to /home/jupyter-user/notebooks/LSDProject/data//plink_updated_sex.PCA.log.\n",
      "Options in effect:\n",
      "  --bfile /home/jupyter-user/notebooks/LSDProject/data//plink_updated_sex\n",
      "  --out /home/jupyter-user/notebooks/LSDProject/data//plink_updated_sex.PCA\n",
      "  --pca\n",
      "\n",
      "15043 MB RAM detected; reserving 7521 MB for main workspace.\n",
      "28791969 variants loaded from .bim file.\n",
      "3074 people (1721 males, 1353 females) loaded from .fam.\n",
      "Using up to 4 threads (change this with --threads).\n",
      "Before main variant filters, 3074 founders and 0 nonfounders present.\n",
      "Calculating allele frequencies... 10111213141516171819202122232425262728293031323334353637383940414243444546474849505152535455565758596061626364656667686970717273747576777879808182838485868788899091929394959697989 done.\n",
      "Warning: 14673747 het. haploid genotypes present (see\n",
      "/home/jupyter-user/notebooks/LSDProject/data//plink_updated_sex.PCA.hh ); many\n",
      "commands treat these as missing.\n",
      "Warning: Nonmissing nonmale Y chromosome genotype(s) present; many commands\n",
      "treat these as missing.\n",
      "Total genotyping rate is 0.993972.\n",
      "28791969 variants and 3074 people pass filters and QC.\n",
      "Note: No phenotypes present.\n",
      "Excluding 965917 variants on non-autosomes from relationship matrix calc.\n",
      "7765620 markers complete."
     ]
    },
    {
     "name": "stderr",
     "output_type": "stream",
     "text": [
      "IOPub message rate exceeded.\n",
      "The notebook server will temporarily stop sending output\n",
      "to the client in order to avoid crashing it.\n",
      "To change this limit, set the config variable\n",
      "`--NotebookApp.iopub_msg_rate_limit`.\n",
      "\n",
      "Current values:\n",
      "NotebookApp.iopub_msg_rate_limit=1000.0 (msgs/sec)\n",
      "NotebookApp.rate_limit_window=3.0 (secs)\n",
      "\n"
     ]
    },
    {
     "name": "stdout",
     "output_type": "stream",
     "text": [
      "13729800 markers complete."
     ]
    },
    {
     "name": "stderr",
     "output_type": "stream",
     "text": [
      "IOPub message rate exceeded.\n",
      "The notebook server will temporarily stop sending output\n",
      "to the client in order to avoid crashing it.\n",
      "To change this limit, set the config variable\n",
      "`--NotebookApp.iopub_msg_rate_limit`.\n",
      "\n",
      "Current values:\n",
      "NotebookApp.iopub_msg_rate_limit=1000.0 (msgs/sec)\n",
      "NotebookApp.rate_limit_window=3.0 (secs)\n",
      "\n"
     ]
    },
    {
     "name": "stdout",
     "output_type": "stream",
     "text": [
      "14426880 markers complete."
     ]
    },
    {
     "name": "stderr",
     "output_type": "stream",
     "text": [
      "IOPub message rate exceeded.\n",
      "The notebook server will temporarily stop sending output\n",
      "to the client in order to avoid crashing it.\n",
      "To change this limit, set the config variable\n",
      "`--NotebookApp.iopub_msg_rate_limit`.\n",
      "\n",
      "Current values:\n",
      "NotebookApp.iopub_msg_rate_limit=1000.0 (msgs/sec)\n",
      "NotebookApp.rate_limit_window=3.0 (secs)\n",
      "\n"
     ]
    },
    {
     "name": "stdout",
     "output_type": "stream",
     "text": [
      "15087360 markers complete."
     ]
    },
    {
     "name": "stderr",
     "output_type": "stream",
     "text": [
      "IOPub message rate exceeded.\n",
      "The notebook server will temporarily stop sending output\n",
      "to the client in order to avoid crashing it.\n",
      "To change this limit, set the config variable\n",
      "`--NotebookApp.iopub_msg_rate_limit`.\n",
      "\n",
      "Current values:\n",
      "NotebookApp.iopub_msg_rate_limit=1000.0 (msgs/sec)\n",
      "NotebookApp.rate_limit_window=3.0 (secs)\n",
      "\n"
     ]
    },
    {
     "name": "stdout",
     "output_type": "stream",
     "text": [
      "15763200 markers complete."
     ]
    },
    {
     "name": "stderr",
     "output_type": "stream",
     "text": [
      "IOPub message rate exceeded.\n",
      "The notebook server will temporarily stop sending output\n",
      "to the client in order to avoid crashing it.\n",
      "To change this limit, set the config variable\n",
      "`--NotebookApp.iopub_msg_rate_limit`.\n",
      "\n",
      "Current values:\n",
      "NotebookApp.iopub_msg_rate_limit=1000.0 (msgs/sec)\n",
      "NotebookApp.rate_limit_window=3.0 (secs)\n",
      "\n"
     ]
    },
    {
     "name": "stdout",
     "output_type": "stream",
     "text": [
      "Relationship matrix calculation complete.\n",
      "--pca: Results saved to and eigenvectors]\n",
      "/home/jupyter-user/notebooks/LSDProject/data//plink_updated_sex.PCA.eigenval\n",
      "and\n",
      "/home/jupyter-user/notebooks/LSDProject/data//plink_updated_sex.PCA.eigenvec .\n",
      "Done !!\n"
     ]
    }
   ],
   "source": [
    "#plink --bfile prune --pca --out PPMI.PCA\n",
    "shell_do(f'{plinkCmd} --bfile {dataDir}plink_updated_sex --pca --out {dataDir}plink_updated_sex.PCA')\n",
    "#this prodcues the file: plink_updated_sex.PCA.eigenvec which is used to add as phenotype\n",
    "print('Done !!')"
   ]
  },
  {
   "cell_type": "code",
   "execution_count": null,
   "metadata": {},
   "outputs": [],
   "source": []
  },
  {
   "cell_type": "markdown",
   "metadata": {},
   "source": [
    "# Add PCA to phenotype file"
   ]
  },
  {
   "cell_type": "code",
   "execution_count": 7,
   "metadata": {},
   "outputs": [
    {
     "name": "stdout",
     "output_type": "stream",
     "text": [
      "inFile: /home/jupyter-user/notebooks/LSDProject/data//plink_updated_sex.PCA.eigenvec\n",
      "pcaDf\n",
      "         0        1         2         3             4         5         6   \\\n",
      "0  BF-1001  BF-1001 -0.003598  0.000104 -1.192030e-05  0.000095 -0.000181   \n",
      "1  BF-1002  BF-1002 -0.003540 -0.000012  1.159970e-05 -0.000038 -0.000036   \n",
      "2  BF-1003  BF-1003 -0.003353  0.000060  9.764960e-07 -0.000137 -0.000123   \n",
      "3  BF-1004  BF-1004 -0.003481 -0.000020 -1.434620e-05 -0.000146 -0.000168   \n",
      "4  BF-1005  BF-1005 -0.003584  0.000068  1.296540e-05 -0.000012 -0.000047   \n",
      "\n",
      "         7         8         9   ...        12        13        14        15  \\\n",
      "0 -0.000064  0.000154 -0.000092  ...  0.000231  0.000123  0.000025  0.000007   \n",
      "1  0.000017  0.000031  0.000032  ...  0.000108  0.000060 -0.000147 -0.000193   \n",
      "2 -0.000036 -0.000108 -0.000013  ... -0.000057  0.000098 -0.000084 -0.000075   \n",
      "3  0.000030  0.000007 -0.000158  ...  0.000049  0.000055  0.000014  0.000064   \n",
      "4  0.000111 -0.000064 -0.000007  ...  0.000052  0.000014 -0.000117 -0.000029   \n",
      "\n",
      "         16        17        18        19        20        21  \n",
      "0  0.000156  0.000092 -0.000065  0.000122  0.000014  0.000053  \n",
      "1  0.000029  0.000003  0.000069 -0.000107  0.000008  0.000089  \n",
      "2  0.000225 -0.000031  0.000049  0.000076  0.000088 -0.000134  \n",
      "3  0.000023 -0.000092  0.000135 -0.000063  0.000089  0.000144  \n",
      "4  0.000037 -0.000186  0.000066  0.000033 -0.000050 -0.000002  \n",
      "\n",
      "[5 rows x 22 columns]\n",
      "shape: (3074, 22)\n",
      "Index(['FID', 'PC1', 'PC2', 'PC3', 'PC4', 'PC5', 'PC6', 'PC7', 'PC8', 'PC9',\n",
      "       'PC10', 'PC11', 'PC12', 'PC13', 'PC14', 'PC15', 'PC16', 'PC17', 'PC18',\n",
      "       'PC19', 'PC20'],\n",
      "      dtype='object')\n",
      "phenoDf\n",
      "         FID       IID  PHENO\n",
      "0  PP-54461  PP-54461      2\n",
      "1  PP-54215  PP-54215      2\n",
      "2  PP-18567  PP-18567      2\n",
      "3  PP-40615  PP-40615      2\n",
      "4  PP-40612  PP-40612      2\n",
      "covDf\n",
      "              FID            IID  sex  AgeBaseLine   race\n",
      "0       PP-41564       PP-41564    1           22  White\n",
      "1  PD-PDZV843ATF  PD-PDZV843ATF    1           24  White\n",
      "2  PD-PDCK871NBR  PD-PDCK871NBR    1           24  White\n",
      "3       PP-51718       PP-51718    1           25  White\n",
      "4       PP-56267       PP-56267    1           25  White\n",
      "\n",
      "merDf\n",
      "         FID       IID  PHENO  sex  AgeBaseLine   race\n",
      "0  PP-54461  PP-54461      2    2           71  White\n",
      "1  PP-54215  PP-54215      2    2           81  White\n",
      "2  PP-18567  PP-18567      2    1           61  White\n",
      "3  PP-40615  PP-40615      2    2           69  White\n",
      "4  PP-40612  PP-40612      2    1           62  White\n",
      "merDf 2 shape: (2835, 26)\n",
      "       FID       PC1       PC2           PC3       PC4       PC5       PC6  \\\n",
      "0  BF-1001 -0.003598  0.000104 -1.192030e-05  0.000095 -0.000181 -0.000064   \n",
      "1  BF-1002 -0.003540 -0.000012  1.159970e-05 -0.000038 -0.000036  0.000017   \n",
      "2  BF-1003 -0.003353  0.000060  9.764960e-07 -0.000137 -0.000123 -0.000036   \n",
      "3  BF-1004 -0.003481 -0.000020 -1.434620e-05 -0.000146 -0.000168  0.000030   \n",
      "4  BF-1005 -0.003584  0.000068  1.296540e-05 -0.000012 -0.000047  0.000111   \n",
      "\n",
      "        PC7       PC8       PC9  ...      PC16      PC17      PC18      PC19  \\\n",
      "0  0.000154 -0.000092  0.000164  ...  0.000092 -0.000065  0.000122  0.000014   \n",
      "1  0.000031  0.000032 -0.000048  ...  0.000003  0.000069 -0.000107  0.000008   \n",
      "2 -0.000108 -0.000013  0.000009  ... -0.000031  0.000049  0.000076  0.000088   \n",
      "3  0.000007 -0.000158  0.000006  ... -0.000092  0.000135 -0.000063  0.000089   \n",
      "4 -0.000064 -0.000007  0.000070  ... -0.000186  0.000066  0.000033 -0.000050   \n",
      "\n",
      "       PC20      IID  PHENO  sex  AgeBaseLine   race  \n",
      "0  0.000053  BF-1001      1    1           55  White  \n",
      "1  0.000089  BF-1002      2    2           66  White  \n",
      "2 -0.000134  BF-1003      2    1           61  White  \n",
      "3  0.000144  BF-1004      2    1           62  White  \n",
      "4 -0.000002  BF-1005      1    2           61  White  \n",
      "\n",
      "[5 rows x 26 columns]\n",
      "\n",
      " v\n",
      "        FID      IID  PHENO  sex  AgeBaseLine   race       PC1       PC2  \\\n",
      "0  BF-1001  BF-1001      1    1           55  White -0.003598  0.000104   \n",
      "1  BF-1002  BF-1002      2    2           66  White -0.003540 -0.000012   \n",
      "2  BF-1003  BF-1003      2    1           61  White -0.003353  0.000060   \n",
      "3  BF-1004  BF-1004      2    1           62  White -0.003481 -0.000020   \n",
      "4  BF-1005  BF-1005      1    2           61  White -0.003584  0.000068   \n",
      "\n",
      "            PC3       PC4  ...      PC11      PC12      PC13      PC14  \\\n",
      "0 -1.192030e-05  0.000095  ...  0.000231  0.000123  0.000025  0.000007   \n",
      "1  1.159970e-05 -0.000038  ...  0.000108  0.000060 -0.000147 -0.000193   \n",
      "2  9.764960e-07 -0.000137  ... -0.000057  0.000098 -0.000084 -0.000075   \n",
      "3 -1.434620e-05 -0.000146  ...  0.000049  0.000055  0.000014  0.000064   \n",
      "4  1.296540e-05 -0.000012  ...  0.000052  0.000014 -0.000117 -0.000029   \n",
      "\n",
      "       PC15      PC16      PC17      PC18      PC19      PC20  \n",
      "0  0.000156  0.000092 -0.000065  0.000122  0.000014  0.000053  \n",
      "1  0.000029  0.000003  0.000069 -0.000107  0.000008  0.000089  \n",
      "2  0.000225 -0.000031  0.000049  0.000076  0.000088 -0.000134  \n",
      "3  0.000023 -0.000092  0.000135 -0.000063  0.000089  0.000144  \n",
      "4  0.000037 -0.000186  0.000066  0.000033 -0.000050 -0.000002  \n",
      "\n",
      "[5 rows x 26 columns]\n",
      "Done\n"
     ]
    }
   ],
   "source": [
    "#read PCA file\n",
    "inFile=dataDir+'/'+ 'plink_updated_sex.PCA.eigenvec'\n",
    "print('inFile:', inFile)\n",
    "pcaDf=pd.read_csv(inFile, sep=\" \", header=None)\n",
    "print('pcaDf\\n',pcaDf.head())\n",
    "print('shape:', pcaDf.shape)\n",
    "count=1\n",
    "pcNames=[]\n",
    "while count <= 20:\n",
    "    s='PC'+str(count)\n",
    "    pcNames.append(s)\n",
    "    count=count+1\n",
    "#print('names:',pcNames)\n",
    "#add column names\n",
    "colNames=['FID', 'IID']\n",
    "colNames.extend(pcNames)\n",
    "#print('colNames:', colNames)\n",
    "pcaDf.columns=colNames\n",
    "del pcaDf['IID']#cleaner\n",
    "#check header names \n",
    "print(pcaDf.columns)\n",
    "#read the pheno type again\n",
    "inFile=dataDir+'/plink_pheno.tab'\n",
    "phenoDf=pd.read_csv(inFile, sep=\"\\t\")\n",
    "print('phenoDf\\n',phenoDf.head())\n",
    "#read the covar file\n",
    "inFile=dataDir+'/plink_covs.tab'\n",
    "covDf=pd.read_csv(inFile, sep=\"\\t\")\n",
    "print('covDf\\n',covDf.head())\n",
    "merDf=phenoDf.merge(covDf, left_on='FID', right_on='FID')\n",
    "del merDf['IID_y']\n",
    "merDf.rename({'IID_x': 'IID'}, axis=1, inplace=True)\n",
    "print('\\nmerDf\\n', merDf.head())#4005\n",
    "\n",
    "#merge with PCA\n",
    "merDf_2=pcaDf.merge(merDf, left_on='FID', right_on='FID')\n",
    "print('merDf 2 shape:',merDf_2.shape)\n",
    "print(merDf_2.head())\n",
    "#re check this for a better way of chaning column positions\n",
    "v = merDf_2[['FID','IID','PHENO','sex','AgeBaseLine','race','PC1', 'PC2', 'PC3', 'PC4', 'PC5', 'PC6', 'PC7', 'PC8', 'PC9',\n",
    "       'PC10', 'PC11', 'PC12', 'PC13', 'PC14', 'PC15', 'PC16', 'PC17', 'PC18','PC19', 'PC20']]\n",
    "print('\\n v\\n',v.head())  \n",
    "#write\n",
    "fileName=dataDir+'/plink_pheno_withPCs.tab'\n",
    "with open(fileName, 'w') as f:\n",
    "    f.write(v.to_csv(index=False, sep='\\t'))\n",
    "\n",
    "    \n",
    "print('Done')"
   ]
  },
  {
   "cell_type": "markdown",
   "metadata": {},
   "source": [
    "# Set up for LSD genes"
   ]
  },
  {
   "cell_type": "code",
   "execution_count": 11,
   "metadata": {},
   "outputs": [
    {
     "name": "stdout",
     "output_type": "stream",
     "text": [
      "range file not found\n",
      "cmd: gsutil cp gs://fc-secure-faef21d4-0ae2-4dfa-a025-d9292ca13bf5/notebooks/LSD-54-genes_plinkFormat-fromBed_Aug0720.txt /home/jupyter-user/notebooks/LSDProject/data/\n",
      "Executing: gsutil cp gs://fc-secure-faef21d4-0ae2-4dfa-a025-d9292ca13bf5/notebooks/LSD-54-genes_plinkFormat-fromBed_Aug0720.txt /home/jupyter-user/notebooks/LSDProject/data/\n",
      "Copying gs://fc-secure-faef21d4-0ae2-4dfa-a025-d9292ca13bf5/notebooks/LSD-54-genes_plinkFormat-fromBed_Aug0720.txt...\n",
      "/ [1 files][  1.4 KiB/  1.4 KiB]                                                \n",
      "Operation completed over 1 objects/1.4 KiB.                                      \n",
      "Done !!\n"
     ]
    }
   ],
   "source": [
    "#mkdir /home/jupyter-user/notebooks/LaurieRobak1/LSD-All-genes\n",
    "#workingDir='/home/jupyter-user/notebooks/LaurieRobak1/LSD-All-genes'\n",
    "phenoFile=dataDir+'/plink_pheno_withPCs.tab'\n",
    "#hg38 coordinates of the genes\n",
    "rangeFile=dataDir+'LSD-54-genes_plinkFormat-fromBed_Aug0720.txt'\n",
    "#check i file exists and if it does not copy it from google cloud\n",
    "if os.path.isfile(rangeFile) == False:\n",
    "    print('range file not found')\n",
    "    cmd='gsutil cp gs://fc-secure-faef21d4-0ae2-4dfa-a025-d9292ca13bf5/notebooks/LSD-54-genes_plinkFormat-fromBed_Aug0720.txt '+dataDir\n",
    "    print('cmd:', cmd)\n",
    "    shell_do(cmd)\n",
    "\n",
    "print('Done !!')\n",
    "           \n",
    "#check the file in the working diorectory and see how many variants we have using wc -l LSDGenes_WGS_AMPPD.bim"
   ]
  },
  {
   "cell_type": "markdown",
   "metadata": {},
   "source": [
    "# Run plink to extract/subet the LSD genes variants"
   ]
  },
  {
   "cell_type": "code",
   "execution_count": 16,
   "metadata": {},
   "outputs": [
    {
     "name": "stdout",
     "output_type": "stream",
     "text": [
      "cmd: /home/jupyter-user/notebooks/LSDProject/tools/plink --bfile /home/jupyter-user/notebooks/LSDProject/data/plink_updated_sex --extract range /home/jupyter-user/notebooks/LSDProject/data/LSD-54-genes_plinkFormat-fromBed_Aug0720.txt --make-bed --out /home/jupyter-user/notebooks/LSDProject/data/LSDGenes-WGS-AMPPD\n",
      "Executing: /home/jupyter-user/notebooks/LSDProject/tools/plink --bfile /home/jupyter-user/notebooks/LSDProject/data/plink_updated_sex --extract range /home/jupyter-user/notebooks/LSDProject/data/LSD-54-genes_plinkFormat-fromBed_Aug0720.txt --make-bed --out /home/jupyter-user/notebooks/LSDProject/data/LSDGenes-WGS-AMPPD\n",
      "PLINK v1.90b6.9 64-bit (4 Mar 2019)            www.cog-genomics.org/plink/1.9/\n",
      "(C) 2005-2019 Shaun Purcell, Christopher Chang   GNU General Public License v3\n",
      "Logging to /home/jupyter-user/notebooks/LSDProject/data/LSDGenes-WGS-AMPPD.log.\n",
      "Options in effect:\n",
      "  --bfile /home/jupyter-user/notebooks/LSDProject/data/plink_updated_sex\n",
      "  --extract range /home/jupyter-user/notebooks/LSDProject/data/LSD-54-genes_plinkFormat-fromBed_Aug0720.txt\n",
      "  --make-bed\n",
      "  --out /home/jupyter-user/notebooks/LSDProject/data/LSDGenes-WGS-AMPPD\n",
      "\n",
      "15043 MB RAM detected; reserving 7521 MB for main workspace.\n",
      "28791969 variants loaded from .bim file.\n",
      "3074 people (1721 males, 1353 females) loaded from .fam.\n",
      "--extract range: 28757614 variants excluded.\n",
      "--extract range: 34355 variants remaining.\n",
      "Using 1 thread (no multithreaded calculations invoked).\n",
      "Before main variant filters, 3074 founders and 0 nonfounders present.\n",
      "Calculating allele frequencies... 10111213141516171819202122232425262728293031323334353637383940414243444546474849505152535455565758596061626364656667686970717273747576777879808182838485868788899091929394959697989 done.\n",
      "Warning: 533 het. haploid genotypes present (see\n",
      "/home/jupyter-user/notebooks/LSDProject/data/LSDGenes-WGS-AMPPD.hh ); many\n",
      "commands treat these as missing.\n",
      "Total genotyping rate is 0.995078.\n",
      "34355 variants and 3074 people pass filters and QC.\n",
      "Note: No phenotypes present.\n",
      "--make-bed to\n",
      "/home/jupyter-user/notebooks/LSDProject/data/LSDGenes-WGS-AMPPD.bed +\n",
      "/home/jupyter-user/notebooks/LSDProject/data/LSDGenes-WGS-AMPPD.bim +\n",
      "/home/jupyter-user/notebooks/LSDProject/data/LSDGenes-WGS-AMPPD.fam ... 101112131415161718192021222324252627282930313233343536373839404142434445464748495051525354555657585960616263646566676869707172737475767778798081828384858687888990919293949596979899done.\n",
      "Done !!\n"
     ]
    }
   ],
   "source": [
    "plinkPrefix='LSDGenes-WGS-AMPPD'\n",
    "# Extract/subet the LSD genes variants; hg38 coordinates\n",
    "cmd=plinkCmd+' --bfile ' + dataDir + 'plink_updated_sex' + ' --extract range ' + rangeFile + ' --make-bed --out ' +dataDir + plinkPrefix\n",
    "print('cmd:', cmd)\n",
    "shell_do(cmd)\n",
    "#shell_do(f'~/bin/plink --bfile {dataDir}/plink_updated_sex --extract range {rangeFile} --make-bed --out {workingDir}/{plinkPrefix}')\n",
    "#check the file in the working diorectory and see how many variants we have using wc -l LSDGenes_WGS_AMPPD.bim\n",
    "\n",
    "\n",
    "print('Done !!')\n",
    "           \n"
   ]
  },
  {
   "cell_type": "markdown",
   "metadata": {},
   "source": [
    "# Set up results directory"
   ]
  },
  {
   "cell_type": "code",
   "execution_count": 7,
   "metadata": {},
   "outputs": [
    {
     "name": "stdout",
     "output_type": "stream",
     "text": [
      "Done\n"
     ]
    }
   ],
   "source": [
    "resDir='/home/jupyter-user/notebooks/LSDProject/results/LSDGenes-WGS_Dec3120/'\n",
    "if os.path.isdir(resDir)==False:\n",
    "    cmd='mkdir ' + resDir\n",
    "    shell_do(cmd)\n",
    "print('Done')"
   ]
  },
  {
   "cell_type": "markdown",
   "metadata": {
    "heading_collapsed": true
   },
   "source": [
    "# RUN --MODEL AND --ASSOC IN PLINK with no covaraiates"
   ]
  },
  {
   "cell_type": "code",
   "execution_count": 26,
   "metadata": {
    "hidden": true
   },
   "outputs": [
    {
     "name": "stdout",
     "output_type": "stream",
     "text": [
      "cmd: /home/jupyter-user/notebooks/LSDProject/tools/plink --bfile /home/jupyter-user/notebooks/LSDProject/data/LSDGenes-WGS-AMPPD --pheno /home/jupyter-user/notebooks/LSDProject/data/plink_pheno_withPCs.tab --pheno-name PHENO --model --out /home/jupyter-user/notebooks/LSDProject/results/LSDGenes-WGS_Dec3120/LSDGenes-WGS-AMPPD_noCov\n",
      "Finished model\n",
      "cmd: /home/jupyter-user/notebooks/LSDProject/tools/plink --bfile /home/jupyter-user/notebooks/LSDProject/data/LSDGenes-WGS-AMPPD  --assoc --pheno /home/jupyter-user/notebooks/LSDProject/data/plink_pheno_withPCs.tab --pheno-name PHENO --ci 0.95 --out /home/jupyter-user/notebooks/LSDProject/results/LSDGenes-WGS_Dec3120/LSDGenes-WGS-AMPPD_Assoc-noCov\n",
      "Executing: /home/jupyter-user/notebooks/LSDProject/tools/plink --bfile /home/jupyter-user/notebooks/LSDProject/data/LSDGenes-WGS-AMPPD  --assoc --pheno /home/jupyter-user/notebooks/LSDProject/data/plink_pheno_withPCs.tab --pheno-name PHENO --ci 0.95 --out /home/jupyter-user/notebooks/LSDProject/results/LSDGenes-WGS_Dec3120/LSDGenes-WGS-AMPPD_Assoc-noCov\n",
      "PLINK v1.90b6.9 64-bit (4 Mar 2019)            www.cog-genomics.org/plink/1.9/\n",
      "(C) 2005-2019 Shaun Purcell, Christopher Chang   GNU General Public License v3\n",
      "Logging to /home/jupyter-user/notebooks/LSDProject/results/LSDGenes-WGS_Dec3120/LSDGenes-WGS-AMPPD_Assoc-noCov.log.\n",
      "Options in effect:\n",
      "  --assoc\n",
      "  --bfile /home/jupyter-user/notebooks/LSDProject/data/LSDGenes-WGS-AMPPD\n",
      "  --ci 0.95\n",
      "  --out /home/jupyter-user/notebooks/LSDProject/results/LSDGenes-WGS_Dec3120/LSDGenes-WGS-AMPPD_Assoc-noCov\n",
      "  --pheno /home/jupyter-user/notebooks/LSDProject/data/plink_pheno_withPCs.tab\n",
      "  --pheno-name PHENO\n",
      "\n",
      "15043 MB RAM detected; reserving 7521 MB for main workspace.\n",
      "34355 variants loaded from .bim file.\n",
      "3074 people (1721 males, 1353 females) loaded from .fam.\n",
      "2835 phenotype values present after --pheno.\n",
      "Using 1 thread (no multithreaded calculations invoked).\n",
      "Before main variant filters, 3074 founders and 0 nonfounders present.\n",
      "Calculating allele frequencies... 10111213141516171819202122232425262728293031323334353637383940414243444546474849505152535455565758596061626364656667686970717273747576777879808182838485868788899091929394959697989 done.\n",
      "Warning: 533 het. haploid genotypes present (see\n",
      "/home/jupyter-user/notebooks/LSDProject/results/LSDGenes-WGS_Dec3120/LSDGenes-WGS-AMPPD_Assoc-noCov.hh\n",
      "); many commands treat these as missing.\n",
      "Total genotyping rate is 0.995078.\n",
      "34355 variants and 3074 people pass filters and QC.\n",
      "Among remaining phenotypes, 1735 are cases and 1100 are controls.  (239\n",
      "phenotypes are missing.)\n",
      "Writing C/C --assoc report to\n",
      "/home/jupyter-user/notebooks/LSDProject/results/LSDGenes-WGS_Dec3120/LSDGenes-WGS-AMPPD_Assoc-noCov.assoc\n",
      "... 10131619222528313437384144464952555760616466697273747778818486899295969798done.\n",
      "Finished assoc\n"
     ]
    }
   ],
   "source": [
    "#model\n",
    "#plinkPrefix='LSDGenes_WGS_AMPPD'\n",
    "outPrefix='LSDGenes-WGS-AMPPD_noCov'\n",
    "phenoFile=dataDir+'plink_pheno_withPCs.tab'\n",
    "#shell_do(f'~/bin/plink --bfile {workingDir}/{plinkPrefix} --pheno {phenoFile} --pheno-name PHENO --model --out {workingDir}/{outPrefix}')\n",
    "cmd=plinkCmd+' --bfile ' + dataDir + plinkPrefix + ' --pheno ' + phenoFile + ' --pheno-name PHENO --model --out ' + resDir+outPrefix\n",
    "\n",
    "print('cmd:', cmd)\n",
    "#shell_do(cmd)\n",
    "print('Finished model')\n",
    "\n",
    "\n",
    "#assoc\n",
    "#shell_do(f'~/bin/plink --bfile {workingDir}/{plinkPrefix} --assoc --pheno {phenoFile} --pheno-name PHENO --ci 0.95 --out {workingDir}/{outPrefix}')\n",
    "outPrefix='LSDGenes-WGS-AMPPD_Assoc-noCov'\n",
    "cmd=plinkCmd+ ' --bfile ' + dataDir + plinkPrefix + '  --assoc --pheno ' + phenoFile + ' --pheno-name PHENO --ci 0.95 --out ' +  resDir+outPrefix               \n",
    "print('cmd:',cmd)\n",
    "shell_do(cmd)\n",
    "\n",
    "print('Finished assoc')"
   ]
  },
  {
   "cell_type": "markdown",
   "metadata": {},
   "source": [
    "# Generate Vcfs from plink files for LSD"
   ]
  },
  {
   "cell_type": "code",
   "execution_count": 35,
   "metadata": {},
   "outputs": [
    {
     "name": "stdout",
     "output_type": "stream",
     "text": [
      "cmd: /home/jupyter-user/notebooks/LSDProject/tools/plink --bfile /home/jupyter-user/notebooks/LSDProject/data/LSDGenes-WGS-AMPPD --pheno /home/jupyter-user/notebooks/LSDProject/data/plink_pheno_withPCs.tab --pheno-name PHENO --recode vcf-fid --out /home/jupyter-user/notebooks/LSDProject/data/LSDGenes-WGS-VCF\n",
      "Executing: /home/jupyter-user/notebooks/LSDProject/tools/plink --bfile /home/jupyter-user/notebooks/LSDProject/data/LSDGenes-WGS-AMPPD --pheno /home/jupyter-user/notebooks/LSDProject/data/plink_pheno_withPCs.tab --pheno-name PHENO --recode vcf-fid --out /home/jupyter-user/notebooks/LSDProject/data/LSDGenes-WGS-VCF\n",
      "PLINK v1.90b6.9 64-bit (4 Mar 2019)            www.cog-genomics.org/plink/1.9/\n",
      "(C) 2005-2019 Shaun Purcell, Christopher Chang   GNU General Public License v3\n",
      "Logging to /home/jupyter-user/notebooks/LSDProject/data/LSDGenes-WGS-VCF.log.\n",
      "Options in effect:\n",
      "  --bfile /home/jupyter-user/notebooks/LSDProject/data/LSDGenes-WGS-AMPPD\n",
      "  --out /home/jupyter-user/notebooks/LSDProject/data/LSDGenes-WGS-VCF\n",
      "  --pheno /home/jupyter-user/notebooks/LSDProject/data/plink_pheno_withPCs.tab\n",
      "  --pheno-name PHENO\n",
      "  --recode vcf-fid\n",
      "\n",
      "15043 MB RAM detected; reserving 7521 MB for main workspace.\n",
      "34355 variants loaded from .bim file.\n",
      "3074 people (1721 males, 1353 females) loaded from .fam.\n",
      "2835 phenotype values present after --pheno.\n",
      "Using 1 thread (no multithreaded calculations invoked).\n",
      "Before main variant filters, 3074 founders and 0 nonfounders present.\n",
      "Calculating allele frequencies... 10111213141516171819202122232425262728293031323334353637383940414243444546474849505152535455565758596061626364656667686970717273747576777879808182838485868788899091929394959697989 done.\n",
      "Warning: 533 het. haploid genotypes present (see\n",
      "/home/jupyter-user/notebooks/LSDProject/data/LSDGenes-WGS-VCF.hh ); many\n",
      "commands treat these as missing.\n",
      "Total genotyping rate is 0.995078.\n",
      "34355 variants and 3074 people pass filters and QC.\n",
      "Among remaining phenotypes, 1735 are cases and 1100 are controls.  (239\n",
      "phenotypes are missing.)\n",
      "--recode vcf-fid to\n",
      "/home/jupyter-user/notebooks/LSDProject/data/LSDGenes-WGS-VCF.vcf ... 101112131415161718192021222324252627282930313233343536373839404142434445464748495051525354555657585960616263646566676869707172737475767778798081828384858687888990919293949596979899done.\n",
      "Done\n"
     ]
    }
   ],
   "source": [
    "plinkPrefix='LSDGenes-WGS-AMPPD'\n",
    "vcfOutPrefix='LSDGenes-WGS-VCF'\n",
    "cmd=plinkCmd + ' --bfile ' + dataDir + plinkPrefix + ' --pheno ' + phenoFile + ' --pheno-name PHENO --recode vcf-fid --out ' + dataDir + vcfOutPrefix\n",
    "print('cmd:', cmd)\n",
    "shell_do(cmd)\n",
    "#shell_do(f'~/bin/plink --bfile {workingDir}/{plinkPrefix} --pheno {phenoFile} --pheno-name PHENO --recode vcf-fid --out {workingDir}/{plinkPrefix}')\n",
    "print('Done')"
   ]
  },
  {
   "cell_type": "markdown",
   "metadata": {},
   "source": [
    "# Generate Vcfs from plink files for LSD (bgzip)"
   ]
  },
  {
   "cell_type": "code",
   "execution_count": 37,
   "metadata": {},
   "outputs": [
    {
     "name": "stdout",
     "output_type": "stream",
     "text": [
      "cmd: bgzip /home/jupyter-user/notebooks/LSDProject/data/LSDGenes-WGS-VCF.vcf\n",
      "Executing: bgzip /home/jupyter-user/notebooks/LSDProject/data/LSDGenes-WGS-VCF.vcf\n",
      "Done bgzip\n"
     ]
    }
   ],
   "source": [
    "cmd='bgzip ' + dataDir + vcfOutPrefix + '.vcf'\n",
    "print('cmd:', cmd)\n",
    "shell_do(cmd)\n",
    "#shell_do(f'bgzip {workingDir}/{plinkPrefix}.vcf')\n",
    "print('Done bgzip')"
   ]
  },
  {
   "cell_type": "markdown",
   "metadata": {},
   "source": [
    "# Generate Vcfs from plink files for LSD (tabix)"
   ]
  },
  {
   "cell_type": "code",
   "execution_count": 39,
   "metadata": {},
   "outputs": [
    {
     "name": "stdout",
     "output_type": "stream",
     "text": [
      "cmd: tabix -f -p vcf /home/jupyter-user/notebooks/LSDProject/data/LSDGenes-WGS-VCF.vcf.gz\n",
      "Executing: tabix -f -p vcf /home/jupyter-user/notebooks/LSDProject/data/LSDGenes-WGS-VCF.vcf.gz\n",
      "Done tabix\n"
     ]
    }
   ],
   "source": [
    "cmd='tabix -f -p vcf ' + dataDir + vcfOutPrefix + '.vcf.gz'\n",
    "print('cmd:', cmd)\n",
    "shell_do(cmd)\n",
    "\n",
    "#shell_do(f'tabix -f -p vcf {workingDir}/{plinkPrefix}.vcf.gz')\n",
    "print('Done tabix')\n"
   ]
  },
  {
   "cell_type": "markdown",
   "metadata": {},
   "source": [
    "# Copy Annovar command"
   ]
  },
  {
   "cell_type": "code",
   "execution_count": 45,
   "metadata": {},
   "outputs": [
    {
     "name": "stdout",
     "output_type": "stream",
     "text": [
      "cmd: gsutil cp gs://fc-secure-faef21d4-0ae2-4dfa-a025-d9292ca13bf5/notebooks/annovar.latest.tar.gz /home/jupyter-user/notebooks/LSDProject/tools/annovar\n",
      "Executing: gsutil cp gs://fc-secure-faef21d4-0ae2-4dfa-a025-d9292ca13bf5/notebooks/annovar.latest.tar.gz /home/jupyter-user/notebooks/LSDProject/tools/annovar\n",
      "Copying gs://fc-secure-faef21d4-0ae2-4dfa-a025-d9292ca13bf5/notebooks/annovar.latest.tar.gz...\n",
      "| [1 files][135.1 MiB/135.1 MiB]                                                \n",
      "Operation completed over 1 objects/135.1 MiB.                                    \n",
      "cmd: tar –xvzf /home/jupyter-user/notebooks/LSDProject/tools/annovar/annovar.latest.tar.gz\n",
      "Executing: tar –xvzf /home/jupyter-user/notebooks/LSDProject/tools/annovar/annovar.latest.tar.gz\n",
      "tar: invalid option -- '�'\n",
      "Try 'tar --help' or 'tar --usage' for more information.\n"
     ]
    }
   ],
   "source": [
    "cmd = 'gsutil cp gs://' + googleGSId+'/notebooks/annovar.latest.tar.gz ' + toolsDir + 'annovar'\n",
    "print('cmd:', cmd)\n",
    "shell_do(cmd)\n",
    "\n",
    "#for some reason tar from here does not work, so do it on the command line\n",
    "#cmd='tar –xvzf ' + toolsDir + 'annovar/annovar.latest.tar.gz'\n",
    "#print('cmd:', cmd)\n",
    "#shell_do(cmd)"
   ]
  },
  {
   "cell_type": "markdown",
   "metadata": {},
   "source": [
    "# Set up annovar DB"
   ]
  },
  {
   "cell_type": "code",
   "execution_count": null,
   "metadata": {},
   "outputs": [],
   "source": [
    "#under the annovar tools dir run the belwo commands to set up the databases for annotation\n",
    "#./annotate_variation.pl -buildver hg38 -downdb cytoBand humandb/\n",
    "#./annotate_variation.pl -buildver hg38 -downdb -webfrom annovar refGene humandb/\n",
    "#./annotate_variation.pl -buildver hg38 -downdb -webfrom annovar ljb26_all humandb/\n",
    "#./annotate_variation.pl -buildver hg38 -downdb -webfrom annovar gnomad211_genome humandb/\n",
    "#./annotate_variation.pl -buildver hg38 -downdb -webfrom annovar clinvar_20200316 humandb/\n",
    "#./annotate_variation.pl -buildver hg38 -downdb -webfrom annovar ensGene humandb/\n",
    "#./annotate_variation.pl -buildver hg38 -downdb -webfrom annovar exac03  humandb/\n",
    "#./annotate_variation.pl -buildver hg38 -downdb -webfrom annovar dbnsfp35a humandb/\n",
    "#./annotate_variation.pl -buildver hg38 -downdb -webfrom annovar avsnp150 humandb/\n",
    "#./annotate_variation.pl -buildver hg38 -downdb -webfrom annovar revel  humandb/\n"
   ]
  },
  {
   "cell_type": "markdown",
   "metadata": {},
   "source": [
    "# Run Annovar"
   ]
  },
  {
   "cell_type": "code",
   "execution_count": 55,
   "metadata": {},
   "outputs": [
    {
     "name": "stdout",
     "output_type": "stream",
     "text": [
      "cmd: /home/jupyter-user/notebooks/LSDProject/tools/annovar/annovar/table_annovar.pl /home/jupyter-user/notebooks/LSDProject/data/LSDGenes-WGS-VCF.vcf.gz /home/jupyter-user/notebooks/LSDProject/tools/annovar/annovar/humandb -buildver hg38 -out /home/jupyter-user/notebooks/LSDProject/results/LSDGenes-WGS_Dec3120/LSD-GENES.annovar -remove -protocol refGene,cytoband,dbnsfp35a,avsnp150,revel,gnomad211_genome,clinvar_20200316 -operation g,r,f,f,f,f,f -nastring . -vcfinput -polish \n",
      "Executing: /home/jupyter-user/notebooks/LSDProject/tools/annovar/annovar/table_annovar.pl /home/jupyter-user/notebooks/LSDProject/data/LSDGenes-WGS-VCF.vcf.gz /home/jupyter-user/notebooks/LSDProject/tools/annovar/annovar/humandb -buildver hg38 -out /home/jupyter-user/notebooks/LSDProject/results/LSDGenes-WGS_Dec3120/LSD-GENES.annovar -remove -protocol refGene,cytoband,dbnsfp35a,avsnp150,revel,gnomad211_genome,clinvar_20200316 -operation g,r,f,f,f,f,f -nastring . -vcfinput -polish \n",
      "\n",
      "NOTICE: Running with system command <convert2annovar.pl  -includeinfo -allsample -withfreq -format vcf4 /home/jupyter-user/notebooks/LSDProject/data/LSDGenes-WGS-VCF.vcf.gz > /home/jupyter-user/notebooks/LSDProject/results/LSDGenes-WGS_Dec3120/LSD-GENES.annovar.avinput>\n",
      "NOTICE: Finished reading 34382 lines from VCF file\n",
      "NOTICE: A total of 34355 locus in VCF file passed QC threshold, representing 31770 SNPs (22101 transitions and 9669 transversions) and 2350 indels/substitutions\n",
      "NOTICE: Finished writing allele frequencies based on 97660980 SNP genotypes (67938474 transitions and 29722506 transversions) and 7223900 indels/substitutions for 3074 samples\n",
      "WARNING: 206 invalid alternative alleles found in input file\n",
      "WARNING: 29 invalid reference alleles found in input file\n",
      "\n",
      "NOTICE: Running with system command </home/jupyter-user/notebooks/LSDProject/tools/annovar/annovar/table_annovar.pl /home/jupyter-user/notebooks/LSDProject/results/LSDGenes-WGS_Dec3120/LSD-GENES.annovar.avinput /home/jupyter-user/notebooks/LSDProject/tools/annovar/annovar/humandb -buildver hg38 -outfile /home/jupyter-user/notebooks/LSDProject/results/LSDGenes-WGS_Dec3120/LSD-GENES.annovar -remove -protocol refGene,cytoband,dbnsfp35a,avsnp150,revel,gnomad211_genome,clinvar_20200316 -operation g,r,f,f,f,f,f -nastring . -polish -otherinfo>\n",
      "-----------------------------------------------------------------\n",
      "NOTICE: Processing operation=g protocol=refGene\n",
      "\n",
      "NOTICE: Running with system command <annotate_variation.pl -geneanno -buildver hg38 -dbtype refGene -outfile /home/jupyter-user/notebooks/LSDProject/results/LSDGenes-WGS_Dec3120/LSD-GENES.annovar.refGene -exonsort -nofirstcodondel /home/jupyter-user/notebooks/LSDProject/results/LSDGenes-WGS_Dec3120/LSD-GENES.annovar.avinput /home/jupyter-user/notebooks/LSDProject/tools/annovar/annovar/humandb>\n",
      "NOTICE: Output files are written to /home/jupyter-user/notebooks/LSDProject/results/LSDGenes-WGS_Dec3120/LSD-GENES.annovar.refGene.variant_function, /home/jupyter-user/notebooks/LSDProject/results/LSDGenes-WGS_Dec3120/LSD-GENES.annovar.refGene.exonic_variant_function\n",
      "NOTICE: Reading gene annotation from /home/jupyter-user/notebooks/LSDProject/tools/annovar/annovar/humandb/hg38_refGene.txt ... Done with 82500 transcripts (including 20366 without coding sequence annotation) for 28265 unique genes\n",
      "NOTICE: Processing next batch with 34355 unique variants in 34355 input lines\n",
      "NOTICE: Reading FASTA sequences from /home/jupyter-user/notebooks/LSDProject/tools/annovar/annovar/humandb/hg38_refGeneMrna.fa ... Done with 174 sequences\n",
      "WARNING: A total of 591 sequences will be ignored due to lack of correct ORF annotation\n",
      "\n",
      "---------------------------------------------------------------------------------------\n",
      "WARNING: 52 exonic SNPs have WRONG reference alleles specified in your input file!\n",
      "WARNING: An example input line is <8\t43199410\t43199410\tC\tT\t0.000488\t.\t.\t8\t43199410\trs1126058\tC\tT\t.\t.\tPR\tGT\t0/0\t0/0\t0/0\t0/0\t0/0\t0/0\t0/0\t0/0\t0/0\t0/0\t0/0\t0/0\t0/0\t0/0\t0/0\t0/0\t0/0\t0/0\t0/0\t0/0\t0/0\t0/0\t0/0\t0/0\t0/0\t0/0\t0/0\t0/0\t0/0\t0/0\t0/0\t0/0\t0/0\t0/0\t0/0\t0/0\t0/0\t0/0\t0/0\t0/0\t0/0\t0/0\t0/0\t0/0\t0/0\t0/0\t0/0\t0/0\t0/0\t0/0\t0/0\t0/0\t0/0\t0/0\t0/0\t0/0\t0/0\t0/0\t0/0\t0/0\t0/0\t0/0\t0/0\t0/0\t0/0\t0/0\t0/0\t0/0\t0/0\t0/0\t0/0\t0/0\t0/0\t0/0\t0/0\t0/0\t0/0\t0/0\t0/0\t0/0\t0/0\t0/0\t0/0\t0/0\t0/0\t0/0\t0/0\t0/0\t0/0\t0/0\t0/0\t0/0\t0/0\t0/0\t0/0\t0/0\t0/0\t0/0\t0/0\t0/0\t0/0\t0/0\t0/0\t0/0\t0/0\t0/0\t0/0\t0/0\t0/0\t0/0\t0/0\t0/0\t0/0\t0/0\t0/0\t0/0\t0/0\t0/0\t0/0\t0/0\t0/0\t0/0\t0/0\t0/0\t0/0\t0/0\t0/0\t0/0\t0/0\t0/0\t0/0\t0/0\t0/0\t0/0\t0/0\t0/0\t0/0\t0/0\t0/0\t0/0\t0/0\t0/0\t0/0\t0/0\t0/0\t0/0\t0/0\t0/0\t0/0\t0/0\t0/0\t0/0\t0/0\t0/0\t0/0\t0/0\t0/0\t0/0\t0/0\t0/0\t0/0\t0/0\t0/0\t0/0\t0/0\t0/0\t0/0\t0/0\t0/0\t0/0\t0/0\t0/0\t0/0\t0/0\t0/0\t0/0\t0/0\t0/0\t0/0\t0/0\t0/0\t0/0\t0/0\t0/0\t0/0\t0/0\t0/0\t0/0\t0/0\t0/0\t0/0\t0/0\t0/0\t0/0\t0/0\t0/0\t0/0\t0/0\t0/0\t0/0\t0/0\t0/0\t0/0\t0/0\t0/0\t0/0\t0/0\t0/0\t0/0\t0/0\t0/0\t0/0\t0/0\t0/0\t0/0\t0/0\t0/0\t0/0\t0/0\t0/0\t0/0\t0/0\t0/0\t0/0\t0/0\t0/0\t0/0\t0/0\t0/0\t0/0\t0/0\t0/0\t0/0\t0/0\t0/0\t0/0\t0/0\t0/0\t0/0\t0/0\t0/0\t0/0\t0/0\t0/0\t0/0\t0/0\t0/0\t0/0\t0/0\t0/0\t0/0\t0/0\t0/0\t0/0\t0/0\t0/0\t0/0\t0/0\t0/0\t0/0\t0/0\t0/0\t0/0\t0/0\t0/0\t0/0\t0/0\t0/0\t0/0\t0/0\t0/0\t0/0\t0/0\t0/0\t0/0\t0/0\t0/0\t0/0\t0/0\t0/0\t0/0\t0/0\t0/0\t0/0\t0/0\t0/0\t0/0\t0/0\t0/0\t0/0\t0/0\t0/0\t0/0\t0/0\t0/0\t0/0\t0/0\t0/0\t0/0\t0/0\t0/0\t0/0\t0/0\t0/0\t0/0\t0/0\t0/0\t0/0\t0/0\t0/0\t0/0\t0/0\t0/0\t0/0\t0/0\t0/0\t0/0\t0/0\t0/0\t0/0\t0/0\t0/0\t0/0\t0/0\t0/0\t0/0\t0/0\t0/0\t0/0\t0/0\t0/0\t0/0\t0/0\t0/0\t0/0\t0/0\t0/0\t0/0\t0/0\t0/0\t0/0\t0/0\t0/0\t0/0\t0/0\t0/0\t0/0\t0/0\t0/0\t0/0\t0/0\t0/0\t0/0\t0/0\t0/0\t0/0\t0/0\t0/0\t0/0\t0/0\t0/0\t0/0\t0/0\t0/0\t0/0\t0/0\t0/0\t0/0\t0/0\t0/0\t0/0\t0/0\t0/0\t0/0\t0/0\t0/0\t0/0\t0/0\t0/0\t0/0\t0/0\t0/0\t0/0\t0/0\t0/0\t0/0\t0/0\t0/0\t0/0\t0/0\t0/0\t0/0\t0/0\t0/0\t0/0\t0/0\t0/0\t0/0\t0/0\t0/0\t0/0\t0/0\t0/0\t0/0\t0/0\t0/0\t0/0\t0/0\t0/0\t0/0\t0/0\t0/0\t0/0\t0/0\t0/0\t0/0\t0/0\t0/0\t0/0\t0/0\t0/0\t0/0\t0/0\t0/0\t0/0\t0/0\t0/0\t0/0\t0/0\t0/0\t0/0\t0/0\t0/0\t0/0\t0/0\t0/0\t0/0\t0/0\t0/0\t0/0\t0/0\t0/0\t0/0\t0/0\t0/0\t0/0\t0/0\t0/0\t0/0\t0/0\t0/0\t0/0\t0/0\t0/0\t0/0\t0/0\t0/0\t0/0\t0/0\t0/0\t0/0\t0/0\t0/0\t0/0\t0/0\t0/0\t0/0\t0/0\t0/0\t0/0\t0/0\t0/0\t0/0\t0/0\t0/0\t0/0\t0/0\t0/0\t0/0\t0/0\t0/0\t0/0\t0/0\t0/0\t0/0\t0/0\t0/0\t0/0\t0/0\t0/0\t0/0\t0/0\t0/0\t0/0\t0/0\t0/0\t0/0\t0/0\t0/0\t0/0\t0/0\t0/0\t0/0\t0/0\t0/0\t0/0\t0/0\t0/0\t0/0\t0/0\t0/0\t0/0\t0/0\t0/0\t0/0\t0/0\t0/0\t0/0\t0/0\t0/0\t0/0\t0/0\t0/0\t0/0\t0/0\t0/0\t0/0\t0/0\t0/0\t0/0\t0/0\t0/0\t0/0\t0/0\t0/0\t0/0\t0/0\t0/0\t0/0\t0/0\t0/0\t0/0\t0/0\t0/0\t0/0\t0/0\t0/0\t0/0\t0/0\t0/0\t0/0\t0/0\t0/0\t0/0\t0/0\t0/0\t0/0\t0/0\t0/0\t0/0\t0/0\t0/0\t0/0\t0/0\t0/0\t0/0\t0/0\t0/0\t0/0\t0/0\t0/0\t0/0\t0/0\t0/0\t0/0\t0/0\t0/0\t0/0\t0/0\t0/0\t0/0\t0/0\t0/0\t0/0\t0/0\t0/0\t0/0\t0/0\t0/0\t0/0\t0/0\t0/0\t0/0\t0/0\t0/0\t0/0\t0/0\t0/0\t0/0\t0/0\t0/0\t0/0\t0/0\t0/0\t0/0\t0/0\t0/0\t0/0\t0/0\t0/0\t0/0\t0/0\t0/0\t0/0\t0/0\t0/0\t0/0\t0/0\t0/0\t0/0\t0/0\t0/0\t0/0\t0/0\t0/0\t0/0\t0/0\t0/0\t0/0\t0/0\t0/0\t0/0\t0/0\t0/0\t0/0\t0/0\t0/0\t0/0\t0/0\t0/0\t0/0\t0/0\t0/0\t0/0\t0/0\t0/0\t0/0\t0/0\t0/0\t0/0\t0/0\t0/0\t0/0\t0/0\t0/0\t0/0\t0/0\t0/0\t0/0\t0/0\t0/0\t0/0\t0/0\t0/0\t0/0\t0/0\t0/0\t0/0\t0/0\t0/0\t0/0\t0/0\t0/0\t0/0\t0/0\t0/0\t0/0\t0/0\t0/0\t0/0\t0/0\t0/0\t0/0\t0/0\t0/0\t0/0\t0/0\t0/0\t0/0\t0/0\t0/0\t0/0\t0/0\t0/0\t0/0\t0/0\t0/0\t0/0\t0/0\t0/0\t0/0\t0/0\t0/0\t0/0\t0/0\t0/0\t0/0\t0/0\t0/0\t0/0\t0/0\t0/0\t0/0\t0/0\t0/0\t0/0\t0/0\t0/0\t0/0\t0/0\t0/0\t0/0\t0/0\t0/0\t0/0\t0/0\t0/0\t0/0\t0/0\t0/0\t0/0\t0/0\t0/0\t0/0\t0/0\t0/0\t0/0\t0/0\t0/0\t0/0\t0/0\t0/0\t0/0\t0/0\t0/0\t0/0\t0/0\t0/0\t0/0\t0/0\t0/0\t0/0\t0/0\t0/0\t0/0\t0/0\t0/0\t0/0\t0/0\t0/0\t0/0\t0/0\t0/0\t0/0\t0/0\t0/0\t0/0\t0/0\t0/0\t0/0\t0/0\t0/0\t0/0\t0/0\t0/0\t0/0\t0/0\t0/0\t0/0\t0/0\t0/0\t0/0\t0/0\t0/0\t0/0\t0/0\t0/0\t0/0\t0/0\t0/0\t0/0\t0/0\t0/0\t0/0\t0/0\t0/0\t0/0\t0/0\t0/0\t0/0\t0/0\t0/0\t0/0\t0/0\t0/0\t0/0\t0/0\t0/0\t0/0\t0/0\t0/0\t0/0\t0/0\t0/0\t0/0\t0/0\t0/0\t0/0\t0/0\t0/0\t0/0\t0/0\t0/0\t0/0\t0/0\t0/0\t0/0\t0/0\t0/0\t0/0\t0/0\t0/0\t0/0\t0/0\t0/0\t0/0\t0/0\t0/0\t0/0\t0/0\t0/0\t0/0\t0/0\t0/0\t0/0\t0/0\t0/0\t0/0\t0/0\t0/0\t0/0\t0/0\t0/0\t0/0\t0/0\t0/0\t0/0\t0/0\t0/0\t0/0\t0/0\t0/0\t0/0\t0/0\t0/0\t0/0\t0/0\t0/0\t0/0\t0/0\t0/0\t0/0\t0/0\t0/0\t0/0\t0/0\t0/0\t0/0\t0/0\t0/0\t0/0\t0/0\t0/0\t0/0\t0/0\t0/0\t0/0\t0/0\t0/0\t0/0\t0/0\t0/0\t0/0\t0/0\t0/0\t0/0\t0/0\t0/0\t0/0\t0/0\t0/0\t0/0\t0/0\t0/0\t0/0\t0/0\t0/0\t0/0\t0/0\t0/0\t0/0\t0/0\t0/0\t0/0\t0/0\t0/0\t0/0\t0/0\t0/0\t0/0\t0/0\t0/0\t0/0\t0/0\t0/0\t0/0\t0/0\t0/0\t0/0\t0/0\t0/0\t0/0\t0/0\t0/0\t0/0\t0/0\t0/0\t0/0\t0/0\t0/0\t0/0\t0/0\t0/0\t0/0\t0/0\t0/0\t0/0\t0/0\t0/0\t0/0\t0/0\t0/0\t0/0\t0/0\t0/0\t0/0\t0/0\t0/0\t0/0\t0/0\t0/0\t0/0\t0/0\t0/0\t0/0\t0/0\t0/0\t0/0\t0/0\t0/0\t0/0\t0/0\t0/0\t0/0\t0/0\t0/0\t0/0\t0/0\t0/0\t0/0\t0/0\t0/0\t0/0\t0/0\t0/0\t0/0\t0/0\t0/0\t0/0\t0/0\t0/0\t0/0\t0/0\t0/0\t0/0\t0/0\t0/0\t0/0\t0/0\t0/0\t0/0\t0/0\t0/0\t0/0\t0/0\t0/0\t0/0\t0/0\t0/0\t0/0\t0/0\t0/0\t0/0\t0/0\t0/0\t0/0\t0/0\t0/0\t0/0\t0/0\t0/0\t0/0\t0/0\t0/0\t0/0\t0/0\t0/0\t0/0\t0/0\t0/0\t0/0\t0/0\t0/0\t0/0\t0/0\t0/0\t0/0\t0/0\t0/0\t0/0\t0/0\t0/0\t0/0\t0/0\t0/0\t0/0\t0/0\t0/0\t0/0\t0/0\t0/0\t0/0\t0/0\t0/0\t0/0\t0/0\t0/0\t0/0\t0/0\t0/0\t0/0\t0/0\t0/0\t0/0\t0/0\t0/0\t0/0\t0/0\t0/0\t0/0\t0/0\t0/0\t0/0\t0/0\t0/0\t0/0\t0/0\t0/0\t0/0\t0/0\t0/0\t0/0\t0/0\t0/0\t0/0\t0/0\t0/0\t0/0\t0/0\t0/0\t0/0\t0/0\t0/0\t0/0\t0/0\t0/0\t0/0\t0/0\t0/0\t0/0\t0/0\t0/0\t0/0\t0/0\t0/0\t0/0\t0/0\t0/0\t0/0\t0/0\t0/0\t0/0\t0/0\t0/0\t0/0\t0/0\t0/0\t0/0\t0/0\t0/0\t0/0\t0/0\t0/0\t0/0\t0/0\t0/0\t0/0\t0/0\t0/0\t0/0\t0/0\t0/0\t0/0\t0/0\t0/0\t0/0\t0/0\t0/0\t0/0\t0/0\t0/0\t0/0\t0/0\t0/0\t0/0\t0/0\t0/0\t0/0\t0/0\t0/0\t0/0\t0/0\t0/0\t0/0\t0/0\t0/0\t0/0\t0/0\t0/0\t0/0\t0/0\t0/0\t0/0\t0/0\t0/0\t0/0\t0/0\t0/0\t0/0\t0/0\t0/0\t0/0\t0/0\t0/0\t0/0\t0/0\t0/0\t0/0\t0/0\t0/0\t0/0\t0/0\t0/0\t0/0\t0/0\t0/0\t0/0\t0/0\t0/0\t0/0\t0/0\t0/0\t0/0\t0/0\t0/0\t0/0\t0/0\t0/0\t0/0\t0/0\t0/0\t0/0\t0/0\t0/0\t0/0\t0/0\t0/0\t0/0\t0/0\t0/0\t0/0\t0/0\t0/0\t0/0\t0/0\t0/0\t0/0\t0/0\t0/0\t0/0\t0/0\t0/0\t0/0\t0/0\t0/0\t0/0\t0/0\t0/0\t0/0\t0/0\t0/0\t0/0\t0/0\t0/0\t0/0\t0/0\t0/0\t0/0\t0/0\t0/0\t0/0\t0/0\t0/0\t0/0\t0/0\t0/0\t0/0\t0/0\t0/0\t0/0\t0/0\t0/0\t0/0\t0/0\t0/0\t0/0\t0/0\t0/0\t0/0\t0/0\t0/0\t0/0\t0/0\t0/0\t0/0\t0/0\t0/0\t0/0\t0/0\t0/0\t0/0\t0/0\t0/0\t0/0\t0/0\t0/0\t0/0\t0/0\t0/0\t0/0\t0/0\t0/0\t0/0\t0/0\t0/0\t0/0\t0/0\t0/0\t0/0\t0/0\t0/0\t0/0\t0/0\t0/0\t0/0\t0/0\t0/0\t0/0\t0/0\t0/0\t0/0\t0/0\t0/0\t0/0\t0/0\t0/0\t0/0\t0/0\t0/0\t0/0\t0/0\t0/0\t0/0\t0/0\t0/0\t0/0\t0/0\t0/0\t0/0\t0/0\t0/0\t0/0\t0/0\t0/0\t0/0\t0/0\t0/0\t0/0\t0/0\t0/0\t0/0\t0/0\t0/0\t0/0\t0/0\t0/0\t0/0\t0/0\t0/0\t0/0\t0/0\t0/0\t0/0\t0/0\t0/0\t0/0\t0/0\t0/0\t0/0\t0/0\t0/0\t0/0\t0/0\t0/0\t0/0\t0/0\t0/0\t0/0\t0/0\t0/0\t0/0\t0/0\t0/0\t0/0\t0/0\t0/0\t0/0\t0/0\t0/0\t0/0\t0/0\t0/0\t0/0\t0/0\t0/0\t0/0\t0/0\t0/0\t0/0\t0/0\t0/0\t0/0\t0/0\t0/0\t0/0\t0/0\t0/0\t0/0\t0/0\t0/0\t0/0\t0/0\t0/0\t0/0\t0/0\t0/0\t0/0\t0/0\t0/0\t0/0\t0/0\t0/0\t0/0\t0/0\t0/0\t0/0\t0/0\t0/0\t0/0\t0/0\t0/0\t0/0\t0/0\t0/0\t0/0\t0/0\t0/0\t0/0\t0/0\t0/0\t0/0\t0/0\t0/0\t0/0\t0/0\t0/0\t0/0\t0/0\t0/0\t0/0\t0/0\t0/0\t0/0\t0/0\t0/0\t0/0\t0/0\t0/0\t0/0\t0/0\t0/0\t0/0\t0/0\t0/0\t0/0\t0/0\t0/0\t0/0\t0/0\t0/0\t0/0\t0/0\t0/0\t0/0\t0/0\t0/0\t0/0\t0/0\t0/0\t0/0\t0/0\t0/0\t0/0\t0/0\t0/0\t0/0\t0/0\t0/0\t0/0\t0/0\t0/0\t0/0\t0/0\t0/0\t0/0\t0/0\t0/0\t0/0\t0/0\t0/0\t0/0\t0/0\t0/0\t0/0\t0/0\t0/0\t0/0\t0/0\t0/0\t0/0\t0/0\t0/0\t0/0\t0/0\t0/0\t0/0\t0/0\t0/0\t0/0\t0/0\t0/0\t0/0\t0/0\t0/0\t0/0\t0/0\t0/0\t0/0\t0/0\t0/0\t0/0\t0/0\t0/0\t0/0\t0/0\t0/0\t0/0\t0/0\t0/0\t0/0\t0/0\t0/0\t0/0\t0/0\t0/0\t0/0\t0/0\t0/0\t0/0\t0/0\t0/0\t0/0\t0/0\t0/0\t0/0\t0/0\t0/0\t0/0\t0/0\t0/0\t0/0\t0/0\t0/0\t0/0\t0/0\t0/0\t0/0\t0/0\t0/0\t0/0\t0/0\t0/0\t0/0\t0/0\t0/0\t0/0\t0/0\t0/0\t0/0\t0/0\t0/1\t0/0\t0/0\t0/0\t0/0\t0/0\t0/0\t0/0\t0/0\t0/0\t0/0\t0/0\t0/0\t0/0\t0/0\t0/0\t0/0\t0/0\t0/0\t0/0\t0/0\t0/0\t0/0\t0/0\t0/0\t0/0\t0/0\t0/0\t0/0\t0/0\t0/0\t0/0\t0/0\t0/0\t0/0\t0/0\t0/0\t0/0\t0/0\t0/0\t0/0\t0/0\t0/0\t0/0\t0/0\t0/0\t0/0\t0/0\t0/0\t0/0\t0/0\t0/0\t0/0\t0/0\t0/0\t0/0\t0/0\t0/0\t0/0\t0/0\t0/0\t0/0\t0/0\t0/0\t0/0\t0/0\t0/0\t0/0\t0/0\t0/0\t0/0\t0/0\t0/0\t0/0\t0/0\t0/0\t0/0\t0/0\t0/0\t0/0\t0/0\t0/0\t0/0\t0/0\t0/0\t0/0\t0/0\t0/0\t0/0\t0/0\t0/0\t0/0\t0/0\t0/0\t0/0\t0/0\t0/0\t0/0\t0/0\t0/0\t0/0\t0/0\t0/0\t0/0\t0/0\t0/0\t0/0\t0/0\t0/0\t0/0\t0/0\t0/0\t0/0\t0/0\t0/0\t0/0\t0/0\t0/0\t0/0\t0/0\t0/0\t0/0\t0/0\t0/0\t0/0\t0/0\t0/0\t0/0\t0/0\t0/0\t0/0\t0/0\t0/0\t0/0\t0/0\t0/0\t0/0\t0/0\t0/0\t0/0\t0/0\t0/0\t0/0\t0/0\t0/0\t0/0\t0/0\t0/0\t0/0\t0/0\t0/0\t0/0\t0/0\t0/0\t0/0\t0/0\t0/0\t0/0\t0/0\t0/0\t0/0\t0/0\t0/0\t0/0\t0/0\t0/0\t0/0\t0/0\t0/0\t0/0\t0/0\t0/0\t0/0\t0/0\t0/0\t0/0\t0/0\t0/0\t0/0\t0/0\t0/0\t0/0\t0/0\t0/0\t0/0\t0/0\t0/0\t0/0\t0/0\t0/0\t0/0\t0/0\t0/0\t0/0\t0/0\t0/0\t0/0\t0/0\t0/0\t0/0\t0/0\t0/0\t0/0\t0/0\t0/0\t0/0\t0/0\t0/0\t0/0\t0/0\t0/0\t0/0\t0/0\t0/0\t0/0\t0/0\t0/0\t0/0\t0/0\t0/0\t0/0\t0/0\t0/0\t0/0\t0/0\t0/0\t0/0\t0/0\t0/0\t0/0\t0/0\t0/0\t0/0\t0/0\t0/0\t0/0\t0/0\t0/0\t0/0\t0/0\t0/0\t0/0\t0/0\t0/0\t0/0\t0/0\t0/0\t0/0\t0/0\t0/0\t0/0\t0/0\t0/0\t0/0\t0/0\t0/0\t0/0\t0/0\t0/0\t0/0\t0/0\t0/0\t0/0\t0/0\t0/0\t0/0\t0/0\t0/0\t0/0\t0/0\t0/0\t0/0\t0/0\t0/0\t0/0\t0/0\t0/0\t0/0\t0/0\t0/0\t0/0\t0/0\t0/0\t0/0\t0/0\t0/0\t0/0\t0/0\t0/0\t0/0\t0/1\t0/0\t0/0\t0/0\t0/0\t0/0\t0/0\t0/0\t0/0\t0/0\t0/0\t0/0\t0/0\t0/0\t0/0\t0/0\t0/0\t0/0\t0/0\t0/0\t0/0\t0/0\t0/0\t0/0\t0/0\t0/0\t0/0\t0/0\t0/0\t0/0\t0/0\t0/0\t0/0\t0/0\t0/0\t0/0\t0/0\t0/0\t0/0\t0/0\t0/0\t0/0\t0/0\t0/0\t0/0\t0/0\t0/0\t0/0\t0/0\t0/0\t0/0\t0/0\t0/0\t0/0\t0/0\t0/0\t0/0\t0/0\t0/0\t0/0\t0/0\t0/0\t0/0\t0/0\t0/0\t0/0\t0/0\t0/0\t0/0\t0/0\t0/0\t0/0\t0/0\t0/0\t0/0\t0/0\t0/0\t0/0\t0/0\t0/0\t0/0\t0/0\t0/0\t0/0\t0/0\t0/0\t0/0\t0/0\t0/0\t0/0\t0/0\t0/0\t0/0\t0/0\t0/0\t0/0\t0/0\t0/0\t0/0\t0/0\t0/0\t0/0\t0/0\t0/0\t0/0\t0/0\t0/0\t0/0\t0/0\t0/0\t0/0\t0/0\t0/0\t0/0\t0/0\t0/0\t0/0\t0/0\t0/0\t0/0\t0/0\t0/0\t0/0\t0/0\t0/0\t0/0\t0/0\t0/0\t0/0\t0/0\t0/0\t0/0\t0/0\t0/0\t0/0\t0/0\t0/0\t0/0\t0/0\t0/0\t0/0\t0/0\t0/0\t0/0\t0/0\t0/0\t0/0\t0/0\t0/0\t0/0\t0/0\t0/0\t0/0\t0/0\t0/0\t0/0\t0/0\t0/0\t0/0\t0/0\t0/0\t0/0\t0/0\t0/0\t0/0\t0/0\t0/0\t0/0\t0/0\t0/0\t0/0\t0/0\t0/0\t0/0\t0/0\t0/0\t0/0\t0/0\t0/0\t0/0\t0/0\t0/0\t0/0\t0/0\t0/0\t0/0\t0/0\t0/0\t0/0\t0/0\t0/0\t0/0\t0/0\t0/0\t0/0\t0/0\t0/0\t0/0\t0/0\t0/0\t0/0\t0/0\t0/0\t0/0\t0/0\t0/0\t0/0\t0/0\t0/0\t0/0\t0/0\t0/0\t0/0\t0/0\t0/0\t0/0\t0/0\t0/0\t0/0\t0/0\t0/0\t0/0\t0/0\t0/0\t0/0\t0/0\t0/0\t0/0\t0/0\t0/0\t0/0\t0/0\t0/0\t0/0\t0/0\t0/0\t0/0\t0/0\t0/0\t0/0\t0/0\t0/0\t0/0\t0/0\t0/0\t0/0\t0/0\t0/0\t0/0\t0/0\t0/0\t0/0\t0/0\t0/0\t0/0\t0/0\t0/0\t0/0\t0/0\t0/0\t0/0\t0/0\t0/0\t0/0\t0/0\t0/0\t0/0\t0/0\t0/0\t0/0\t0/0\t0/0\t0/0\t0/0\t0/0\t0/0\t0/0\t0/0\t0/0\t0/0\t0/0\t0/0\t0/0\t0/0\t0/0\t0/0\t0/0\t0/0\t0/0\t0/0\t0/0\t0/0\t0/0\t0/0\t0/0\t0/0\t0/0\t0/0\t0/0\t0/0\t0/0\t0/0\t0/0\t0/0\t0/0\t0/0\t0/0\t0/0\t0/0\t0/0\t0/0\t0/0\t0/0\t0/0\t0/0\t0/0\t0/0\t0/0\t0/0\t0/0\t0/0\t0/0\t0/0\t0/0\t0/0\t0/0\t0/0\t0/0\t0/0\t0/0\t0/0\t0/0\t0/0\t0/0\t0/0\t0/0\t0/0\t0/0\t0/0\t0/0\t0/0\t0/0\t0/0\t0/0\t0/0\t0/0\t0/0\t0/0\t0/0\t0/0\t0/0\t0/0\t0/0\t0/0\t0/0\t0/0\t0/0\t0/0\t0/0\t0/0\t0/0\t0/0\t0/0\t0/0\t0/0\t0/0\t0/0\t0/0\t0/0\t0/0\t0/0\t0/0\t0/0\t0/0\t0/0\t0/0\t0/0\t0/0\t0/0\t0/0\t0/0\t0/0\t0/0\t0/0\t0/0\t0/0\t0/0\t0/0\t0/0\t0/0\t0/0\t0/0\t0/0\t0/0\t0/0\t0/0\t0/0\t0/0\t0/0\t0/0\t0/0\t0/0\t0/0\t0/0\t0/0\t0/0\t0/0\t0/0\t0/0\t0/0\t0/0\t0/0\t0/0\t0/0\t0/0\t0/0\t0/0\t0/0\t0/0\t0/0\t0/0\t0/0\t0/0\t0/0\t0/0\t0/0\t0/0\t0/0\t0/0\t0/0\t0/0\t0/0\t0/0\t0/0\t0/0\t0/0\t0/0\t0/0\t0/0\t0/0\t0/0\t0/0\t0/0\t0/0\t0/0\t0/0\t0/0\t0/0\t0/0\t0/0\t0/0\t0/0\t0/0\t0/0\t0/0\t0/0\t0/0\t0/0\t0/0\t0/0\t0/0\t0/0\t0/0\t0/0\t0/0\t0/0\t0/0\t0/0\t0/0\t0/0\t0/0\t0/0\t0/0\t0/0\t0/0\t0/0\t0/0\t0/0\t0/0\t0/0\t0/0\t0/0\t0/0\t0/0\t0/0\t0/0\t0/0\t0/0\t0/0\t0/0\t0/0\t0/0\t0/0\t0/0\t0/0\t0/0\t0/0\t0/0\t0/0\t0/0\t0/0\t0/0\t0/0\t0/0\t0/0\t0/0\t0/0\t0/0\t0/0\t0/0\t0/0\t0/0\t0/0\t0/0\t0/0\t0/0\t0/0\t0/0\t0/0\t0/0\t0/0\t0/0\t0/0\t0/0\t0/0\t0/0\t0/0\t0/0\t0/0\t0/0\t0/0\t0/0\t0/0\t0/0\t0/0\t0/0\t0/0\t0/0\t0/0\t0/0\t0/0\t0/0\t0/0\t0/0\t0/0\t0/0\t0/0\t0/0\t0/0\t0/0\t0/0\t0/0\t0/0\t0/0\t0/0\t0/0\t0/0\t0/0\t0/0\t0/0\t0/0\t0/0\t0/0\t0/0\t0/0\t0/0\t0/0\t0/0\t0/0\t0/0\t0/0\t0/0\t0/0\t0/0\t0/0\t0/0\t0/0\t0/0\t0/0\t0/0\t0/0\t0/0\t0/0\t0/0\t0/0\t0/0\t0/0\t0/0\t0/0\t0/0\t0/0\t0/0\t0/0\t0/0\t0/0\t0/0\t0/0\t0/0\t0/0\t0/0\t0/0\t0/0\t0/0\t0/0\t0/0\t0/0\t0/0\t0/0\t0/0\t0/0\t0/0\t0/0\t0/0\t0/0\t0/0\t0/0\t0/0\t0/0\t0/0\t0/0\t0/0\t0/0\t0/0\t0/0\t0/0\t0/0\t0/0\t0/0\t0/0\t0/0\t0/0\t0/0\t0/0\t0/0\t0/0\t0/0\t0/0\t0/0\t0/0\t0/0\t0/0\t0/0\t0/0\t0/0\t0/0\t0/0\t0/0\t0/0\t0/0\t0/0\t0/0\t0/0\t0/0\t0/0\t0/0\t0/0\t0/0\t0/0\t0/0\t0/0\t0/0\t0/0\t0/0\t0/0\t0/0\t0/0\t0/0\t0/0\t0/0\t0/0\t0/0\t0/0\t0/0\t0/0\t0/0\t0/0\t0/0\t0/0\t0/0\t0/0\t0/0\t0/0\t0/0\t0/0\t0/0\t0/0\t0/0\t0/0\t0/0\t0/0\t0/0\t0/0\t0/0\t0/0\t0/0\t0/0\t0/0\t0/0\t0/0\t0/0\t0/0\t0/0\t0/0\t0/0\t0/0\t0/0\t0/0\t0/0\t0/0\t0/0\t0/0\t0/0\t0/0\t0/0\t0/0\t0/0\t0/0\t0/0\t0/0\t0/0\t0/0\t0/0\t0/0\t0/0\t0/0\t0/0\t0/0\t0/0\t0/0\t0/0\t0/0\t0/0\t0/0\t0/0\t0/0\t0/0\t0/0\t0/0\t0/0\t0/0\t0/0\t0/0\t0/0\t0/0\t0/0\t0/0\t0/0\t0/0\t0/0\t0/0\t0/0\t0/0\t0/0\t0/0\t0/0\t0/0\t0/0\t0/0\t0/0\t0/0\t0/0\t0/0\t0/0\t0/0\t0/0\t0/0\t0/0\t0/0\t0/0\t0/0\t0/0\t0/0\t0/0\t0/0\t0/0\t0/0\t0/0\t0/0\t0/0\t0/0\t0/0\t0/0\t0/0\t0/0\t0/0\t0/0\t0/0\t0/0\t0/0\t0/0\t0/0\t0/0\t0/0\t0/0\t0/0\t0/0\t0/0\t0/0\t0/0\t0/0\t0/0\t0/0\t0/0\t0/0\t0/0\t0/0\t0/0\t0/0\t0/0\t0/0\t0/0\t0/0\t0/0\t0/0\t0/0\t0/0\t0/0\t0/0\t0/0\t0/0\t0/0\t0/0\t0/0\t0/0\t0/0\t0/0\t0/0\t0/0\t0/0\t0/0\t0/0\t0/0\t0/0\t0/0\t0/0\t0/0\t0/0\t0/0\t0/0\t0/0\t0/0\t0/0\t0/0\t0/0\t0/0\t0/0\t0/0\t0/0\t0/0\t0/0\t0/0\t0/0\t0/0\t0/0\t0/0\t0/0\t0/0\t0/0\t0/0\t0/0\t0/0\t0/0\t0/0\t0/0\t0/0\t0/0\t0/0\t0/0\t0/0\t0/0\t0/0\t0/0\t0/0\t0/0\t0/0\t0/0\t0/0\t0/0\t0/0\t0/0\t0/0\t0/0\t0/0\t0/0\t0/0\t0/0\t0/0\t0/0\t0/0\t0/0\t0/0\t0/0\t0/0\t0/0\t0/0\t0/0\t0/0\t0/0\t0/0\t0/0\t0/0\t0/0\t0/0\t0/0\t0/0\t0/0\t0/0\t0/0\t0/0\t0/0\t0/0\t0/0\t0/0\t0/0\t0/0\t0/0\t0/0\t0/0\t0/0\t0/0\t0/0\t0/0\t0/0\t0/0\t0/0\t0/0\t0/0\t0/0\t0/0\t0/0\t0/0\t0/0\t0/0\t0/0\t0/0\t0/0\t0/0\t0/0\t0/0\t0/0\t0/0\t0/0\t0/0\t0/0\t0/0\t0/0\t0/0\t0/0\t0/0\t0/0\t0/0\t0/0\t0/0\t0/0\t0/0\t0/0\t0/0\t0/0\t0/0\t0/0\t0/0\t0/0\t0/0\t0/0\t0/0\t0/0\t0/0\t0/0\t0/0\t0/0\t0/0\t0/0\t0/0\t0/0\t0/0\t0/0\t0/0\t0/0\t0/0\t0/0\t0/0\t0/0\t0/0\t0/0\t0/0\t0/0\t0/0\t0/0\t0/0\t0/0\t0/0\t0/0\t0/0\t0/0\t0/0\t0/0\t0/0\t0/0\t0/0\t0/0\t0/0\t0/0\t0/0\t0/0\t0/0\t0/0\t0/0\t0/0\t0/0\t0/0\t0/0\t0/0\t0/0\t0/0\t0/0\t0/0\t0/0\t0/0\t0/0\t0/0\t0/0\t0/0\t0/0\t0/0\t0/0\t0/0\t0/0\t0/0\t0/0\t0/0\t0/0\t0/0\t0/0\t0/0\t0/0\t0/0\t0/0\t0/0\t0/0\t0/0\t0/0\t0/0\t0/0\t0/0\t0/0\t0/0\t0/0\t0/0\t0/0\t0/0\t0/0\t0/0\t0/0\t0/0\t0/0\t0/0\t0/0\t0/0\t0/0\t0/0\t0/0\t0/0\t0/0\t0/0\t0/0\t0/0\t0/0\t0/0\t0/0\t0/0\t0/0\t0/0\t0/0\t0/0\t0/0\t0/0\t0/0\t0/0\t0/0\t0/0\t0/0\t0/0\t0/0\t0/0\t0/0\t0/0\t0/0\t0/0\t0/0\t0/0\t0/0\t0/0\t0/0\t0/0\t0/0\t0/0\t0/0\t0/0\t0/0\t0/0\t0/0\t0/0\t0/0\t0/0\t0/0\t0/0\t0/0\t0/0\t0/0\t0/0\t0/0\t0/0\t0/0\t0/0\t0/0\t0/0\t0/0\t0/0\t0/0\t0/0\t0/0\t0/0\t0/0\t0/0\t0/0\t0/0\t0/0\t0/0\t0/0\t0/0\t0/0\t0/0\t0/0\t0/0\t0/0\t0/0\t0/0\t0/0\t0/0\t0/0\t0/0\t0/0\t0/0\t0/0\t0/0\t0/0\t0/0\t0/0\t0/0\t0/0\t0/0\t0/0\t0/0\t0/0\t0/0\t0/0\t0/0\t0/0\t0/0\t0/0\t0/0\t0/0\t0/0\t0/0\t0/0\t0/0\t0/0\t0/0\t0/0\t0/0\t0/0\t0/0\t0/0\t0/0\t0/0\t0/0\t0/0\t0/1\t0/0\t0/0\t0/0\t0/0\t0/0\t0/0\t0/0\t0/0\t0/0\t0/0\t0/0\t0/0\t0/0\t0/0\t0/0\t0/0\t0/0\t0/0\t0/0\t0/0\t0/0\t0/0\t0/0\t0/0\t0/0\t0/0\t0/0\t0/0\t0/0\t0/0\t0/0\t0/0\t0/0\t0/0\t0/0\t0/0\t0/0\t0/0\t0/0\t0/0\t0/0\t0/0\t0/0\t0/0\t0/0\t0/0>\n",
      "WARNING: ANNOVAR can still annotate exonic_variant_function for the mutation correctly!\n",
      "WARNING: you may have used wrong -buildver, or specified incorrect reference allele, or used outdated mRNA FASTA file!\n",
      "---------------------------------------------------------------------------------------\n",
      "\n",
      "\n",
      "NOTICE: Running with system command <coding_change.pl  /home/jupyter-user/notebooks/LSDProject/results/LSDGenes-WGS_Dec3120/LSD-GENES.annovar.refGene.exonic_variant_function.orig /home/jupyter-user/notebooks/LSDProject/tools/annovar/annovar/humandb/hg38_refGene.txt /home/jupyter-user/notebooks/LSDProject/tools/annovar/annovar/humandb/hg38_refGeneMrna.fa -alltranscript -out /home/jupyter-user/notebooks/LSDProject/results/LSDGenes-WGS_Dec3120/LSD-GENES.annovar.refGene.fa -newevf /home/jupyter-user/notebooks/LSDProject/results/LSDGenes-WGS_Dec3120/LSD-GENES.annovar.refGene.exonic_variant_function>\n",
      "-----------------------------------------------------------------\n",
      "NOTICE: Processing operation=r protocol=cytoband\n",
      "\n",
      "NOTICE: Running with system command <annotate_variation.pl -regionanno -dbtype cytoband -buildver hg38 -outfile /home/jupyter-user/notebooks/LSDProject/results/LSDGenes-WGS_Dec3120/LSD-GENES.annovar /home/jupyter-user/notebooks/LSDProject/results/LSDGenes-WGS_Dec3120/LSD-GENES.annovar.avinput /home/jupyter-user/notebooks/LSDProject/tools/annovar/annovar/humandb>\n",
      "NOTICE: Output file is written to /home/jupyter-user/notebooks/LSDProject/results/LSDGenes-WGS_Dec3120/LSD-GENES.annovar.hg38_cytoBand\n",
      "NOTICE: Reading annotation database /home/jupyter-user/notebooks/LSDProject/tools/annovar/annovar/humandb/hg38_cytoBand.txt ... Done with 1433 regions\n",
      "NOTICE: Finished region-based annotation on 34355 genetic variants\n",
      "-----------------------------------------------------------------\n",
      "NOTICE: Processing operation=f protocol=dbnsfp35a\n",
      "NOTICE: Finished reading 70 column headers for '-dbtype dbnsfp35a'\n",
      "\n",
      "NOTICE: Running system command <annotate_variation.pl -filter -dbtype dbnsfp35a -buildver hg38 -outfile /home/jupyter-user/notebooks/LSDProject/results/LSDGenes-WGS_Dec3120/LSD-GENES.annovar /home/jupyter-user/notebooks/LSDProject/results/LSDGenes-WGS_Dec3120/LSD-GENES.annovar.avinput /home/jupyter-user/notebooks/LSDProject/tools/annovar/annovar/humandb -otherinfo>\n",
      "NOTICE: Output file with variants matching filtering criteria is written to /home/jupyter-user/notebooks/LSDProject/results/LSDGenes-WGS_Dec3120/LSD-GENES.annovar.hg38_dbnsfp35a_dropped, and output file with other variants is written to /home/jupyter-user/notebooks/LSDProject/results/LSDGenes-WGS_Dec3120/LSD-GENES.annovar.hg38_dbnsfp35a_filtered\n",
      "NOTICE: Processing next batch with 34355 unique variants in 34355 input lines\n",
      "NOTICE: Database index loaded. Total number of bins is 552168 and the number of bins to be scanned is 1276\n",
      "NOTICE: Scanning filter database /home/jupyter-user/notebooks/LSDProject/tools/annovar/annovar/humandb/hg38_dbnsfp35a.txt...Done\n",
      "-----------------------------------------------------------------\n",
      "NOTICE: Processing operation=f protocol=avsnp150\n",
      "\n",
      "NOTICE: Running system command <annotate_variation.pl -filter -dbtype avsnp150 -buildver hg38 -outfile /home/jupyter-user/notebooks/LSDProject/results/LSDGenes-WGS_Dec3120/LSD-GENES.annovar /home/jupyter-user/notebooks/LSDProject/results/LSDGenes-WGS_Dec3120/LSD-GENES.annovar.avinput /home/jupyter-user/notebooks/LSDProject/tools/annovar/annovar/humandb>\n",
      "NOTICE: Output file with variants matching filtering criteria is written to /home/jupyter-user/notebooks/LSDProject/results/LSDGenes-WGS_Dec3120/LSD-GENES.annovar.hg38_avsnp150_dropped, and output file with other variants is written to /home/jupyter-user/notebooks/LSDProject/results/LSDGenes-WGS_Dec3120/LSD-GENES.annovar.hg38_avsnp150_filtered\n",
      "NOTICE: Processing next batch with 34355 unique variants in 34355 input lines\n",
      "NOTICE: Database index loaded. Total number of bins is 28304406 and the number of bins to be scanned is 19244\n",
      "NOTICE: Scanning filter database /home/jupyter-user/notebooks/LSDProject/tools/annovar/annovar/humandb/hg38_avsnp150.txt...Done\n",
      "-----------------------------------------------------------------\n",
      "NOTICE: Processing operation=f protocol=revel\n",
      "NOTICE: Finished reading 1 column headers for '-dbtype revel'\n",
      "\n",
      "NOTICE: Running system command <annotate_variation.pl -filter -dbtype revel -buildver hg38 -outfile /home/jupyter-user/notebooks/LSDProject/results/LSDGenes-WGS_Dec3120/LSD-GENES.annovar /home/jupyter-user/notebooks/LSDProject/results/LSDGenes-WGS_Dec3120/LSD-GENES.annovar.avinput /home/jupyter-user/notebooks/LSDProject/tools/annovar/annovar/humandb -otherinfo>\n",
      "NOTICE: the --dbtype revel is assumed to be in generic ANNOVAR database format\n",
      "NOTICE: Output file with variants matching filtering criteria is written to /home/jupyter-user/notebooks/LSDProject/results/LSDGenes-WGS_Dec3120/LSD-GENES.annovar.hg38_revel_dropped, and output file with other variants is written to /home/jupyter-user/notebooks/LSDProject/results/LSDGenes-WGS_Dec3120/LSD-GENES.annovar.hg38_revel_filtered\n",
      "NOTICE: Processing next batch with 34355 unique variants in 34355 input lines\n",
      "NOTICE: Database index loaded. Total number of bins is 194729 and the number of bins to be scanned is 588\n",
      "NOTICE: Scanning filter database /home/jupyter-user/notebooks/LSDProject/tools/annovar/annovar/humandb/hg38_revel.txt...Done\n",
      "-----------------------------------------------------------------\n",
      "NOTICE: Processing operation=f protocol=gnomad211_genome\n",
      "NOTICE: Finished reading 17 column headers for '-dbtype gnomad211_genome'\n",
      "\n",
      "NOTICE: Running system command <annotate_variation.pl -filter -dbtype gnomad211_genome -buildver hg38 -outfile /home/jupyter-user/notebooks/LSDProject/results/LSDGenes-WGS_Dec3120/LSD-GENES.annovar /home/jupyter-user/notebooks/LSDProject/results/LSDGenes-WGS_Dec3120/LSD-GENES.annovar.avinput /home/jupyter-user/notebooks/LSDProject/tools/annovar/annovar/humandb -otherinfo>\n",
      "NOTICE: Output file with variants matching filtering criteria is written to /home/jupyter-user/notebooks/LSDProject/results/LSDGenes-WGS_Dec3120/LSD-GENES.annovar.hg38_gnomad211_genome_dropped, and output file with other variants is written to /home/jupyter-user/notebooks/LSDProject/results/LSDGenes-WGS_Dec3120/LSD-GENES.annovar.hg38_gnomad211_genome_filtered\n",
      "NOTICE: Processing next batch with 34355 unique variants in 34355 input lines\n",
      "NOTICE: Database index loaded. Total number of bins is 28076758 and the number of bins to be scanned is 19243\n",
      "NOTICE: Scanning filter database /home/jupyter-user/notebooks/LSDProject/tools/annovar/annovar/humandb/hg38_gnomad211_genome.txt...Done\n",
      "-----------------------------------------------------------------\n",
      "NOTICE: Processing operation=f protocol=clinvar_20200316\n",
      "NOTICE: Finished reading 5 column headers for '-dbtype clinvar_20200316'\n",
      "\n",
      "NOTICE: Running system command <annotate_variation.pl -filter -dbtype clinvar_20200316 -buildver hg38 -outfile /home/jupyter-user/notebooks/LSDProject/results/LSDGenes-WGS_Dec3120/LSD-GENES.annovar /home/jupyter-user/notebooks/LSDProject/results/LSDGenes-WGS_Dec3120/LSD-GENES.annovar.avinput /home/jupyter-user/notebooks/LSDProject/tools/annovar/annovar/humandb -otherinfo>\n",
      "NOTICE: the --dbtype clinvar_20200316 is assumed to be in generic ANNOVAR database format\n",
      "NOTICE: Output file with variants matching filtering criteria is written to /home/jupyter-user/notebooks/LSDProject/results/LSDGenes-WGS_Dec3120/LSD-GENES.annovar.hg38_clinvar_20200316_dropped, and output file with other variants is written to /home/jupyter-user/notebooks/LSDProject/results/LSDGenes-WGS_Dec3120/LSD-GENES.annovar.hg38_clinvar_20200316_filtered\n",
      "NOTICE: Processing next batch with 34355 unique variants in 34355 input lines\n",
      "NOTICE: Database index loaded. Total number of bins is 72414 and the number of bins to be scanned is 631\n",
      "NOTICE: Scanning filter database /home/jupyter-user/notebooks/LSDProject/tools/annovar/annovar/humandb/hg38_clinvar_20200316.txt...Done\n",
      "-----------------------------------------------------------------\n",
      "NOTICE: Multianno output file is written to /home/jupyter-user/notebooks/LSDProject/results/LSDGenes-WGS_Dec3120/LSD-GENES.annovar.hg38_multianno.txt\n",
      "NOTICE: Reading from /home/jupyter-user/notebooks/LSDProject/results/LSDGenes-WGS_Dec3120/LSD-GENES.annovar.hg38_multianno.txt\n",
      "-----------------------------------------------------------------\n",
      "NOTICE: VCF output is written to /home/jupyter-user/notebooks/LSDProject/results/LSDGenes-WGS_Dec3120/LSD-GENES.annovar.hg38_multianno.vcf\n",
      "\n",
      "gzip: stdout: Broken pipe\n",
      "time: 1354.3092164993286\n",
      "finished annovar\n"
     ]
    }
   ],
   "source": [
    "humanDB='/home/jupyter-user/notebooks/LSDProject/tools/annovar/annovar/humandb'\n",
    "outPrefix='LSD-GENES.annovar'\n",
    "annovarCmd='/home/jupyter-user/notebooks/LSDProject/tools/annovar/annovar/table_annovar.pl'\n",
    "#workingDir=LSDGenes\n",
    "plinkPrefix='LSDGenes-WGS-AMPPD'\n",
    "#workingDir='/home/jupyter-user/notebooks/LaurieRobak1/LSD-All-genes'\n",
    "#vcfFile=workingDir+'/'+plinkPrefix+'.vcf.gz'\n",
    "vcfFile=dataDir+vcfOutPrefix+'.vcf.gz'\n",
    "\n",
    "cmd1= annovarCmd+' '+vcfFile+' '+humanDB+' -buildver hg38 ' + '-out ' + resDir + outPrefix\n",
    "cmd2=' -remove -protocol refGene,cytoband,dbnsfp35a,avsnp150,revel,gnomad211_genome,clinvar_20200316 -operation g,r,f,f,f,f,f -nastring . -vcfinput -polish '\n",
    "cmd=cmd1+cmd2\n",
    "print('cmd:', cmd)\n",
    "start_time = time.time()\n",
    "shell_do(cmd)\n",
    "end_time = time.time()\n",
    "process_time = end_time - start_time\n",
    "print('time:', process_time)\n",
    "#shell_do(f'{annovarCmd} {vcfFile} \\\n",
    "#{humanDB} -buildver hg38 \\\n",
    "#-out {workingDir}/{outPrefix} \\\n",
    "#-remove -protocol refGene,cytoband,dbnsfp35a,avsnp150,revel,gnomad211_genome,clinvar_20200316 \\\n",
    "#-operation g,r,f,f,f,f,f -nastring . -vcfinput -polish')\n",
    "\n",
    "print('finished annovar')"
   ]
  },
  {
   "cell_type": "code",
   "execution_count": 60,
   "metadata": {},
   "outputs": [
    {
     "name": "stdout",
     "output_type": "stream",
     "text": [
      "inFile: /home/jupyter-user/notebooks/LSDProject/results/LSDGenes-WGS_Dec3120/LSD-GENES.annovar.hg38_multianno.txt\n",
      "(34355, 3191)\n",
      "   Chr     Start       End Ref Alt Func.refGene Gene.refGene  \\\n",
      "0    1  16985990  16985990   C   T       exonic      ATP13A2   \n",
      "1    1  16986063  16986063   A   G       exonic      ATP13A2   \n",
      "2    1  16986091  16986091   G   A       exonic      ATP13A2   \n",
      "3    1  16986097  16986097   G   A       exonic      ATP13A2   \n",
      "4    1  16986101  16986101   T   A       exonic      ATP13A2   \n",
      "\n",
      "  GeneDetail.refGene ExonicFunc.refGene  \\\n",
      "0                  .  nonsynonymous SNV   \n",
      "1                  .     synonymous SNV   \n",
      "2                  .  nonsynonymous SNV   \n",
      "3                  .  nonsynonymous SNV   \n",
      "4                  .  nonsynonymous SNV   \n",
      "\n",
      "                                AAChange.refGene  ... Otherinfo3077  \\\n",
      "0  ATP13A2:NM_001141974:exon27:c.G3472A:p.V1158M  ...           0/0   \n",
      "1  ATP13A2:NM_001141974:exon27:c.T3399C:p.V1133V  ...           0/0   \n",
      "2  ATP13A2:NM_001141974:exon27:c.C3371T:p.P1124L  ...           0/0   \n",
      "3  ATP13A2:NM_001141974:exon27:c.C3365T:p.P1122L  ...           0/0   \n",
      "4  ATP13A2:NM_001141974:exon27:c.A3361T:p.T1121S  ...           0/0   \n",
      "\n",
      "  Otherinfo3078 Otherinfo3079 Otherinfo3080 Otherinfo3081 Otherinfo3082  \\\n",
      "0           0/0           0/0           0/0           0/0           0/0   \n",
      "1           0/0           0/0           0/0           0/0           0/0   \n",
      "2           0/0           0/0           0/0           0/0           0/0   \n",
      "3           0/0           0/0           0/0           0/0           0/0   \n",
      "4           0/0           0/0           0/0           0/0           0/0   \n",
      "\n",
      "  Otherinfo3083 Otherinfo3084 Otherinfo3085 Otherinfo3086  \n",
      "0           0/0           0/0           0/0           0/0  \n",
      "1           0/0           0/0           0/0           0/0  \n",
      "2           0/0           0/0           0/0           0/0  \n",
      "3           0/0           0/0           0/0           0/0  \n",
      "4           0/0           0/0           0/0           0/0  \n",
      "\n",
      "[5 rows x 3191 columns]\n",
      "Done\n"
     ]
    }
   ],
   "source": [
    "#just checking\n",
    "#inFile='/home/jupyter-user/notebooks/LaurieRobak1/LSD-All-genes/LSD-GENES.annovar.hg38_multianno.txt'\n",
    "inFile=resDir+'LSD-GENES.annovar.hg38_multianno.txt'\n",
    "print('inFile:', inFile)\n",
    "tmpDf=pd.read_csv(inFile, sep=\"\\t\")\n",
    "print(tmpDf.shape)\n",
    "print(tmpDf.head())\n",
    "print('Done')"
   ]
  },
  {
   "cell_type": "markdown",
   "metadata": {},
   "source": [
    "# Extract coding variants"
   ]
  },
  {
   "cell_type": "code",
   "execution_count": 9,
   "metadata": {},
   "outputs": [
    {
     "name": "stdout",
     "output_type": "stream",
     "text": [
      "Executing: grep \"exonic\"  /home/jupyter-user/notebooks/LSDProject/results/LSDGenes-WGS_Dec3120//LSD-GENES.annovar.hg38_multianno.txt > /home/jupyter-user/notebooks/LSDProject/data/CODING_regions.txt\n",
      "Executing: cut -f 1,2,3,7  /home/jupyter-user/notebooks/LSDProject/data/CODING_regions.txt > /home/jupyter-user/notebooks/LSDProject/data/CODING.txt\n",
      "Done !!\n"
     ]
    }
   ],
   "source": [
    "annoPrefix='LSD-GENES'\n",
    "annoFile=resDir+'/'+annoPrefix+'.annovar.hg38_multianno.txt'\n",
    "shell_do(f'grep \"exonic\"  {annoFile} > {dataDir}CODING_regions.txt')\n",
    "shell_do(f'cut -f 1,2,3,7  {dataDir}CODING_regions.txt > {dataDir}CODING.txt')\n",
    "print('Done !!')"
   ]
  },
  {
   "cell_type": "markdown",
   "metadata": {
    "heading_collapsed": true
   },
   "source": [
    "# Prep the files and generate PLINK binary with only coding variants"
   ]
  },
  {
   "cell_type": "code",
   "execution_count": 11,
   "metadata": {
    "hidden": true
   },
   "outputs": [
    {
     "name": "stdout",
     "output_type": "stream",
     "text": [
      "cmd: /home/jupyter-user/notebooks/LSDProject/tools/plink --bfile /home/jupyter-user/notebooks/LSDProject/data/LSDGenes-WGS-AMPPD --pheno /home/jupyter-user/notebooks/LSDProject/data/plink_pheno_withPCs.tab --pheno-name PHENO --extract range /home/jupyter-user/notebooks/LSDProject/data/CODING.txt --make-bed --out /home/jupyter-user/notebooks/LSDProject/data/LSDGenes-WGS-AMPPD_exonic\n",
      "Executing: /home/jupyter-user/notebooks/LSDProject/tools/plink --bfile /home/jupyter-user/notebooks/LSDProject/data/LSDGenes-WGS-AMPPD --pheno /home/jupyter-user/notebooks/LSDProject/data/plink_pheno_withPCs.tab --pheno-name PHENO --extract range /home/jupyter-user/notebooks/LSDProject/data/CODING.txt --make-bed --out /home/jupyter-user/notebooks/LSDProject/data/LSDGenes-WGS-AMPPD_exonic\n",
      "PLINK v1.90b6.9 64-bit (4 Mar 2019)            www.cog-genomics.org/plink/1.9/\n",
      "(C) 2005-2019 Shaun Purcell, Christopher Chang   GNU General Public License v3\n",
      "Logging to /home/jupyter-user/notebooks/LSDProject/data/LSDGenes-WGS-AMPPD_exonic.log.\n",
      "Options in effect:\n",
      "  --bfile /home/jupyter-user/notebooks/LSDProject/data/LSDGenes-WGS-AMPPD\n",
      "  --extract range /home/jupyter-user/notebooks/LSDProject/data/CODING.txt\n",
      "  --make-bed\n",
      "  --out /home/jupyter-user/notebooks/LSDProject/data/LSDGenes-WGS-AMPPD_exonic\n",
      "  --pheno /home/jupyter-user/notebooks/LSDProject/data/plink_pheno_withPCs.tab\n",
      "  --pheno-name PHENO\n",
      "\n",
      "15043 MB RAM detected; reserving 7521 MB for main workspace.\n",
      "34355 variants loaded from .bim file.\n",
      "3074 people (1721 males, 1353 females) loaded from .fam.\n",
      "2835 phenotype values present after --pheno.\n",
      "--extract range: 32795 variants excluded.\n",
      "--extract range: 1560 variants remaining.\n",
      "Using 1 thread (no multithreaded calculations invoked).\n",
      "Before main variant filters, 3074 founders and 0 nonfounders present.\n",
      "Calculating allele frequencies... 10111213141516171819202122232425262728293031323334353637383940414243444546474849505152535455565758596061626364656667686970717273747576777879808182838485868788899091929394959697989 done.\n",
      "Total genotyping rate is 0.999706.\n",
      "1560 variants and 3074 people pass filters and QC.\n",
      "Among remaining phenotypes, 1735 are cases and 1100 are controls.  (239\n",
      "phenotypes are missing.)\n",
      "--make-bed to\n",
      "/home/jupyter-user/notebooks/LSDProject/data/LSDGenes-WGS-AMPPD_exonic.bed +\n",
      "/home/jupyter-user/notebooks/LSDProject/data/LSDGenes-WGS-AMPPD_exonic.bim +\n",
      "/home/jupyter-user/notebooks/LSDProject/data/LSDGenes-WGS-AMPPD_exonic.fam ...\n",
      "101112131415161718192021222324252627282930313233343536373839404142434445464748495051525354555657585960616263646566676869707172737475767778798081828384858687888990919293949596979899done.\n",
      "Done !!\n"
     ]
    }
   ],
   "source": [
    "bFile=dataDir+'LSDGenes-WGS-AMPPD'\n",
    "outPrefix=dataDir+'LSDGenes-WGS-AMPPD_exonic'\n",
    "phenoFile=dataDir+'plink_pheno_withPCs.tab'\n",
    "cmd=plinkCmd+ ' --bfile ' + bFile + ' --pheno ' + phenoFile + ' --pheno-name PHENO --extract range ' + dataDir + 'CODING.txt' + ' --make-bed --out ' + outPrefix\n",
    "print('cmd:', cmd)\n",
    "shell_do(cmd)\n",
    "#shell_do(f'~/bin/plink --bfile {bFile} --pheno {phenoFile} --pheno-name PHENO --extract range {workingDir}/CODING.txt --make-bed --out {outPrefix}')\n",
    "print('Done !!')"
   ]
  },
  {
   "cell_type": "markdown",
   "metadata": {
    "heading_collapsed": true
   },
   "source": [
    "# Create the VCF with only coding variants"
   ]
  },
  {
   "cell_type": "code",
   "execution_count": 12,
   "metadata": {
    "hidden": true
   },
   "outputs": [
    {
     "name": "stdout",
     "output_type": "stream",
     "text": [
      "Executing: /home/jupyter-user/notebooks/LSDProject/tools/plink --bfile /home/jupyter-user/notebooks/LSDProject/data//LSDGenes-WGS-AMPPD_exonic --pheno /home/jupyter-user/notebooks/LSDProject/data/plink_pheno_withPCs.tab --pheno-name PHENO --recode vcf-fid --out /home/jupyter-user/notebooks/LSDProject/data//LSDGenes-WGS-AMPPD_exonic\n",
      "PLINK v1.90b6.9 64-bit (4 Mar 2019)            www.cog-genomics.org/plink/1.9/\n",
      "(C) 2005-2019 Shaun Purcell, Christopher Chang   GNU General Public License v3\n",
      "Logging to /home/jupyter-user/notebooks/LSDProject/data//LSDGenes-WGS-AMPPD_exonic.log.\n",
      "Options in effect:\n",
      "  --bfile /home/jupyter-user/notebooks/LSDProject/data//LSDGenes-WGS-AMPPD_exonic\n",
      "  --out /home/jupyter-user/notebooks/LSDProject/data//LSDGenes-WGS-AMPPD_exonic\n",
      "  --pheno /home/jupyter-user/notebooks/LSDProject/data/plink_pheno_withPCs.tab\n",
      "  --pheno-name PHENO\n",
      "  --recode vcf-fid\n",
      "\n",
      "15043 MB RAM detected; reserving 7521 MB for main workspace.\n",
      "1560 variants loaded from .bim file.\n",
      "3074 people (1721 males, 1353 females) loaded from .fam.\n",
      "2835 phenotype values present after --pheno.\n",
      "Using 1 thread (no multithreaded calculations invoked).\n",
      "Before main variant filters, 3074 founders and 0 nonfounders present.\n",
      "Calculating allele frequencies... 10111213141516171819202122232425262728293031323334353637383940414243444546474849505152535455565758596061626364656667686970717273747576777879808182838485868788899091929394959697989 done.\n",
      "Total genotyping rate is 0.999706.\n",
      "1560 variants and 3074 people pass filters and QC.\n",
      "Among remaining phenotypes, 1735 are cases and 1100 are controls.  (239\n",
      "phenotypes are missing.)\n",
      "--recode vcf-fid to\n",
      "/home/jupyter-user/notebooks/LSDProject/data//LSDGenes-WGS-AMPPD_exonic.vcf ...\n",
      "101112131415161718192021222324252627282930313233343536373839404142434445464748495051525354555657585960616263646566676869707172737475767778798081828384858687888990919293949596979899done.\n",
      "Executing: bgzip /home/jupyter-user/notebooks/LSDProject/data//LSDGenes-WGS-AMPPD_exonic.vcf\n",
      "Executing: tabix -f -p vcf /home/jupyter-user/notebooks/LSDProject/data//LSDGenes-WGS-AMPPD_exonic.vcf.gz\n",
      "Done !!\n"
     ]
    }
   ],
   "source": [
    "bFile=dataDir+'/'+'LSDGenes-WGS-AMPPD_exonic'\n",
    "outPrefix=dataDir+'/'+'LSDGenes-WGS-AMPPD_exonic'\n",
    "shell_do(f'{plinkCmd} --bfile {bFile} --pheno {phenoFile} --pheno-name PHENO --recode vcf-fid --out {outPrefix}')\n",
    "shell_do(f'bgzip {dataDir}/LSDGenes-WGS-AMPPD_exonic.vcf')\n",
    "shell_do(f'tabix -f -p vcf {dataDir}/LSDGenes-WGS-AMPPD_exonic.vcf.gz')\n",
    "print('Done !!')"
   ]
  },
  {
   "cell_type": "markdown",
   "metadata": {},
   "source": [
    "# Get and set rvtest command"
   ]
  },
  {
   "cell_type": "code",
   "execution_count": 14,
   "metadata": {},
   "outputs": [],
   "source": [
    "#copy the excutable from https://github.com/zhanxw/rvtests/releases and untar it\n",
    "rvtestCmd='/home/jupyter-user/notebooks/LSDProject/tools/rvtests/executable/rvtest'"
   ]
  },
  {
   "cell_type": "markdown",
   "metadata": {},
   "source": [
    "# Get the refFlat file for rvtests"
   ]
  },
  {
   "cell_type": "code",
   "execution_count": 15,
   "metadata": {},
   "outputs": [
    {
     "name": "stdout",
     "output_type": "stream",
     "text": [
      "Executing: gsutil cp gs://fc-secure-faef21d4-0ae2-4dfa-a025-d9292ca13bf5/notebooks/refFlat_hg38.txt.zip /home/jupyter-user/notebooks/LSDProject/data/\n",
      "Copying gs://fc-secure-faef21d4-0ae2-4dfa-a025-d9292ca13bf5/notebooks/refFlat_hg38.txt.zip...\n",
      "/ [1 files][  7.2 MiB/  7.2 MiB]                                                \n",
      "Operation completed over 1 objects/7.2 MiB.                                      \n"
     ]
    }
   ],
   "source": [
    "cmd = 'gsutil cp gs://' + googleGSId+'/notebooks/refFlat_hg38.txt.zip ' + dataDir\n",
    "shell_do(cmd)\n",
    "#unzip\n",
    "#cmd = ''+ dataDir+'refFlat_hg38.txt.zip'"
   ]
  },
  {
   "cell_type": "markdown",
   "metadata": {},
   "source": [
    "# Make rvtest phenotype file"
   ]
  },
  {
   "cell_type": "code",
   "execution_count": 14,
   "metadata": {},
   "outputs": [
    {
     "name": "stdout",
     "output_type": "stream",
     "text": [
      "dim: (2835, 28)\n",
      "dim: (2835, 28)\n",
      "fileName: /home/jupyter-user/notebooks/LSDProject/data/plink_pheno_withPCs_rvtestFormat_allRaces.tab\n",
      "Done\n"
     ]
    }
   ],
   "source": [
    "#read the pheno file\n",
    "inFile=dataDir + 'plink_pheno_withPCs.tab'\n",
    "tmpDf=pd.read_csv(inFile, sep=\"\\t\")\n",
    "v = tmpDf[['FID','IID','sex','PHENO','AgeBaseLine','race','PC1', 'PC2', 'PC3', 'PC4', 'PC5', 'PC6', 'PC7', 'PC8', 'PC9',\n",
    "       'PC10', 'PC11', 'PC12', 'PC13', 'PC14', 'PC15', 'PC16', 'PC17', 'PC18','PC19', 'PC20']]\n",
    "#add 2 columns PATID and MATID\n",
    "v.insert(2, \"PATID\", 'NA', True)\n",
    "v.insert(3, \"MATID\", 'NA', True)\n",
    "#print('\\n v\\n',v.head())\n",
    "print('dim:', v.shape)\n",
    "#filter race to white only if wanted\n",
    "#v=v[v['race']=='White']\n",
    "print('dim:', v.shape)\n",
    "\n",
    "#write\n",
    "fileName=dataDir + 'plink_pheno_withPCs_rvtestFormat_allRaces.tab'\n",
    "print('fileName:', fileName)\n",
    "with open(fileName, 'w') as f:\n",
    "    f.write(v.to_csv(index=False, sep='\\t'))\n",
    "    \n",
    "print('Done')\n",
    "\n"
   ]
  },
  {
   "cell_type": "markdown",
   "metadata": {
    "heading_collapsed": true
   },
   "source": [
    "# Run RVTests for one gene no maf threshold on all variants"
   ]
  },
  {
   "cell_type": "code",
   "execution_count": 43,
   "metadata": {
    "hidden": true
   },
   "outputs": [
    {
     "name": "stdout",
     "output_type": "stream",
     "text": [
      "Executing: /home/jupyter-user/notebooks/LSDProject/tools/rvtests/executable/rvtest --noweb --hide-covar --inVcf /home/jupyter-user/notebooks/LSDProject/data/LSDGenes-WGS-VCF.vcf.gz --pheno /home/jupyter-user/notebooks/LSDProject/data/plink_pheno_withPCs_rvtestFormat.tab --pheno-name PHENO --covar /home/jupyter-user/notebooks/LSDProject/data/plink_pheno_withPCs_rvtestFormat.tab --covar-name sex,AgeBaseLine,PC1,PC2,PC3,PC4,PC5,PC6,PC7,PC8,PC9,PC10 --kernel skat,skato --geneFile /home/jupyter-user/notebooks/LSDProject/data/refFlat_hg38.txt --gene GBA --out /home/jupyter-user/notebooks/LSDProject/results/LSDGenes-WGS_Dec3120/LSDGenes-WGS-AMPPD_BURDEN_gene_GBA_NOFREQTHRESHOLD.txt\n",
      "Thank you for using rvtests (version: 20190205, git: c86e589efef15382603300dc7f4c3394c82d69b8)\n",
      "  For documentations, refer to http://zhanxw.github.io/rvtests/\n",
      "  For questions and comments, plase send to Xiaowei Zhan <zhanxw@umich.edu>\n",
      "  For bugs and feature requests, please submit at: https://github.com/zhanxw/rvtests/issues\n",
      "\n",
      "The following parameters are available.  Ones with \"[]\" are in effect:\n",
      "\n",
      "Available Options\n",
      "      Basic Input/Output:\n",
      "                          --inVcf [/home/jupyter-user/notebooks/LSDProject/data/LSDGenes-WGS-VCF.vcf.gz]\n",
      "                          --inBgen [], --inBgenSample [], --inKgg []\n",
      "                          --out [/home/jupyter-user/notebooks/LSDProject/results/LSDGenes-WGS_Dec3120/LSDGenes-WGS-AMPPD_BURDEN_gene_GBA_NOFREQTHRESHOLD.txt]\n",
      "                          --outputRaw\n",
      "       Specify Covariate:\n",
      "                          --covar [/home/jupyter-user/notebooks/LSDProject/data/plink_pheno_withPCs_rvtestFormat.tab]\n",
      "                          --covar-name [sex,AgeBaseLine,PC1,PC2,PC3,PC4,PC5,PC6\n",
      "                         PC7,PC8,PC9,PC10], --sex\n",
      "       Specify Phenotype:\n",
      "                          --pheno [/home/jupyter-user/notebooks/LSDProject/data/plink_pheno_withPCs_rvtestFormat.tab]\n",
      "                          --inverseNormal, --useResidualAsPhenotype, --mpheno []\n",
      "                          --pheno-name [PHENO], --qtl, --multiplePheno []\n",
      "        Specify Genotype: --dosage [], --multipleAllele\n",
      "    Chromosome X Options: --xLabel [], --xParRegion []\n",
      "           People Filter: --peopleIncludeID [], --peopleIncludeFile []\n",
      "                          --peopleExcludeID [], --peopleExcludeFile []\n",
      "             Site Filter: --rangeList [], --rangeFile [], --siteFile []\n",
      "                          --siteDepthMin [], --siteDepthMax [], --siteMACMin []\n",
      "                          --annoType []\n",
      "         Genotype Filter: --indvDepthMin [], --indvDepthMax [], --indvQualMin []\n",
      "       Association Model: --single [], --burden [], --vt [], --kernel [skat\n",
      "                         skato], --meta []\n",
      "     Family-based Models: --kinship [], --xHemiKinship [], --kinshipEigen []\n",
      "                          --xHemiKinshipEigen [], --boltPlink []\n",
      "                          --boltPlinkNoCheck\n",
      "          Grouping Unit :\n",
      "                          --geneFile [/home/jupyter-user/notebooks/LSDProject/data/refFlat_hg38.txt]\n",
      "                          --gene [GBA], --setList [], --setFile [], --set []\n",
      "        Frequency Cutoff: --freqUpper [], --freqLower []\n",
      "            Missing Data: --impute [], --imputePheno, --imputeCov\n",
      "    Conditional Analysis: --condition []\n",
      "     Auxiliary Functions: --noweb [true], --hide-covar [true], --numThread []\n",
      "                          --outputID, --help\n",
      "\n",
      "Effective Options\n",
      "    --inVcf /home/jupyter-user/notebooks/LSDProject/data/LSDGenes-WGS-VCF.vcf.gz\n",
      "    --out /home/jupyter-user/notebooks/LSDProject/results/LSDGenes-WGS_Dec3120/LSDGenes-WGS-AMPPD_BURDEN_gene_GBA_NOFREQTHRESHOLD.txt\n",
      "    --covar /home/jupyter-user/notebooks/LSDProject/data/plink_pheno_withPCs_rvtestFormat.tab\n",
      "    --covar-name sex,AgeBaseLine,PC1,PC2,PC3,PC4,PC5,PC6,PC7,PC8,PC9,PC10\n",
      "    --pheno /home/jupyter-user/notebooks/LSDProject/data/plink_pheno_withPCs_rvtestFormat.tab\n",
      "    --pheno-name PHENO\n",
      "    --kernel skat,skato\n",
      "    --geneFile /home/jupyter-user/notebooks/LSDProject/data/refFlat_hg38.txt\n",
      "    --gene GBA\n",
      "    --noweb\n",
      "    --hide-covar\n",
      "\n",
      "[INFO]\tProgram version: 20190205\n",
      "[INFO]\tAnalysis started at: Sun Jan  3 23:18:20 2021\n",
      "[INFO]\tLoaded [ 3074 ] samples from genotype files\n",
      "[INFO]\tLoaded [ 2658 ] sample phenotypes\n",
      "[WARN]\tTotal [ 416 ] samples are dropped from VCF file due to missing phenotype.\n",
      "[WARN]\tDrop sample [ BF-1018 ] from VCF file due to missing phenotype\n",
      "[WARN]\tDrop sample [ BF-1049 ] from VCF file due to missing phenotype\n",
      "[WARN]\tDrop sample [ BF-1050 ] from VCF file due to missing phenotype\n",
      "[WARN]\tDrop sample [ BF-1057 ] from VCF file due to missing phenotype\n",
      "[WARN]\tDrop sample [ BF-1071 ] from VCF file due to missing phenotype\n",
      "[WARN]\tDrop sample [ BF-1080 ] from VCF file due to missing phenotype\n",
      "[WARN]\tDrop sample [ BF-1101 ] from VCF file due to missing phenotype\n",
      "[WARN]\tDrop sample [ BF-1108 ] from VCF file due to missing phenotype\n",
      "[WARN]\tDrop sample [ BF-1154 ] from VCF file due to missing phenotype\n",
      "[WARN]\tDrop sample [ BF-1165 ] from VCF file due to missing phenotype\n",
      "[WARN]\tSkip outputting additional [ 406 ] samples due to missing phenotype.\n",
      "[INFO]\tBegin to read covariate file\n",
      "[INFO]\tLoaded 1492 male, 1166 female and 0 sex-unknown samples from /home/jupyter-user/notebooks/LSDProject/data/plink_pheno_withPCs_rvtestFormat.tab\n",
      "[INFO]\tLoaded 1625 cases, 1033 controls, and 0 missing phenotypes\n",
      "[WARN]\t-- Enabling binary phenotype mode -- \n",
      "[INFO]\tAnalysis begins with [ 2658 ] samples...\n",
      "[INFO]\tSKAT test significance will be evaluated using 10000 permutations at alpha = 0.05 weight = Beta[beta1 = 1.00, beta2 = 25.00]\n",
      "[INFO]\tSKAT-O test significance will be evaluated using weight = Beta[beta1 = 1.00, beta2 = 25.00]\n",
      "[INFO]\tLoaded [ 1 ] genes.\n",
      "[INFO]\tImpute missing genotype to mean (by default)\n",
      "[INFO]\tAnalysis started\n",
      "[INFO]\tAnalyzed [ 97 ] variants from [ 1 ] genes/regions\n",
      "[INFO]\tAnalysis ends at: Sun Jan  3 23:18:22 2021\n",
      "[INFO]\tAnalysis took 2 seconds\n",
      "RVTESTS finished successfully\n",
      "Done!!\n"
     ]
    }
   ],
   "source": [
    "#workingDir='/home/jupyter-user/notebooks/LaurieRobak1/LSD-All-genes'\n",
    "#dataDir='/home/jupyter-user/notebooks/LaurieRobak1/data'\n",
    "#rvtestCmd='/home/jupyter-user/notebooks/LSDProject/tools/rvtest'\n",
    "phenoFile=dataDir + 'plink_pheno_withPCs_rvtestFormat.tab'\n",
    "#phenoFile=dataDir+'pheno_head29.tab'\n",
    "\n",
    "COV_NAMES=\"sex,AgeBaseLine,PC1,PC2,PC3,PC4,PC5,PC6,PC7,PC8,PC9,PC10\"\n",
    "#covFileName='/home/jupyter-user/notebooks/LaurieRobak1/data/test1.tab'\n",
    "vcfFile=dataDir+ 'LSDGenes-WGS-VCF.vcf.gz'\n",
    "geneName='GBA'\n",
    "outPrefix=resDir+'LSDGenes-WGS-AMPPD_BURDEN_gene_'+geneName+'_NOFREQTHRESHOLD'\n",
    "shell_do(f'{rvtestCmd} --noweb --hide-covar --inVcf {vcfFile} \\\n",
    "--pheno {phenoFile} \\\n",
    "--pheno-name PHENO \\\n",
    "--covar {phenoFile} \\\n",
    "--covar-name {COV_NAMES} \\\n",
    "--kernel skat,skato --geneFile {dataDir}refFlat_hg38.txt \\\n",
    "--gene {geneName} \\\n",
    "--out {outPrefix}')\n",
    "\n",
    "\n",
    "print('Done!!')        "
   ]
  },
  {
   "cell_type": "markdown",
   "metadata": {
    "heading_collapsed": true
   },
   "source": [
    "# Copy set file for LSD genes"
   ]
  },
  {
   "cell_type": "code",
   "execution_count": 54,
   "metadata": {
    "hidden": true
   },
   "outputs": [
    {
     "name": "stdout",
     "output_type": "stream",
     "text": [
      "cmd: gsutil cp gs://fc-secure-faef21d4-0ae2-4dfa-a025-d9292ca13bf5/notebooks/LSD-54-genes_rvtest_SetFile.txt /home/jupyter-user/notebooks/LSDProject/data/\n",
      "Executing: gsutil cp gs://fc-secure-faef21d4-0ae2-4dfa-a025-d9292ca13bf5/notebooks/LSD-54-genes_rvtest_SetFile.txt /home/jupyter-user/notebooks/LSDProject/data/\n",
      "Copying gs://fc-secure-faef21d4-0ae2-4dfa-a025-d9292ca13bf5/notebooks/LSD-54-genes_rvtest_SetFile.txt...\n",
      "/ [1 files][  1.4 KiB/  1.4 KiB]                                                \n",
      "Operation completed over 1 objects/1.4 KiB.                                      \n",
      "cmd: gsutil cp gs://fc-secure-faef21d4-0ae2-4dfa-a025-d9292ca13bf5/notebooks/LSD-53-genes-withoutGBA_rvtest_SetFile.txt /home/jupyter-user/notebooks/LSDProject/data/\n",
      "Executing: gsutil cp gs://fc-secure-faef21d4-0ae2-4dfa-a025-d9292ca13bf5/notebooks/LSD-53-genes-withoutGBA_rvtest_SetFile.txt /home/jupyter-user/notebooks/LSDProject/data/\n",
      "Copying gs://fc-secure-faef21d4-0ae2-4dfa-a025-d9292ca13bf5/notebooks/LSD-53-genes-withoutGBA_rvtest_SetFile.txt...\n",
      "/ [1 files][  1.4 KiB/  1.4 KiB]                                                \n",
      "Operation completed over 1 objects/1.4 KiB.                                      \n"
     ]
    }
   ],
   "source": [
    "cmd = 'gsutil cp gs://' + googleGSId+'/notebooks/LSD-54-genes_rvtest_SetFile.txt ' + dataDir\n",
    "print('cmd:', cmd)\n",
    "shell_do(cmd)\n",
    "\n",
    "\n",
    "cmd = 'gsutil cp gs://' + googleGSId+'/notebooks/LSD-53-genes-withoutGBA_rvtest_SetFile.txt ' + dataDir\n",
    "print('cmd:', cmd)\n",
    "shell_do(cmd)\n"
   ]
  },
  {
   "cell_type": "markdown",
   "metadata": {
    "heading_collapsed": true
   },
   "source": [
    "# Run RVTests for LSD genes no maf threshold on all variants (NO NEED TAKES time so go to P2 of code in R code)"
   ]
  },
  {
   "cell_type": "code",
   "execution_count": 48,
   "metadata": {
    "hidden": true
   },
   "outputs": [
    {
     "name": "stdout",
     "output_type": "stream",
     "text": [
      "Executing: /home/jupyter-user/notebooks/LSDProject/tools/rvtests/executable/rvtest --noweb --hide-covar --inVcf /home/jupyter-user/notebooks/LSDProject/data/LSDGenes-WGS-VCF.vcf.gz --pheno /home/jupyter-user/notebooks/LSDProject/data/plink_pheno_withPCs_rvtestFormat.tab --pheno-name PHENO --covar /home/jupyter-user/notebooks/LSDProject/data/plink_pheno_withPCs_rvtestFormat.tab --covar-name sex,AgeBaseLine,PC1,PC2,PC3,PC4,PC5,PC6,PC7,PC8,PC9,PC10 --kernel skat,skato --setFile /home/jupyter-user/notebooks/LSDProject/data/LSD-54-genes_rvtest_SetFile.txt --set LSDGenes54 --out /home/jupyter-user/notebooks/LSDProject/results/LSDGenes-WGS_Dec3120/LSDGenes_WGS_BURDEN_AllVariants.NOFREQTHRESHOLD\n",
      "Thank you for using rvtests (version: 20190205, git: c86e589efef15382603300dc7f4c3394c82d69b8)\n",
      "  For documentations, refer to http://zhanxw.github.io/rvtests/\n",
      "  For questions and comments, plase send to Xiaowei Zhan <zhanxw@umich.edu>\n",
      "  For bugs and feature requests, please submit at: https://github.com/zhanxw/rvtests/issues\n",
      "\n",
      "The following parameters are available.  Ones with \"[]\" are in effect:\n",
      "\n",
      "Available Options\n",
      "      Basic Input/Output:\n",
      "                          --inVcf [/home/jupyter-user/notebooks/LSDProject/data/LSDGenes-WGS-VCF.vcf.gz]\n",
      "                          --inBgen [], --inBgenSample [], --inKgg []\n",
      "                          --out [/home/jupyter-user/notebooks/LSDProject/results/LSDGenes-WGS_Dec3120/LSDGenes_WGS_BURDEN_AllVariants.NOFREQTHRESHOLD]\n",
      "                          --outputRaw\n",
      "       Specify Covariate:\n",
      "                          --covar [/home/jupyter-user/notebooks/LSDProject/data/plink_pheno_withPCs_rvtestFormat.tab]\n",
      "                          --covar-name [sex,AgeBaseLine,PC1,PC2,PC3,PC4,PC5,PC6\n",
      "                         PC7,PC8,PC9,PC10], --sex\n",
      "       Specify Phenotype:\n",
      "                          --pheno [/home/jupyter-user/notebooks/LSDProject/data/plink_pheno_withPCs_rvtestFormat.tab]\n",
      "                          --inverseNormal, --useResidualAsPhenotype, --mpheno []\n",
      "                          --pheno-name [PHENO], --qtl, --multiplePheno []\n",
      "        Specify Genotype: --dosage [], --multipleAllele\n",
      "    Chromosome X Options: --xLabel [], --xParRegion []\n",
      "           People Filter: --peopleIncludeID [], --peopleIncludeFile []\n",
      "                          --peopleExcludeID [], --peopleExcludeFile []\n",
      "             Site Filter: --rangeList [], --rangeFile [], --siteFile []\n",
      "                          --siteDepthMin [], --siteDepthMax [], --siteMACMin []\n",
      "                          --annoType []\n",
      "         Genotype Filter: --indvDepthMin [], --indvDepthMax [], --indvQualMin []\n",
      "       Association Model: --single [], --burden [], --vt [], --kernel [skat\n",
      "                         skato], --meta []\n",
      "     Family-based Models: --kinship [], --xHemiKinship [], --kinshipEigen []\n",
      "                          --xHemiKinshipEigen [], --boltPlink []\n",
      "                          --boltPlinkNoCheck\n",
      "          Grouping Unit : --geneFile [], --gene [], --setList []\n",
      "                          --setFile [/home/jupyter-user/notebooks/LSDProject/data/LSD-54-genes_rvtest_SetFile.txt]\n",
      "                          --set [LSDGenes54]\n",
      "        Frequency Cutoff: --freqUpper [], --freqLower []\n",
      "            Missing Data: --impute [], --imputePheno, --imputeCov\n",
      "    Conditional Analysis: --condition []\n",
      "     Auxiliary Functions: --noweb [true], --hide-covar [true], --numThread []\n",
      "                          --outputID, --help\n",
      "\n",
      "Effective Options\n",
      "    --inVcf /home/jupyter-user/notebooks/LSDProject/data/LSDGenes-WGS-VCF.vcf.gz\n",
      "    --out /home/jupyter-user/notebooks/LSDProject/results/LSDGenes-WGS_Dec3120/LSDGenes_WGS_BURDEN_AllVariants.NOFREQTHRESHOLD\n",
      "    --covar /home/jupyter-user/notebooks/LSDProject/data/plink_pheno_withPCs_rvtestFormat.tab\n",
      "    --covar-name sex,AgeBaseLine,PC1,PC2,PC3,PC4,PC5,PC6,PC7,PC8,PC9,PC10\n",
      "    --pheno /home/jupyter-user/notebooks/LSDProject/data/plink_pheno_withPCs_rvtestFormat.tab\n",
      "    --pheno-name PHENO\n",
      "    --kernel skat,skato\n",
      "    --setFile /home/jupyter-user/notebooks/LSDProject/data/LSD-54-genes_rvtest_SetFile.txt\n",
      "    --set LSDGenes54\n",
      "    --noweb\n",
      "    --hide-covar\n",
      "\n",
      "[INFO]\tProgram version: 20190205\n",
      "[INFO]\tAnalysis started at: Sun Jan  3 23:31:04 2021\n",
      "[INFO]\tLoaded [ 3074 ] samples from genotype files\n",
      "[INFO]\tLoaded [ 2658 ] sample phenotypes\n",
      "[WARN]\tTotal [ 416 ] samples are dropped from VCF file due to missing phenotype.\n",
      "[WARN]\tDrop sample [ BF-1018 ] from VCF file due to missing phenotype\n",
      "[WARN]\tDrop sample [ BF-1049 ] from VCF file due to missing phenotype\n",
      "[WARN]\tDrop sample [ BF-1050 ] from VCF file due to missing phenotype\n",
      "[WARN]\tDrop sample [ BF-1057 ] from VCF file due to missing phenotype\n",
      "[WARN]\tDrop sample [ BF-1071 ] from VCF file due to missing phenotype\n",
      "[WARN]\tDrop sample [ BF-1080 ] from VCF file due to missing phenotype\n",
      "[WARN]\tDrop sample [ BF-1101 ] from VCF file due to missing phenotype\n",
      "[WARN]\tDrop sample [ BF-1108 ] from VCF file due to missing phenotype\n",
      "[WARN]\tDrop sample [ BF-1154 ] from VCF file due to missing phenotype\n",
      "[WARN]\tDrop sample [ BF-1165 ] from VCF file due to missing phenotype\n",
      "[WARN]\tSkip outputting additional [ 406 ] samples due to missing phenotype.\n",
      "[INFO]\tBegin to read covariate file\n",
      "[INFO]\tLoaded 1492 male, 1166 female and 0 sex-unknown samples from /home/jupyter-user/notebooks/LSDProject/data/plink_pheno_withPCs_rvtestFormat.tab\n",
      "[INFO]\tLoaded 1625 cases, 1033 controls, and 0 missing phenotypes\n",
      "[WARN]\t-- Enabling binary phenotype mode -- \n",
      "[INFO]\tAnalysis begins with [ 2658 ] samples...\n",
      "[INFO]\tSKAT test significance will be evaluated using 10000 permutations at alpha = 0.05 weight = Beta[beta1 = 1.00, beta2 = 25.00]\n",
      "[INFO]\tSKAT-O test significance will be evaluated using weight = Beta[beta1 = 1.00, beta2 = 25.00]\n",
      "[INFO]\tLoaded [ 1 ] set to tests.\n",
      "[INFO]\tImpute missing genotype to mean (by default)\n",
      "[INFO]\tAnalysis started\n",
      "^C\n",
      "Done!!\n"
     ]
    }
   ],
   "source": [
    "#workingDir='/home/jupyter-user/notebooks/LaurieRobak1/LSD-All-genes'\n",
    "#dataDir='/home/jupyter-user/notebooks/LaurieRobak1/data'\n",
    "#rvtestCmd='/home/jupyter-user/notebooks/LaurieRobak1/tools/executable/rvtest'\n",
    "#phenoFile='/home/jupyter-user/notebooks/LaurieRobak1/data/plink_test_pheno_withPCs_rvtestFormat.tab'\n",
    "\n",
    "COV_NAMES=\"sex,AgeBaseLine,PC1,PC2,PC3,PC4,PC5,PC6,PC7,PC8,PC9,PC10\"\n",
    "vcfFile=dataDir+ 'LSDGenes-WGS-VCF.vcf.gz'\n",
    "outPrefix=resDir+'LSDGenes_WGS_BURDEN_AllVariants.NOFREQTHRESHOLD'\n",
    "\n",
    "setFile=dataDir+'LSD-54-genes_rvtest_SetFile.txt'\n",
    "setName='LSDGenes54'\n",
    "\n",
    "shell_do(f'{rvtestCmd} --noweb --hide-covar --inVcf {vcfFile} \\\n",
    "--pheno {phenoFile} \\\n",
    "--pheno-name PHENO \\\n",
    "--covar {phenoFile} \\\n",
    "--covar-name {COV_NAMES} \\\n",
    "--kernel skat,skato \\\n",
    "--setFile {setFile} \\\n",
    "--set {setName} \\\n",
    "--out {outPrefix}')\n",
    "\n",
    "\n",
    "print('Done!!')  "
   ]
  },
  {
   "cell_type": "markdown",
   "metadata": {
    "heading_collapsed": true
   },
   "source": [
    "# MAF < 0.01 on All LSD genes variants"
   ]
  },
  {
   "cell_type": "code",
   "execution_count": 49,
   "metadata": {
    "hidden": true
   },
   "outputs": [
    {
     "name": "stdout",
     "output_type": "stream",
     "text": [
      "Executing: /home/jupyter-user/notebooks/LSDProject/tools/rvtests/executable/rvtest --noweb --hide-covar --inVcf /home/jupyter-user/notebooks/LSDProject/data/LSDGenes-WGS-VCF.vcf.gz --pheno /home/jupyter-user/notebooks/LSDProject/data/plink_pheno_withPCs_rvtestFormat.tab --pheno-name PHENO --covar /home/jupyter-user/notebooks/LSDProject/data/plink_pheno_withPCs_rvtestFormat.tab --covar-name sex,AgeBaseLine,PC1,PC2,PC3,PC4,PC5,PC6,PC7,PC8,PC9,PC10 --kernel skat,skato --setFile /home/jupyter-user/notebooks/LSDProject/data//LSD-54-genes_rvtest_SetFile.txt --set LSDGenes54 --freqUpper 0.01 --out /home/jupyter-user/notebooks/LSDProject/results/LSDGenes-WGS_Dec3120/LSDGenes_WGS_AMPPD_BURDEN_All_Variants.maf001\n",
      "Thank you for using rvtests (version: 20190205, git: c86e589efef15382603300dc7f4c3394c82d69b8)\n",
      "  For documentations, refer to http://zhanxw.github.io/rvtests/\n",
      "  For questions and comments, plase send to Xiaowei Zhan <zhanxw@umich.edu>\n",
      "  For bugs and feature requests, please submit at: https://github.com/zhanxw/rvtests/issues\n",
      "\n",
      "The following parameters are available.  Ones with \"[]\" are in effect:\n",
      "\n",
      "Available Options\n",
      "      Basic Input/Output:\n",
      "                          --inVcf [/home/jupyter-user/notebooks/LSDProject/data/LSDGenes-WGS-VCF.vcf.gz]\n",
      "                          --inBgen [], --inBgenSample [], --inKgg []\n",
      "                          --out [/home/jupyter-user/notebooks/LSDProject/results/LSDGenes-WGS_Dec3120/LSDGenes_WGS_AMPPD_BURDEN_All_Variants.maf001]\n",
      "                          --outputRaw\n",
      "       Specify Covariate:\n",
      "                          --covar [/home/jupyter-user/notebooks/LSDProject/data/plink_pheno_withPCs_rvtestFormat.tab]\n",
      "                          --covar-name [sex,AgeBaseLine,PC1,PC2,PC3,PC4,PC5,PC6\n",
      "                         PC7,PC8,PC9,PC10], --sex\n",
      "       Specify Phenotype:\n",
      "                          --pheno [/home/jupyter-user/notebooks/LSDProject/data/plink_pheno_withPCs_rvtestFormat.tab]\n",
      "                          --inverseNormal, --useResidualAsPhenotype, --mpheno []\n",
      "                          --pheno-name [PHENO], --qtl, --multiplePheno []\n",
      "        Specify Genotype: --dosage [], --multipleAllele\n",
      "    Chromosome X Options: --xLabel [], --xParRegion []\n",
      "           People Filter: --peopleIncludeID [], --peopleIncludeFile []\n",
      "                          --peopleExcludeID [], --peopleExcludeFile []\n",
      "             Site Filter: --rangeList [], --rangeFile [], --siteFile []\n",
      "                          --siteDepthMin [], --siteDepthMax [], --siteMACMin []\n",
      "                          --annoType []\n",
      "         Genotype Filter: --indvDepthMin [], --indvDepthMax [], --indvQualMin []\n",
      "       Association Model: --single [], --burden [], --vt [], --kernel [skat\n",
      "                         skato], --meta []\n",
      "     Family-based Models: --kinship [], --xHemiKinship [], --kinshipEigen []\n",
      "                          --xHemiKinshipEigen [], --boltPlink []\n",
      "                          --boltPlinkNoCheck\n",
      "          Grouping Unit : --geneFile [], --gene [], --setList []\n",
      "                          --setFile [/home/jupyter-user/notebooks/LSDProject/data//LSD-54-genes_rvtest_SetFile.txt]\n",
      "                          --set [LSDGenes54]\n",
      "        Frequency Cutoff: --freqUpper [0.01], --freqLower []\n",
      "            Missing Data: --impute [], --imputePheno, --imputeCov\n",
      "    Conditional Analysis: --condition []\n",
      "     Auxiliary Functions: --noweb [true], --hide-covar [true], --numThread []\n",
      "                          --outputID, --help\n",
      "\n",
      "Effective Options\n",
      "    --inVcf /home/jupyter-user/notebooks/LSDProject/data/LSDGenes-WGS-VCF.vcf.gz\n",
      "    --out /home/jupyter-user/notebooks/LSDProject/results/LSDGenes-WGS_Dec3120/LSDGenes_WGS_AMPPD_BURDEN_All_Variants.maf001\n",
      "    --covar /home/jupyter-user/notebooks/LSDProject/data/plink_pheno_withPCs_rvtestFormat.tab\n",
      "    --covar-name sex,AgeBaseLine,PC1,PC2,PC3,PC4,PC5,PC6,PC7,PC8,PC9,PC10\n",
      "    --pheno /home/jupyter-user/notebooks/LSDProject/data/plink_pheno_withPCs_rvtestFormat.tab\n",
      "    --pheno-name PHENO\n",
      "    --kernel skat,skato\n",
      "    --setFile /home/jupyter-user/notebooks/LSDProject/data//LSD-54-genes_rvtest_SetFile.txt\n",
      "    --set LSDGenes54\n",
      "    --freqUpper 0.01\n",
      "    --noweb\n",
      "    --hide-covar\n",
      "\n",
      "[INFO]\tProgram version: 20190205\n",
      "[INFO]\tAnalysis started at: Mon Jan  4 00:08:11 2021\n",
      "[INFO]\tLoaded [ 3074 ] samples from genotype files\n",
      "[INFO]\tLoaded [ 2658 ] sample phenotypes\n",
      "[WARN]\tTotal [ 416 ] samples are dropped from VCF file due to missing phenotype.\n",
      "[WARN]\tDrop sample [ BF-1018 ] from VCF file due to missing phenotype\n",
      "[WARN]\tDrop sample [ BF-1049 ] from VCF file due to missing phenotype\n",
      "[WARN]\tDrop sample [ BF-1050 ] from VCF file due to missing phenotype\n",
      "[WARN]\tDrop sample [ BF-1057 ] from VCF file due to missing phenotype\n",
      "[WARN]\tDrop sample [ BF-1071 ] from VCF file due to missing phenotype\n",
      "[WARN]\tDrop sample [ BF-1080 ] from VCF file due to missing phenotype\n",
      "[WARN]\tDrop sample [ BF-1101 ] from VCF file due to missing phenotype\n",
      "[WARN]\tDrop sample [ BF-1108 ] from VCF file due to missing phenotype\n",
      "[WARN]\tDrop sample [ BF-1154 ] from VCF file due to missing phenotype\n",
      "[WARN]\tDrop sample [ BF-1165 ] from VCF file due to missing phenotype\n",
      "[WARN]\tSkip outputting additional [ 406 ] samples due to missing phenotype.\n",
      "[INFO]\tBegin to read covariate file\n",
      "[INFO]\tLoaded 1492 male, 1166 female and 0 sex-unknown samples from /home/jupyter-user/notebooks/LSDProject/data/plink_pheno_withPCs_rvtestFormat.tab\n",
      "[INFO]\tLoaded 1625 cases, 1033 controls, and 0 missing phenotypes\n",
      "[WARN]\t-- Enabling binary phenotype mode -- \n",
      "[INFO]\tAnalysis begins with [ 2658 ] samples...\n",
      "[INFO]\tSKAT test significance will be evaluated using 10000 permutations at alpha = 0.05 weight = Beta[beta1 = 1.00, beta2 = 25.00]\n",
      "[INFO]\tSKAT-O test significance will be evaluated using weight = Beta[beta1 = 1.00, beta2 = 25.00]\n",
      "[INFO]\tLoaded [ 1 ] set to tests.\n",
      "[INFO]\tImpute missing genotype to mean (by default)\n",
      "[INFO]\tSet upper minor allele frequency limit to 0.01\n",
      "[INFO]\tAnalysis started\n",
      "^C\n",
      "Done!!\n"
     ]
    }
   ],
   "source": [
    "#workingDir='/home/jupyter-user/notebooks/LaurieRobak1/LSD-All-genes'\n",
    "#dataDir='/home/jupyter-user/notebooks/LaurieRobak1/data'\n",
    "#rvtestCmd='/home/jupyter-user/notebooks/LaurieRobak1/tools/executable/rvtest'\n",
    "#phenoFile='/home/jupyter-user/notebooks/LaurieRobak1/data/plink_test_pheno_withPCs_rvtestFormat.tab'\n",
    "COV_NAMES=\"sex,AgeBaseLine,PC1,PC2,PC3,PC4,PC5,PC6,PC7,PC8,PC9,PC10\"\n",
    "vcfFile=dataDir+ 'LSDGenes-WGS-VCF.vcf.gz'\n",
    "outPrefix=resDir + 'LSDGenes_WGS_AMPPD_BURDEN_All_Variants.maf001'\n",
    "\n",
    "setFile=dataDir+'/'+'LSD-54-genes_rvtest_SetFile.txt'\n",
    "setName='LSDGenes54'\n",
    "\n",
    "mafCut=0.01\n",
    "\n",
    "shell_do(f'{rvtestCmd} --noweb --hide-covar --inVcf {vcfFile} \\\n",
    "--pheno {phenoFile} \\\n",
    "--pheno-name PHENO \\\n",
    "--covar {phenoFile} \\\n",
    "--covar-name {COV_NAMES} \\\n",
    "--kernel skat,skato \\\n",
    "--setFile {setFile} \\\n",
    "--set {setName} \\\n",
    "--freqUpper {mafCut} \\\n",
    "--out {outPrefix}')\n",
    "\n",
    "\n",
    "print('Done!!')  "
   ]
  },
  {
   "cell_type": "markdown",
   "metadata": {
    "heading_collapsed": true
   },
   "source": [
    "# MAF < 0.01 on CODING variants"
   ]
  },
  {
   "cell_type": "code",
   "execution_count": 51,
   "metadata": {
    "hidden": true
   },
   "outputs": [
    {
     "name": "stdout",
     "output_type": "stream",
     "text": [
      "Executing: /home/jupyter-user/notebooks/LSDProject/tools/rvtests/executable/rvtest --noweb --hide-covar --inVcf /home/jupyter-user/notebooks/LSDProject/data//LSDGenes-WGS-AMPPD_exonic.vcf.gz --pheno /home/jupyter-user/notebooks/LSDProject/data/plink_pheno_withPCs_rvtestFormat.tab --pheno-name PHENO --covar /home/jupyter-user/notebooks/LSDProject/data/plink_pheno_withPCs_rvtestFormat.tab --covar-name sex,AgeBaseLine,PC1,PC2,PC3,PC4,PC5,PC6,PC7,PC8,PC9,PC10 --kernel skat,skato --setFile /home/jupyter-user/notebooks/LSDProject/data/LSD-54-genes_rvtest_SetFile.txt --set LSDGenes54 --freqUpper 0.01 --out /home/jupyter-user/notebooks/LSDProject/results/LSDGenes-WGS_Dec3120/LSDGenes_WGS_AMPPD_BURDEN_Coding_Variants.maf001\n",
      "Thank you for using rvtests (version: 20190205, git: c86e589efef15382603300dc7f4c3394c82d69b8)\n",
      "  For documentations, refer to http://zhanxw.github.io/rvtests/\n",
      "  For questions and comments, plase send to Xiaowei Zhan <zhanxw@umich.edu>\n",
      "  For bugs and feature requests, please submit at: https://github.com/zhanxw/rvtests/issues\n",
      "\n",
      "The following parameters are available.  Ones with \"[]\" are in effect:\n",
      "\n",
      "Available Options\n",
      "      Basic Input/Output:\n",
      "                          --inVcf [/home/jupyter-user/notebooks/LSDProject/data//LSDGenes-WGS-AMPPD_exonic.vcf.gz]\n",
      "                          --inBgen [], --inBgenSample [], --inKgg []\n",
      "                          --out [/home/jupyter-user/notebooks/LSDProject/results/LSDGenes-WGS_Dec3120/LSDGenes_WGS_AMPPD_BURDEN_Coding_Variants.maf001]\n",
      "                          --outputRaw\n",
      "       Specify Covariate:\n",
      "                          --covar [/home/jupyter-user/notebooks/LSDProject/data/plink_pheno_withPCs_rvtestFormat.tab]\n",
      "                          --covar-name [sex,AgeBaseLine,PC1,PC2,PC3,PC4,PC5,PC6\n",
      "                         PC7,PC8,PC9,PC10], --sex\n",
      "       Specify Phenotype:\n",
      "                          --pheno [/home/jupyter-user/notebooks/LSDProject/data/plink_pheno_withPCs_rvtestFormat.tab]\n",
      "                          --inverseNormal, --useResidualAsPhenotype, --mpheno []\n",
      "                          --pheno-name [PHENO], --qtl, --multiplePheno []\n",
      "        Specify Genotype: --dosage [], --multipleAllele\n",
      "    Chromosome X Options: --xLabel [], --xParRegion []\n",
      "           People Filter: --peopleIncludeID [], --peopleIncludeFile []\n",
      "                          --peopleExcludeID [], --peopleExcludeFile []\n",
      "             Site Filter: --rangeList [], --rangeFile [], --siteFile []\n",
      "                          --siteDepthMin [], --siteDepthMax [], --siteMACMin []\n",
      "                          --annoType []\n",
      "         Genotype Filter: --indvDepthMin [], --indvDepthMax [], --indvQualMin []\n",
      "       Association Model: --single [], --burden [], --vt [], --kernel [skat\n",
      "                         skato], --meta []\n",
      "     Family-based Models: --kinship [], --xHemiKinship [], --kinshipEigen []\n",
      "                          --xHemiKinshipEigen [], --boltPlink []\n",
      "                          --boltPlinkNoCheck\n",
      "          Grouping Unit : --geneFile [], --gene [], --setList []\n",
      "                          --setFile [/home/jupyter-user/notebooks/LSDProject/data/LSD-54-genes_rvtest_SetFile.txt]\n",
      "                          --set [LSDGenes54]\n",
      "        Frequency Cutoff: --freqUpper [0.01], --freqLower []\n",
      "            Missing Data: --impute [], --imputePheno, --imputeCov\n",
      "    Conditional Analysis: --condition []\n",
      "     Auxiliary Functions: --noweb [true], --hide-covar [true], --numThread []\n",
      "                          --outputID, --help\n",
      "\n",
      "Effective Options\n",
      "    --inVcf /home/jupyter-user/notebooks/LSDProject/data//LSDGenes-WGS-AMPPD_exonic.vcf.gz\n",
      "    --out /home/jupyter-user/notebooks/LSDProject/results/LSDGenes-WGS_Dec3120/LSDGenes_WGS_AMPPD_BURDEN_Coding_Variants.maf001\n",
      "    --covar /home/jupyter-user/notebooks/LSDProject/data/plink_pheno_withPCs_rvtestFormat.tab\n",
      "    --covar-name sex,AgeBaseLine,PC1,PC2,PC3,PC4,PC5,PC6,PC7,PC8,PC9,PC10\n",
      "    --pheno /home/jupyter-user/notebooks/LSDProject/data/plink_pheno_withPCs_rvtestFormat.tab\n",
      "    --pheno-name PHENO\n",
      "    --kernel skat,skato\n",
      "    --setFile /home/jupyter-user/notebooks/LSDProject/data/LSD-54-genes_rvtest_SetFile.txt\n",
      "    --set LSDGenes54\n",
      "    --freqUpper 0.01\n",
      "    --noweb\n",
      "    --hide-covar\n",
      "\n",
      "[INFO]\tProgram version: 20190205\n",
      "[INFO]\tAnalysis started at: Mon Jan  4 02:22:49 2021\n",
      "[INFO]\tLoaded [ 3074 ] samples from genotype files\n",
      "[INFO]\tLoaded [ 2658 ] sample phenotypes\n",
      "[WARN]\tTotal [ 416 ] samples are dropped from VCF file due to missing phenotype.\n",
      "[WARN]\tDrop sample [ BF-1018 ] from VCF file due to missing phenotype\n",
      "[WARN]\tDrop sample [ BF-1049 ] from VCF file due to missing phenotype\n",
      "[WARN]\tDrop sample [ BF-1050 ] from VCF file due to missing phenotype\n",
      "[WARN]\tDrop sample [ BF-1057 ] from VCF file due to missing phenotype\n",
      "[WARN]\tDrop sample [ BF-1071 ] from VCF file due to missing phenotype\n",
      "[WARN]\tDrop sample [ BF-1080 ] from VCF file due to missing phenotype\n",
      "[WARN]\tDrop sample [ BF-1101 ] from VCF file due to missing phenotype\n",
      "[WARN]\tDrop sample [ BF-1108 ] from VCF file due to missing phenotype\n",
      "[WARN]\tDrop sample [ BF-1154 ] from VCF file due to missing phenotype\n",
      "[WARN]\tDrop sample [ BF-1165 ] from VCF file due to missing phenotype\n",
      "[WARN]\tSkip outputting additional [ 406 ] samples due to missing phenotype.\n",
      "[INFO]\tBegin to read covariate file\n",
      "[INFO]\tLoaded 1492 male, 1166 female and 0 sex-unknown samples from /home/jupyter-user/notebooks/LSDProject/data/plink_pheno_withPCs_rvtestFormat.tab\n",
      "[INFO]\tLoaded 1625 cases, 1033 controls, and 0 missing phenotypes\n",
      "[WARN]\t-- Enabling binary phenotype mode -- \n",
      "[INFO]\tAnalysis begins with [ 2658 ] samples...\n",
      "[INFO]\tSKAT test significance will be evaluated using 10000 permutations at alpha = 0.05 weight = Beta[beta1 = 1.00, beta2 = 25.00]\n",
      "[INFO]\tSKAT-O test significance will be evaluated using weight = Beta[beta1 = 1.00, beta2 = 25.00]\n",
      "[INFO]\tLoaded [ 1 ] set to tests.\n",
      "[INFO]\tImpute missing genotype to mean (by default)\n",
      "[INFO]\tSet upper minor allele frequency limit to 0.01\n",
      "[INFO]\tAnalysis started\n",
      "[INFO]\tAnalyzed [ 1327 ] variants from [ 1 ] genes/regions\n",
      "[INFO]\tAnalysis ends at: Mon Jan  4 02:23:32 2021\n",
      "[INFO]\tAnalysis took 43 seconds\n",
      "RVTESTS finished successfully\n"
     ]
    }
   ],
   "source": [
    "#workingDir='/home/jupyter-user/notebooks/LaurieRobak1/LSD-All-genes'\n",
    "#dataDir='/home/jupyter-user/notebooks/LaurieRobak1/data'\n",
    "#rvtestCmd='/home/jupyter-user/notebooks/LaurieRobak1/tools/executable/rvtest'\n",
    "#phenoFile='/home/jupyter-user/notebooks/LaurieRobak1/data/plink_test_pheno_withPCs_rvtestFormat.tab'\n",
    "\n",
    "COV_NAMES=\"sex,AgeBaseLine,PC1,PC2,PC3,PC4,PC5,PC6,PC7,PC8,PC9,PC10\"\n",
    "vcfFile=dataDir+ 'LSDGenes-WGS-AMPPD_exonic.vcf.gz'\n",
    "outPrefix=resDir + 'LSDGenes_WGS_AMPPD_BURDEN_Coding_Variants.maf001'\n",
    "\n",
    "setFile=dataDir+'LSD-54-genes_rvtest_SetFile.txt'\n",
    "setName='LSDGenes54'\n",
    "\n",
    "mafCut=0.01\n",
    "\n",
    "shell_do(f'{rvtestCmd} --noweb --hide-covar --inVcf {vcfFile} \\\n",
    "--pheno {phenoFile} \\\n",
    "--pheno-name PHENO \\\n",
    "--covar {phenoFile} \\\n",
    "--covar-name {COV_NAMES} \\\n",
    "--kernel skat,skato \\\n",
    "--setFile {setFile} \\\n",
    "--set {setName} \\\n",
    "--freqUpper {mafCut} \\\n",
    "--out {outPrefix}')\n",
    "\n",
    "\n",
    "\n"
   ]
  },
  {
   "cell_type": "markdown",
   "metadata": {
    "heading_collapsed": true
   },
   "source": [
    "# MAF < 0.03 on CODING variants"
   ]
  },
  {
   "cell_type": "code",
   "execution_count": 53,
   "metadata": {
    "hidden": true
   },
   "outputs": [
    {
     "name": "stdout",
     "output_type": "stream",
     "text": [
      "Executing: /home/jupyter-user/notebooks/LSDProject/tools/rvtests/executable/rvtest --noweb --hide-covar --inVcf /home/jupyter-user/notebooks/LSDProject/data/LSDGenes-WGS-AMPPD_exonic.vcf.gz --pheno /home/jupyter-user/notebooks/LSDProject/data/plink_pheno_withPCs_rvtestFormat.tab --pheno-name PHENO --covar /home/jupyter-user/notebooks/LSDProject/data/plink_pheno_withPCs_rvtestFormat.tab --covar-name sex,AgeBaseLine,PC1,PC2,PC3,PC4,PC5,PC6,PC7,PC8,PC9,PC10 --kernel skat,skato --setFile /home/jupyter-user/notebooks/LSDProject/data/LSD-54-genes_rvtest_SetFile.txt --set LSDGenes54 --freqUpper 0.03 --out /home/jupyter-user/notebooks/LSDProject/results/LSDGenes-WGS_Dec3120/LSDGenes_WGS_AMPPD_BURDEN_Coding_Variants.maf003\n",
      "Thank you for using rvtests (version: 20190205, git: c86e589efef15382603300dc7f4c3394c82d69b8)\n",
      "  For documentations, refer to http://zhanxw.github.io/rvtests/\n",
      "  For questions and comments, plase send to Xiaowei Zhan <zhanxw@umich.edu>\n",
      "  For bugs and feature requests, please submit at: https://github.com/zhanxw/rvtests/issues\n",
      "\n",
      "The following parameters are available.  Ones with \"[]\" are in effect:\n",
      "\n",
      "Available Options\n",
      "      Basic Input/Output:\n",
      "                          --inVcf [/home/jupyter-user/notebooks/LSDProject/data/LSDGenes-WGS-AMPPD_exonic.vcf.gz]\n",
      "                          --inBgen [], --inBgenSample [], --inKgg []\n",
      "                          --out [/home/jupyter-user/notebooks/LSDProject/results/LSDGenes-WGS_Dec3120/LSDGenes_WGS_AMPPD_BURDEN_Coding_Variants.maf003]\n",
      "                          --outputRaw\n",
      "       Specify Covariate:\n",
      "                          --covar [/home/jupyter-user/notebooks/LSDProject/data/plink_pheno_withPCs_rvtestFormat.tab]\n",
      "                          --covar-name [sex,AgeBaseLine,PC1,PC2,PC3,PC4,PC5,PC6\n",
      "                         PC7,PC8,PC9,PC10], --sex\n",
      "       Specify Phenotype:\n",
      "                          --pheno [/home/jupyter-user/notebooks/LSDProject/data/plink_pheno_withPCs_rvtestFormat.tab]\n",
      "                          --inverseNormal, --useResidualAsPhenotype, --mpheno []\n",
      "                          --pheno-name [PHENO], --qtl, --multiplePheno []\n",
      "        Specify Genotype: --dosage [], --multipleAllele\n",
      "    Chromosome X Options: --xLabel [], --xParRegion []\n",
      "           People Filter: --peopleIncludeID [], --peopleIncludeFile []\n",
      "                          --peopleExcludeID [], --peopleExcludeFile []\n",
      "             Site Filter: --rangeList [], --rangeFile [], --siteFile []\n",
      "                          --siteDepthMin [], --siteDepthMax [], --siteMACMin []\n",
      "                          --annoType []\n",
      "         Genotype Filter: --indvDepthMin [], --indvDepthMax [], --indvQualMin []\n",
      "       Association Model: --single [], --burden [], --vt [], --kernel [skat\n",
      "                         skato], --meta []\n",
      "     Family-based Models: --kinship [], --xHemiKinship [], --kinshipEigen []\n",
      "                          --xHemiKinshipEigen [], --boltPlink []\n",
      "                          --boltPlinkNoCheck\n",
      "          Grouping Unit : --geneFile [], --gene [], --setList []\n",
      "                          --setFile [/home/jupyter-user/notebooks/LSDProject/data/LSD-54-genes_rvtest_SetFile.txt]\n",
      "                          --set [LSDGenes54]\n",
      "        Frequency Cutoff: --freqUpper [0.03], --freqLower []\n",
      "            Missing Data: --impute [], --imputePheno, --imputeCov\n",
      "    Conditional Analysis: --condition []\n",
      "     Auxiliary Functions: --noweb [true], --hide-covar [true], --numThread []\n",
      "                          --outputID, --help\n",
      "\n",
      "Effective Options\n",
      "    --inVcf /home/jupyter-user/notebooks/LSDProject/data/LSDGenes-WGS-AMPPD_exonic.vcf.gz\n",
      "    --out /home/jupyter-user/notebooks/LSDProject/results/LSDGenes-WGS_Dec3120/LSDGenes_WGS_AMPPD_BURDEN_Coding_Variants.maf003\n",
      "    --covar /home/jupyter-user/notebooks/LSDProject/data/plink_pheno_withPCs_rvtestFormat.tab\n",
      "    --covar-name sex,AgeBaseLine,PC1,PC2,PC3,PC4,PC5,PC6,PC7,PC8,PC9,PC10\n",
      "    --pheno /home/jupyter-user/notebooks/LSDProject/data/plink_pheno_withPCs_rvtestFormat.tab\n",
      "    --pheno-name PHENO\n",
      "    --kernel skat,skato\n",
      "    --setFile /home/jupyter-user/notebooks/LSDProject/data/LSD-54-genes_rvtest_SetFile.txt\n",
      "    --set LSDGenes54\n",
      "    --freqUpper 0.03\n",
      "    --noweb\n",
      "    --hide-covar\n",
      "\n",
      "[INFO]\tProgram version: 20190205\n",
      "[INFO]\tAnalysis started at: Mon Jan  4 02:29:15 2021\n",
      "[INFO]\tLoaded [ 3074 ] samples from genotype files\n",
      "[INFO]\tLoaded [ 2658 ] sample phenotypes\n",
      "[WARN]\tTotal [ 416 ] samples are dropped from VCF file due to missing phenotype.\n",
      "[WARN]\tDrop sample [ BF-1018 ] from VCF file due to missing phenotype\n",
      "[WARN]\tDrop sample [ BF-1049 ] from VCF file due to missing phenotype\n",
      "[WARN]\tDrop sample [ BF-1050 ] from VCF file due to missing phenotype\n",
      "[WARN]\tDrop sample [ BF-1057 ] from VCF file due to missing phenotype\n",
      "[WARN]\tDrop sample [ BF-1071 ] from VCF file due to missing phenotype\n",
      "[WARN]\tDrop sample [ BF-1080 ] from VCF file due to missing phenotype\n",
      "[WARN]\tDrop sample [ BF-1101 ] from VCF file due to missing phenotype\n",
      "[WARN]\tDrop sample [ BF-1108 ] from VCF file due to missing phenotype\n",
      "[WARN]\tDrop sample [ BF-1154 ] from VCF file due to missing phenotype\n",
      "[WARN]\tDrop sample [ BF-1165 ] from VCF file due to missing phenotype\n",
      "[WARN]\tSkip outputting additional [ 406 ] samples due to missing phenotype.\n",
      "[INFO]\tBegin to read covariate file\n",
      "[INFO]\tLoaded 1492 male, 1166 female and 0 sex-unknown samples from /home/jupyter-user/notebooks/LSDProject/data/plink_pheno_withPCs_rvtestFormat.tab\n",
      "[INFO]\tLoaded 1625 cases, 1033 controls, and 0 missing phenotypes\n",
      "[WARN]\t-- Enabling binary phenotype mode -- \n",
      "[INFO]\tAnalysis begins with [ 2658 ] samples...\n",
      "[INFO]\tSKAT test significance will be evaluated using 10000 permutations at alpha = 0.05 weight = Beta[beta1 = 1.00, beta2 = 25.00]\n",
      "[INFO]\tSKAT-O test significance will be evaluated using weight = Beta[beta1 = 1.00, beta2 = 25.00]\n",
      "[INFO]\tLoaded [ 1 ] set to tests.\n",
      "[INFO]\tImpute missing genotype to mean (by default)\n",
      "[INFO]\tSet upper minor allele frequency limit to 0.03\n",
      "[INFO]\tAnalysis started\n",
      "[INFO]\tAnalyzed [ 1382 ] variants from [ 1 ] genes/regions\n",
      "[INFO]\tAnalysis ends at: Mon Jan  4 02:29:59 2021\n",
      "[INFO]\tAnalysis took 44 seconds\n",
      "RVTESTS finished successfully\n"
     ]
    }
   ],
   "source": [
    "#workingDir='/home/jupyter-user/notebooks/LaurieRobak1/LSD-All-genes'\n",
    "#dataDir='/home/jupyter-user/notebooks/LaurieRobak1/data'\n",
    "#rvtestCmd='/home/jupyter-user/notebooks/LaurieRobak1/tools/executable/rvtest'\n",
    "#phenoFile='/home/jupyter-user/notebooks/LaurieRobak1/data/plink_test_pheno_withPCs_rvtestFormat.tab'\n",
    "\n",
    "COV_NAMES=\"sex,AgeBaseLine,PC1,PC2,PC3,PC4,PC5,PC6,PC7,PC8,PC9,PC10\"\n",
    "vcfFile=dataDir+ 'LSDGenes-WGS-AMPPD_exonic.vcf.gz'\n",
    "outPrefix=resDir + 'LSDGenes_WGS_AMPPD_BURDEN_Coding_Variants.maf003'\n",
    "\n",
    "setFile=dataDir+'LSD-54-genes_rvtest_SetFile.txt'\n",
    "setName='LSDGenes54'\n",
    "\n",
    "mafCut=0.03\n",
    "\n",
    "shell_do(f'{rvtestCmd} --noweb --hide-covar --inVcf {vcfFile} \\\n",
    "--pheno {phenoFile} \\\n",
    "--pheno-name PHENO \\\n",
    "--covar {phenoFile} \\\n",
    "--covar-name {COV_NAMES} \\\n",
    "--kernel skat,skato \\\n",
    "--setFile {setFile} \\\n",
    "--set {setName} \\\n",
    "--freqUpper {mafCut} \\\n",
    "--out {outPrefix}')"
   ]
  },
  {
   "cell_type": "markdown",
   "metadata": {
    "heading_collapsed": true
   },
   "source": [
    "# MAF < 0.01 on CODING variants without GBA"
   ]
  },
  {
   "cell_type": "code",
   "execution_count": 56,
   "metadata": {
    "hidden": true
   },
   "outputs": [
    {
     "name": "stdout",
     "output_type": "stream",
     "text": [
      "Executing: /home/jupyter-user/notebooks/LSDProject/tools/rvtests/executable/rvtest --noweb --hide-covar --inVcf /home/jupyter-user/notebooks/LSDProject/data/LSDGenes-WGS-AMPPD_exonic.vcf.gz --pheno /home/jupyter-user/notebooks/LSDProject/data/plink_pheno_withPCs_rvtestFormat.tab --pheno-name PHENO --covar /home/jupyter-user/notebooks/LSDProject/data/plink_pheno_withPCs_rvtestFormat.tab --covar-name sex,AgeBaseLine,PC1,PC2,PC3,PC4,PC5,PC6,PC7,PC8,PC9,PC10 --kernel skat,skato --setFile /home/jupyter-user/notebooks/LSDProject/data/LSD-53-genes-withoutGBA_rvtest_SetFile.txt --set LSDGenes53 --freqUpper 0.01 --out /home/jupyter-user/notebooks/LSDProject/results/LSDGenes-WGS_Dec3120/LSDGenes-withoutGBA_WGS_AMPPD_BURDEN_Coding_Variants.maf001\n",
      "Thank you for using rvtests (version: 20190205, git: c86e589efef15382603300dc7f4c3394c82d69b8)\n",
      "  For documentations, refer to http://zhanxw.github.io/rvtests/\n",
      "  For questions and comments, plase send to Xiaowei Zhan <zhanxw@umich.edu>\n",
      "  For bugs and feature requests, please submit at: https://github.com/zhanxw/rvtests/issues\n",
      "\n",
      "The following parameters are available.  Ones with \"[]\" are in effect:\n",
      "\n",
      "Available Options\n",
      "      Basic Input/Output:\n",
      "                          --inVcf [/home/jupyter-user/notebooks/LSDProject/data/LSDGenes-WGS-AMPPD_exonic.vcf.gz]\n",
      "                          --inBgen [], --inBgenSample [], --inKgg []\n",
      "                          --out [/home/jupyter-user/notebooks/LSDProject/results/LSDGenes-WGS_Dec3120/LSDGenes-withoutGBA_WGS_AMPPD_BURDEN_Coding_Variants.maf001]\n",
      "                          --outputRaw\n",
      "       Specify Covariate:\n",
      "                          --covar [/home/jupyter-user/notebooks/LSDProject/data/plink_pheno_withPCs_rvtestFormat.tab]\n",
      "                          --covar-name [sex,AgeBaseLine,PC1,PC2,PC3,PC4,PC5,PC6\n",
      "                         PC7,PC8,PC9,PC10], --sex\n",
      "       Specify Phenotype:\n",
      "                          --pheno [/home/jupyter-user/notebooks/LSDProject/data/plink_pheno_withPCs_rvtestFormat.tab]\n",
      "                          --inverseNormal, --useResidualAsPhenotype, --mpheno []\n",
      "                          --pheno-name [PHENO], --qtl, --multiplePheno []\n",
      "        Specify Genotype: --dosage [], --multipleAllele\n",
      "    Chromosome X Options: --xLabel [], --xParRegion []\n",
      "           People Filter: --peopleIncludeID [], --peopleIncludeFile []\n",
      "                          --peopleExcludeID [], --peopleExcludeFile []\n",
      "             Site Filter: --rangeList [], --rangeFile [], --siteFile []\n",
      "                          --siteDepthMin [], --siteDepthMax [], --siteMACMin []\n",
      "                          --annoType []\n",
      "         Genotype Filter: --indvDepthMin [], --indvDepthMax [], --indvQualMin []\n",
      "       Association Model: --single [], --burden [], --vt [], --kernel [skat\n",
      "                         skato], --meta []\n",
      "     Family-based Models: --kinship [], --xHemiKinship [], --kinshipEigen []\n",
      "                          --xHemiKinshipEigen [], --boltPlink []\n",
      "                          --boltPlinkNoCheck\n",
      "          Grouping Unit : --geneFile [], --gene [], --setList []\n",
      "                          --setFile [/home/jupyter-user/notebooks/LSDProject/data/LSD-53-genes-withoutGBA_rvtest_SetFile.txt]\n",
      "                          --set [LSDGenes53]\n",
      "        Frequency Cutoff: --freqUpper [0.01], --freqLower []\n",
      "            Missing Data: --impute [], --imputePheno, --imputeCov\n",
      "    Conditional Analysis: --condition []\n",
      "     Auxiliary Functions: --noweb [true], --hide-covar [true], --numThread []\n",
      "                          --outputID, --help\n",
      "\n",
      "Effective Options\n",
      "    --inVcf /home/jupyter-user/notebooks/LSDProject/data/LSDGenes-WGS-AMPPD_exonic.vcf.gz\n",
      "    --out /home/jupyter-user/notebooks/LSDProject/results/LSDGenes-WGS_Dec3120/LSDGenes-withoutGBA_WGS_AMPPD_BURDEN_Coding_Variants.maf001\n",
      "    --covar /home/jupyter-user/notebooks/LSDProject/data/plink_pheno_withPCs_rvtestFormat.tab\n",
      "    --covar-name sex,AgeBaseLine,PC1,PC2,PC3,PC4,PC5,PC6,PC7,PC8,PC9,PC10\n",
      "    --pheno /home/jupyter-user/notebooks/LSDProject/data/plink_pheno_withPCs_rvtestFormat.tab\n",
      "    --pheno-name PHENO\n",
      "    --kernel skat,skato\n",
      "    --setFile /home/jupyter-user/notebooks/LSDProject/data/LSD-53-genes-withoutGBA_rvtest_SetFile.txt\n",
      "    --set LSDGenes53\n",
      "    --freqUpper 0.01\n",
      "    --noweb\n",
      "    --hide-covar\n",
      "\n",
      "[INFO]\tProgram version: 20190205\n",
      "[INFO]\tAnalysis started at: Mon Jan  4 02:40:29 2021\n",
      "[INFO]\tLoaded [ 3074 ] samples from genotype files\n",
      "[INFO]\tLoaded [ 2658 ] sample phenotypes\n",
      "[WARN]\tTotal [ 416 ] samples are dropped from VCF file due to missing phenotype.\n",
      "[WARN]\tDrop sample [ BF-1018 ] from VCF file due to missing phenotype\n",
      "[WARN]\tDrop sample [ BF-1049 ] from VCF file due to missing phenotype\n",
      "[WARN]\tDrop sample [ BF-1050 ] from VCF file due to missing phenotype\n",
      "[WARN]\tDrop sample [ BF-1057 ] from VCF file due to missing phenotype\n",
      "[WARN]\tDrop sample [ BF-1071 ] from VCF file due to missing phenotype\n",
      "[WARN]\tDrop sample [ BF-1080 ] from VCF file due to missing phenotype\n",
      "[WARN]\tDrop sample [ BF-1101 ] from VCF file due to missing phenotype\n",
      "[WARN]\tDrop sample [ BF-1108 ] from VCF file due to missing phenotype\n",
      "[WARN]\tDrop sample [ BF-1154 ] from VCF file due to missing phenotype\n",
      "[WARN]\tDrop sample [ BF-1165 ] from VCF file due to missing phenotype\n",
      "[WARN]\tSkip outputting additional [ 406 ] samples due to missing phenotype.\n",
      "[INFO]\tBegin to read covariate file\n",
      "[INFO]\tLoaded 1492 male, 1166 female and 0 sex-unknown samples from /home/jupyter-user/notebooks/LSDProject/data/plink_pheno_withPCs_rvtestFormat.tab\n",
      "[INFO]\tLoaded 1625 cases, 1033 controls, and 0 missing phenotypes\n",
      "[WARN]\t-- Enabling binary phenotype mode -- \n",
      "[INFO]\tAnalysis begins with [ 2658 ] samples...\n",
      "[INFO]\tSKAT test significance will be evaluated using 10000 permutations at alpha = 0.05 weight = Beta[beta1 = 1.00, beta2 = 25.00]\n",
      "[INFO]\tSKAT-O test significance will be evaluated using weight = Beta[beta1 = 1.00, beta2 = 25.00]\n",
      "[INFO]\tLoaded [ 1 ] set to tests.\n",
      "[INFO]\tImpute missing genotype to mean (by default)\n",
      "[INFO]\tSet upper minor allele frequency limit to 0.01\n",
      "[INFO]\tAnalysis started\n",
      "[INFO]\tAnalyzed [ 1299 ] variants from [ 1 ] genes/regions\n",
      "[INFO]\tAnalysis ends at: Mon Jan  4 02:41:08 2021\n",
      "[INFO]\tAnalysis took 39 seconds\n",
      "RVTESTS finished successfully\n"
     ]
    }
   ],
   "source": [
    "#workingDir='/home/jupyter-user/notebooks/LaurieRobak1/LSD-All-genes'\n",
    "#dataDir='/home/jupyter-user/notebooks/LaurieRobak1/data'\n",
    "#rvtestCmd='/home/jupyter-user/notebooks/LaurieRobak1/tools/executable/rvtest'\n",
    "#phenoFile='/home/jupyter-user/notebooks/LaurieRobak1/data/plink_test_pheno_withPCs_rvtestFormat.tab'\n",
    "\n",
    "COV_NAMES=\"sex,AgeBaseLine,PC1,PC2,PC3,PC4,PC5,PC6,PC7,PC8,PC9,PC10\"\n",
    "vcfFile=dataDir+ 'LSDGenes-WGS-AMPPD_exonic.vcf.gz'\n",
    "outPrefix=resDir + 'LSDGenes-withoutGBA_WGS_AMPPD_BURDEN_Coding_Variants.maf001'\n",
    "\n",
    "setFile=dataDir+'LSD-53-genes-withoutGBA_rvtest_SetFile.txt'\n",
    "setName='LSDGenes53'\n",
    "\n",
    "mafCut=0.01\n",
    "\n",
    "shell_do(f'{rvtestCmd} --noweb --hide-covar --inVcf {vcfFile} \\\n",
    "--pheno {phenoFile} \\\n",
    "--pheno-name PHENO \\\n",
    "--covar {phenoFile} \\\n",
    "--covar-name {COV_NAMES} \\\n",
    "--kernel skat,skato \\\n",
    "--setFile {setFile} \\\n",
    "--set {setName} \\\n",
    "--freqUpper {mafCut} \\\n",
    "--out {outPrefix}')"
   ]
  },
  {
   "cell_type": "markdown",
   "metadata": {
    "heading_collapsed": true
   },
   "source": [
    "# MAF < 0.03 on CODING variants without GBA"
   ]
  },
  {
   "cell_type": "code",
   "execution_count": 57,
   "metadata": {
    "hidden": true
   },
   "outputs": [
    {
     "name": "stdout",
     "output_type": "stream",
     "text": [
      "Executing: /home/jupyter-user/notebooks/LSDProject/tools/rvtests/executable/rvtest --noweb --hide-covar --inVcf /home/jupyter-user/notebooks/LSDProject/data/LSDGenes-WGS-AMPPD_exonic.vcf.gz --pheno /home/jupyter-user/notebooks/LSDProject/data/plink_pheno_withPCs_rvtestFormat.tab --pheno-name PHENO --covar /home/jupyter-user/notebooks/LSDProject/data/plink_pheno_withPCs_rvtestFormat.tab --covar-name sex,AgeBaseLine,PC1,PC2,PC3,PC4,PC5,PC6,PC7,PC8,PC9,PC10 --kernel skat,skato --setFile /home/jupyter-user/notebooks/LSDProject/data/LSD-53-genes-withoutGBA_rvtest_SetFile.txt --set LSDGenes53 --freqUpper 0.03 --out /home/jupyter-user/notebooks/LSDProject/results/LSDGenes-WGS_Dec3120/LSDGenes-withoutGBA_WGS_AMPPD_BURDEN_Coding_Variants.maf003\n",
      "Thank you for using rvtests (version: 20190205, git: c86e589efef15382603300dc7f4c3394c82d69b8)\n",
      "  For documentations, refer to http://zhanxw.github.io/rvtests/\n",
      "  For questions and comments, plase send to Xiaowei Zhan <zhanxw@umich.edu>\n",
      "  For bugs and feature requests, please submit at: https://github.com/zhanxw/rvtests/issues\n",
      "\n",
      "The following parameters are available.  Ones with \"[]\" are in effect:\n",
      "\n",
      "Available Options\n",
      "      Basic Input/Output:\n",
      "                          --inVcf [/home/jupyter-user/notebooks/LSDProject/data/LSDGenes-WGS-AMPPD_exonic.vcf.gz]\n",
      "                          --inBgen [], --inBgenSample [], --inKgg []\n",
      "                          --out [/home/jupyter-user/notebooks/LSDProject/results/LSDGenes-WGS_Dec3120/LSDGenes-withoutGBA_WGS_AMPPD_BURDEN_Coding_Variants.maf003]\n",
      "                          --outputRaw\n",
      "       Specify Covariate:\n",
      "                          --covar [/home/jupyter-user/notebooks/LSDProject/data/plink_pheno_withPCs_rvtestFormat.tab]\n",
      "                          --covar-name [sex,AgeBaseLine,PC1,PC2,PC3,PC4,PC5,PC6\n",
      "                         PC7,PC8,PC9,PC10], --sex\n",
      "       Specify Phenotype:\n",
      "                          --pheno [/home/jupyter-user/notebooks/LSDProject/data/plink_pheno_withPCs_rvtestFormat.tab]\n",
      "                          --inverseNormal, --useResidualAsPhenotype, --mpheno []\n",
      "                          --pheno-name [PHENO], --qtl, --multiplePheno []\n",
      "        Specify Genotype: --dosage [], --multipleAllele\n",
      "    Chromosome X Options: --xLabel [], --xParRegion []\n",
      "           People Filter: --peopleIncludeID [], --peopleIncludeFile []\n",
      "                          --peopleExcludeID [], --peopleExcludeFile []\n",
      "             Site Filter: --rangeList [], --rangeFile [], --siteFile []\n",
      "                          --siteDepthMin [], --siteDepthMax [], --siteMACMin []\n",
      "                          --annoType []\n",
      "         Genotype Filter: --indvDepthMin [], --indvDepthMax [], --indvQualMin []\n",
      "       Association Model: --single [], --burden [], --vt [], --kernel [skat\n",
      "                         skato], --meta []\n",
      "     Family-based Models: --kinship [], --xHemiKinship [], --kinshipEigen []\n",
      "                          --xHemiKinshipEigen [], --boltPlink []\n",
      "                          --boltPlinkNoCheck\n",
      "          Grouping Unit : --geneFile [], --gene [], --setList []\n",
      "                          --setFile [/home/jupyter-user/notebooks/LSDProject/data/LSD-53-genes-withoutGBA_rvtest_SetFile.txt]\n",
      "                          --set [LSDGenes53]\n",
      "        Frequency Cutoff: --freqUpper [0.03], --freqLower []\n",
      "            Missing Data: --impute [], --imputePheno, --imputeCov\n",
      "    Conditional Analysis: --condition []\n",
      "     Auxiliary Functions: --noweb [true], --hide-covar [true], --numThread []\n",
      "                          --outputID, --help\n",
      "\n",
      "Effective Options\n",
      "    --inVcf /home/jupyter-user/notebooks/LSDProject/data/LSDGenes-WGS-AMPPD_exonic.vcf.gz\n",
      "    --out /home/jupyter-user/notebooks/LSDProject/results/LSDGenes-WGS_Dec3120/LSDGenes-withoutGBA_WGS_AMPPD_BURDEN_Coding_Variants.maf003\n",
      "    --covar /home/jupyter-user/notebooks/LSDProject/data/plink_pheno_withPCs_rvtestFormat.tab\n",
      "    --covar-name sex,AgeBaseLine,PC1,PC2,PC3,PC4,PC5,PC6,PC7,PC8,PC9,PC10\n",
      "    --pheno /home/jupyter-user/notebooks/LSDProject/data/plink_pheno_withPCs_rvtestFormat.tab\n",
      "    --pheno-name PHENO\n",
      "    --kernel skat,skato\n",
      "    --setFile /home/jupyter-user/notebooks/LSDProject/data/LSD-53-genes-withoutGBA_rvtest_SetFile.txt\n",
      "    --set LSDGenes53\n",
      "    --freqUpper 0.03\n",
      "    --noweb\n",
      "    --hide-covar\n",
      "\n",
      "[INFO]\tProgram version: 20190205\n",
      "[INFO]\tAnalysis started at: Mon Jan  4 02:47:16 2021\n",
      "[INFO]\tLoaded [ 3074 ] samples from genotype files\n",
      "[INFO]\tLoaded [ 2658 ] sample phenotypes\n",
      "[WARN]\tTotal [ 416 ] samples are dropped from VCF file due to missing phenotype.\n",
      "[WARN]\tDrop sample [ BF-1018 ] from VCF file due to missing phenotype\n",
      "[WARN]\tDrop sample [ BF-1049 ] from VCF file due to missing phenotype\n",
      "[WARN]\tDrop sample [ BF-1050 ] from VCF file due to missing phenotype\n",
      "[WARN]\tDrop sample [ BF-1057 ] from VCF file due to missing phenotype\n",
      "[WARN]\tDrop sample [ BF-1071 ] from VCF file due to missing phenotype\n",
      "[WARN]\tDrop sample [ BF-1080 ] from VCF file due to missing phenotype\n",
      "[WARN]\tDrop sample [ BF-1101 ] from VCF file due to missing phenotype\n",
      "[WARN]\tDrop sample [ BF-1108 ] from VCF file due to missing phenotype\n",
      "[WARN]\tDrop sample [ BF-1154 ] from VCF file due to missing phenotype\n",
      "[WARN]\tDrop sample [ BF-1165 ] from VCF file due to missing phenotype\n",
      "[WARN]\tSkip outputting additional [ 406 ] samples due to missing phenotype.\n",
      "[INFO]\tBegin to read covariate file\n",
      "[INFO]\tLoaded 1492 male, 1166 female and 0 sex-unknown samples from /home/jupyter-user/notebooks/LSDProject/data/plink_pheno_withPCs_rvtestFormat.tab\n",
      "[INFO]\tLoaded 1625 cases, 1033 controls, and 0 missing phenotypes\n",
      "[WARN]\t-- Enabling binary phenotype mode -- \n",
      "[INFO]\tAnalysis begins with [ 2658 ] samples...\n",
      "[INFO]\tSKAT test significance will be evaluated using 10000 permutations at alpha = 0.05 weight = Beta[beta1 = 1.00, beta2 = 25.00]\n",
      "[INFO]\tSKAT-O test significance will be evaluated using weight = Beta[beta1 = 1.00, beta2 = 25.00]\n",
      "[INFO]\tLoaded [ 1 ] set to tests.\n",
      "[INFO]\tImpute missing genotype to mean (by default)\n",
      "[INFO]\tSet upper minor allele frequency limit to 0.03\n",
      "[INFO]\tAnalysis started\n",
      "[INFO]\tAnalyzed [ 1353 ] variants from [ 1 ] genes/regions\n",
      "[INFO]\tAnalysis ends at: Mon Jan  4 02:47:58 2021\n",
      "[INFO]\tAnalysis took 42 seconds\n",
      "RVTESTS finished successfully\n"
     ]
    }
   ],
   "source": [
    "#workingDir='/home/jupyter-user/notebooks/LaurieRobak1/LSD-All-genes'\n",
    "#dataDir='/home/jupyter-user/notebooks/LaurieRobak1/data'\n",
    "#rvtestCmd='/home/jupyter-user/notebooks/LaurieRobak1/tools/executable/rvtest'\n",
    "#phenoFile='/home/jupyter-user/notebooks/LaurieRobak1/data/plink_test_pheno_withPCs_rvtestFormat.tab'\n",
    "\n",
    "COV_NAMES=\"sex,AgeBaseLine,PC1,PC2,PC3,PC4,PC5,PC6,PC7,PC8,PC9,PC10\"\n",
    "#vcfFile=workingDir+'/'+ 'LSDGenes_WGS_AMPPD_exonic.vcf.gz'\n",
    "vcfFile=dataDir+ 'LSDGenes-WGS-AMPPD_exonic.vcf.gz'\n",
    "outPrefix=resDir+'LSDGenes-withoutGBA_WGS_AMPPD_BURDEN_Coding_Variants.maf003'\n",
    "\n",
    "setFile=dataDir+'LSD-53-genes-withoutGBA_rvtest_SetFile.txt'\n",
    "setName='LSDGenes53'\n",
    "\n",
    "mafCut=0.03\n",
    "\n",
    "shell_do(f'{rvtestCmd} --noweb --hide-covar --inVcf {vcfFile} \\\n",
    "--pheno {phenoFile} \\\n",
    "--pheno-name PHENO \\\n",
    "--covar {phenoFile} \\\n",
    "--covar-name {COV_NAMES} \\\n",
    "--kernel skat,skato \\\n",
    "--setFile {setFile} \\\n",
    "--set {setName} \\\n",
    "--freqUpper {mafCut} \\\n",
    "--out {outPrefix}')"
   ]
  },
  {
   "cell_type": "code",
   "execution_count": 59,
   "metadata": {
    "hidden": true
   },
   "outputs": [
    {
     "name": "stdout",
     "output_type": "stream",
     "text": [
      "(1, 8)\n",
      "        Range                                              RANGE  \\\n",
      "0  LSDGenes53  1:16985958-17011928,1:23845077-23868294,1:4007...   \n",
      "\n",
      "   N_INFORMATIVE  NumVar  NumPolyVar       Q  rho    Pvalue  \n",
      "0           2658    1299        1034  327339    0  0.218319  \n",
      "Done\n"
     ]
    }
   ],
   "source": [
    "#shell_do('pwd')\n",
    "#inFile='/home/jupyter-user/notebooks/LaurieRobak1/LSD-All-genes/LSDGenes_WGS_AMPPD_BURDEN.NOFREQTHRESHOLD.Skat.assoc'\n",
    "#inFile='/home/jupyter-user/notebooks/LaurieRobak1/LSD-All-genes/rvtest/LSDGenes_WGS_AMPPD_BURDEN_Coding_Variants.maf003.SkatO.assoc'\n",
    "inFile=resDir+'LSDGenes-withoutGBA_WGS_AMPPD_BURDEN_Coding_Variants.maf001.SkatO.assoc'\n",
    "tmpDf=pd.read_csv(inFile, sep=\"\\t\")\n",
    "print(tmpDf.shape)\n",
    "print(tmpDf.head())\n",
    "print('Done')"
   ]
  }
 ],
 "metadata": {
  "kernelspec": {
   "display_name": "Python 3",
   "language": "python",
   "name": "python3"
  },
  "language_info": {
   "codemirror_mode": {
    "name": "ipython",
    "version": 3
   },
   "file_extension": ".py",
   "mimetype": "text/x-python",
   "name": "python",
   "nbconvert_exporter": "python",
   "pygments_lexer": "ipython3",
   "version": "3.7.9"
  },
  "toc": {
   "base_numbering": 1,
   "nav_menu": {},
   "number_sections": true,
   "sideBar": true,
   "skip_h1_title": false,
   "title_cell": "Table of Contents",
   "title_sidebar": "Contents",
   "toc_cell": false,
   "toc_position": {},
   "toc_section_display": true,
   "toc_window_display": false
  }
 },
 "nbformat": 4,
 "nbformat_minor": 2
}
